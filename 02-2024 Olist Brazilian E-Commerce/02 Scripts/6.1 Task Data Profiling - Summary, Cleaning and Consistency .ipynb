{
 "cells": [
  {
   "cell_type": "markdown",
   "id": "6ff890fe",
   "metadata": {},
   "source": [
    "# Olist Brazilian E-Commerce - Data Consistency and Wrangling Procedures"
   ]
  },
  {
   "cell_type": "markdown",
   "id": "1b784550",
   "metadata": {},
   "source": [
    "## This script contains the following:\n",
    "\n",
    "### 1. Import Libraries\n",
    "### 2. olist_orders_dataset\n",
    "### 3. olist_order_items_dataset\n",
    "### 4. olist_products_dataset\n",
    "### 5. product_category_name_translation\n",
    "### 6. olist_order_payments_dataset\n",
    "### 7. olist_sellers_dataset\n",
    "### 8. olist_customers_dataset\n",
    "### 9. olist_geolocation_dataset\n",
    "### 10. olist_order_reviews_dataset"
   ]
  },
  {
   "cell_type": "markdown",
   "id": "6028f43a",
   "metadata": {},
   "source": [
    "# 1. Import Libraries"
   ]
  },
  {
   "cell_type": "code",
   "execution_count": 1,
   "id": "4ff2dd59",
   "metadata": {},
   "outputs": [],
   "source": [
    "# Import libraries \n",
    "import pandas as pd\n",
    "import numpy as np\n",
    "import os"
   ]
  },
  {
   "cell_type": "markdown",
   "id": "9e72c198",
   "metadata": {},
   "source": [
    "# 2. olist_orders_dataset"
   ]
  },
  {
   "cell_type": "code",
   "execution_count": 7,
   "id": "dcbc9525",
   "metadata": {},
   "outputs": [],
   "source": [
    "# define a path\n",
    "\n",
    "path = r'C:\\Users\\junio\\OneDrive\\Career Foundry Project\\Achievement 6\\02-2024 Brazilian E-Commerce'"
   ]
  },
  {
   "cell_type": "markdown",
   "id": "dbfd99f3",
   "metadata": {},
   "source": [
    "## 2.1. Import Data Set"
   ]
  },
  {
   "cell_type": "code",
   "execution_count": 71,
   "id": "acaa154e",
   "metadata": {},
   "outputs": [],
   "source": [
    "# Import olist_orders_data_set\n",
    "\n",
    "df_ords = pd.read_csv(os.path.join(path, '02 Data', 'Original Data', 'olist_orders_dataset.csv'), index_col = False)"
   ]
  },
  {
   "cell_type": "code",
   "execution_count": null,
   "id": "5f76cae8",
   "metadata": {},
   "outputs": [],
   "source": [
    "# Check head\n",
    "\n",
    "df_ords.head(10)"
   ]
  },
  {
   "cell_type": "markdown",
   "id": "5824f7ba",
   "metadata": {},
   "source": [
    "## 2.2. Dropping Columns"
   ]
  },
  {
   "cell_type": "code",
   "execution_count": 72,
   "id": "5a4ef259",
   "metadata": {},
   "outputs": [],
   "source": [
    "# Dropping 'order_approved_at' column from 'olist_orders_data_set', since this column will not be relevant for the analysis.\n",
    "\n",
    "df_ords = df_ords.drop(columns = ['order_approved_at'])"
   ]
  },
  {
   "cell_type": "code",
   "execution_count": null,
   "id": "104029e8",
   "metadata": {},
   "outputs": [],
   "source": [
    "# Dropping 'order_approved_at' column from 'olist_orders_data_set', since this column will not be relevant for the analysis.\n",
    "\n",
    "df_ords = df_ords.drop(columns = ['order_approved_at'])"
   ]
  },
  {
   "cell_type": "markdown",
   "id": "f329a31d",
   "metadata": {},
   "source": [
    "## 2.3. Consistency Checks"
   ]
  },
  {
   "cell_type": "code",
   "execution_count": null,
   "id": "c8546372",
   "metadata": {},
   "outputs": [],
   "source": [
    "# Check head\n",
    "\n",
    "df_ords.head(10)"
   ]
  },
  {
   "cell_type": "code",
   "execution_count": 34,
   "id": "ff4b3b33",
   "metadata": {},
   "outputs": [
    {
     "data": {
      "text/plain": [
       "(99441, 8)"
      ]
     },
     "execution_count": 34,
     "metadata": {},
     "output_type": "execute_result"
    }
   ],
   "source": [
    "# Check shape\n",
    "\n",
    "df_ords.shape"
   ]
  },
  {
   "cell_type": "code",
   "execution_count": null,
   "id": "a0001c18",
   "metadata": {},
   "outputs": [],
   "source": [
    "# Check info\n",
    "\n",
    "df_ords.info()"
   ]
  },
  {
   "cell_type": "markdown",
   "id": "ce4d35ea",
   "metadata": {},
   "source": [
    "## 2.4. Changing Data Types"
   ]
  },
  {
   "cell_type": "code",
   "execution_count": 23,
   "id": "04e88ede",
   "metadata": {},
   "outputs": [],
   "source": [
    "# Select the timestamp columns to convert to datetime\n",
    "\n",
    "timestamp_cols = ['order_purchase_timestamp', 'order_approved_at', 'order_delivered_carrier_date', 'order_delivered_customer_date', 'order_estimated_delivery_date']"
   ]
  },
  {
   "cell_type": "code",
   "execution_count": 24,
   "id": "7cad2569",
   "metadata": {},
   "outputs": [],
   "source": [
    "# Change data type to datetime for the selected columns\n",
    "\n",
    "df_ords[timestamp_cols] = df_ords[timestamp_cols].apply(pd.to_datetime)"
   ]
  },
  {
   "cell_type": "code",
   "execution_count": null,
   "id": "1215cd94",
   "metadata": {},
   "outputs": [],
   "source": [
    "# Check data type\n",
    "\n",
    "df_ords.dtypes"
   ]
  },
  {
   "cell_type": "code",
   "execution_count": null,
   "id": "eceeb8c0",
   "metadata": {},
   "outputs": [],
   "source": [
    "# Check data type\n",
    "\n",
    "df_ords.describe()"
   ]
  },
  {
   "cell_type": "markdown",
   "id": "262f419d",
   "metadata": {},
   "source": [
    "## 2.5. Looking for missing values"
   ]
  },
  {
   "cell_type": "code",
   "execution_count": 46,
   "id": "cd590a96",
   "metadata": {},
   "outputs": [],
   "source": [
    " # DataFrame with True where missing values are present\n",
    "    \n",
    "missing_values_ords = df_ords.isnull() \n",
    "\n",
    "# Count of missing values in each column\n",
    "\n",
    "missing_counts_ords = df_ords.isnull().sum()  \n"
   ]
  },
  {
   "cell_type": "code",
   "execution_count": null,
   "id": "62e44da7",
   "metadata": {
    "scrolled": true
   },
   "outputs": [],
   "source": [
    "missing_counts_ords"
   ]
  },
  {
   "cell_type": "markdown",
   "id": "e81c4b20",
   "metadata": {},
   "source": [
    "## 2.6. Dropping  missing values"
   ]
  },
  {
   "cell_type": "code",
   "execution_count": 90,
   "id": "552f95b1",
   "metadata": {},
   "outputs": [],
   "source": [
    "# Drop missing values, the missing values account for no more than 5% of the data, thus, I decide to drop them\n",
    "\n",
    "df_ords_cleaned = df_ords.dropna(subset=['order_delivered_carrier_date', 'order_delivered_customer_date'])\n"
   ]
  },
  {
   "cell_type": "code",
   "execution_count": 93,
   "id": "4f3e1299",
   "metadata": {},
   "outputs": [],
   "source": [
    "missing_values_ords2 = df_ords_cleaned.isnull()\n",
    "\n",
    "# Count of missing values in each column\n",
    "\n",
    "missing_counts_ords2 = df_ords_cleaned.isnull().sum()  \n"
   ]
  },
  {
   "cell_type": "code",
   "execution_count": null,
   "id": "bed711c4",
   "metadata": {},
   "outputs": [],
   "source": [
    "# check missing values again\n",
    "\n",
    "missing_counts_ords2"
   ]
  },
  {
   "cell_type": "code",
   "execution_count": 97,
   "id": "c522563f",
   "metadata": {},
   "outputs": [
    {
     "data": {
      "text/plain": [
       "(96475, 7)"
      ]
     },
     "execution_count": 97,
     "metadata": {},
     "output_type": "execute_result"
    }
   ],
   "source": [
    "# Check the sahpe\n",
    "df_ords_cleaned.shape"
   ]
  },
  {
   "cell_type": "markdown",
   "id": "475e405d",
   "metadata": {},
   "source": [
    "## 2.7. Looking for Duplicates"
   ]
  },
  {
   "cell_type": "code",
   "execution_count": 98,
   "id": "419501fb",
   "metadata": {},
   "outputs": [],
   "source": [
    "# Series with True where rows are duplicates\n",
    "\n",
    "duplicate_rows_ords = df_ords_cleaned.duplicated() \n",
    "\n",
    "# Count of duplicate rows\n",
    "duplicate_count_ords = df_ords_cleaned.duplicated().sum()  "
   ]
  },
  {
   "cell_type": "code",
   "execution_count": 99,
   "id": "ead1c704",
   "metadata": {},
   "outputs": [
    {
     "data": {
      "text/plain": [
       "0"
      ]
     },
     "execution_count": 99,
     "metadata": {},
     "output_type": "execute_result"
    }
   ],
   "source": [
    "duplicate_count_ords"
   ]
  },
  {
   "cell_type": "markdown",
   "id": "e961c672",
   "metadata": {},
   "source": [
    "## 2.8. Export Wrangled 'olist_orders_dataset'"
   ]
  },
  {
   "cell_type": "code",
   "execution_count": 100,
   "id": "1a189fd5",
   "metadata": {},
   "outputs": [],
   "source": [
    "# Exporting data set\n",
    "\n",
    "df_ords_cleaned.to_csv(os.path.join(path, '02 Data','Prepared Data', 'olist_orders_dataset_wrangled.csv'))"
   ]
  },
  {
   "cell_type": "markdown",
   "id": "1cef90eb",
   "metadata": {},
   "source": [
    "\n",
    "# 3. olist_order_items_dataset\n"
   ]
  },
  {
   "cell_type": "markdown",
   "id": "e523be8f",
   "metadata": {},
   "source": [
    "## 3.1 Import Data Set"
   ]
  },
  {
   "cell_type": "code",
   "execution_count": 107,
   "id": "b6dacf0b",
   "metadata": {},
   "outputs": [],
   "source": [
    "# Importing 'olist_order_items_dataset'\n",
    "\n",
    "df_ords_items = pd.read_csv(os.path.join(path, '02 Data', 'Original Data', 'olist_order_items_dataset.csv'), index_col = False)"
   ]
  },
  {
   "cell_type": "code",
   "execution_count": 125,
   "id": "567dc835",
   "metadata": {},
   "outputs": [
    {
     "data": {
      "text/html": [
       "<div>\n",
       "<style scoped>\n",
       "    .dataframe tbody tr th:only-of-type {\n",
       "        vertical-align: middle;\n",
       "    }\n",
       "\n",
       "    .dataframe tbody tr th {\n",
       "        vertical-align: top;\n",
       "    }\n",
       "\n",
       "    .dataframe thead th {\n",
       "        text-align: right;\n",
       "    }\n",
       "</style>\n",
       "<table border=\"1\" class=\"dataframe\">\n",
       "  <thead>\n",
       "    <tr style=\"text-align: right;\">\n",
       "      <th></th>\n",
       "      <th>order_id</th>\n",
       "      <th>order_item_id</th>\n",
       "      <th>product_id</th>\n",
       "      <th>seller_id</th>\n",
       "      <th>shipping_limit_date</th>\n",
       "      <th>price</th>\n",
       "      <th>freight_value</th>\n",
       "    </tr>\n",
       "  </thead>\n",
       "  <tbody>\n",
       "    <tr>\n",
       "      <th>0</th>\n",
       "      <td>00010242fe8c5a6d1ba2dd792cb16214</td>\n",
       "      <td>1</td>\n",
       "      <td>4244733e06e7ecb4970a6e2683c13e61</td>\n",
       "      <td>48436dade18ac8b2bce089ec2a041202</td>\n",
       "      <td>2017-09-19 09:45:35</td>\n",
       "      <td>58.90</td>\n",
       "      <td>13.29</td>\n",
       "    </tr>\n",
       "    <tr>\n",
       "      <th>1</th>\n",
       "      <td>00018f77f2f0320c557190d7a144bdd3</td>\n",
       "      <td>1</td>\n",
       "      <td>e5f2d52b802189ee658865ca93d83a8f</td>\n",
       "      <td>dd7ddc04e1b6c2c614352b383efe2d36</td>\n",
       "      <td>2017-05-03 11:05:13</td>\n",
       "      <td>239.90</td>\n",
       "      <td>19.93</td>\n",
       "    </tr>\n",
       "    <tr>\n",
       "      <th>2</th>\n",
       "      <td>000229ec398224ef6ca0657da4fc703e</td>\n",
       "      <td>1</td>\n",
       "      <td>c777355d18b72b67abbeef9df44fd0fd</td>\n",
       "      <td>5b51032eddd242adc84c38acab88f23d</td>\n",
       "      <td>2018-01-18 14:48:30</td>\n",
       "      <td>199.00</td>\n",
       "      <td>17.87</td>\n",
       "    </tr>\n",
       "    <tr>\n",
       "      <th>3</th>\n",
       "      <td>00024acbcdf0a6daa1e931b038114c75</td>\n",
       "      <td>1</td>\n",
       "      <td>7634da152a4610f1595efa32f14722fc</td>\n",
       "      <td>9d7a1d34a5052409006425275ba1c2b4</td>\n",
       "      <td>2018-08-15 10:10:18</td>\n",
       "      <td>12.99</td>\n",
       "      <td>12.79</td>\n",
       "    </tr>\n",
       "    <tr>\n",
       "      <th>4</th>\n",
       "      <td>00042b26cf59d7ce69dfabb4e55b4fd9</td>\n",
       "      <td>1</td>\n",
       "      <td>ac6c3623068f30de03045865e4e10089</td>\n",
       "      <td>df560393f3a51e74553ab94004ba5c87</td>\n",
       "      <td>2017-02-13 13:57:51</td>\n",
       "      <td>199.90</td>\n",
       "      <td>18.14</td>\n",
       "    </tr>\n",
       "    <tr>\n",
       "      <th>5</th>\n",
       "      <td>00048cc3ae777c65dbb7d2a0634bc1ea</td>\n",
       "      <td>1</td>\n",
       "      <td>ef92defde845ab8450f9d70c526ef70f</td>\n",
       "      <td>6426d21aca402a131fc0a5d0960a3c90</td>\n",
       "      <td>2017-05-23 03:55:27</td>\n",
       "      <td>21.90</td>\n",
       "      <td>12.69</td>\n",
       "    </tr>\n",
       "    <tr>\n",
       "      <th>6</th>\n",
       "      <td>00054e8431b9d7675808bcb819fb4a32</td>\n",
       "      <td>1</td>\n",
       "      <td>8d4f2bb7e93e6710a28f34fa83ee7d28</td>\n",
       "      <td>7040e82f899a04d1b434b795a43b4617</td>\n",
       "      <td>2017-12-14 12:10:31</td>\n",
       "      <td>19.90</td>\n",
       "      <td>11.85</td>\n",
       "    </tr>\n",
       "    <tr>\n",
       "      <th>7</th>\n",
       "      <td>000576fe39319847cbb9d288c5617fa6</td>\n",
       "      <td>1</td>\n",
       "      <td>557d850972a7d6f792fd18ae1400d9b6</td>\n",
       "      <td>5996cddab893a4652a15592fb58ab8db</td>\n",
       "      <td>2018-07-10 12:30:45</td>\n",
       "      <td>810.00</td>\n",
       "      <td>70.75</td>\n",
       "    </tr>\n",
       "    <tr>\n",
       "      <th>8</th>\n",
       "      <td>0005a1a1728c9d785b8e2b08b904576c</td>\n",
       "      <td>1</td>\n",
       "      <td>310ae3c140ff94b03219ad0adc3c778f</td>\n",
       "      <td>a416b6a846a11724393025641d4edd5e</td>\n",
       "      <td>2018-03-26 18:31:29</td>\n",
       "      <td>145.95</td>\n",
       "      <td>11.65</td>\n",
       "    </tr>\n",
       "    <tr>\n",
       "      <th>9</th>\n",
       "      <td>0005f50442cb953dcd1d21e1fb923495</td>\n",
       "      <td>1</td>\n",
       "      <td>4535b0e1091c278dfd193e5a1d63b39f</td>\n",
       "      <td>ba143b05f0110f0dc71ad71b4466ce92</td>\n",
       "      <td>2018-07-06 14:10:56</td>\n",
       "      <td>53.99</td>\n",
       "      <td>11.40</td>\n",
       "    </tr>\n",
       "  </tbody>\n",
       "</table>\n",
       "</div>"
      ],
      "text/plain": [
       "                           order_id  order_item_id  \\\n",
       "0  00010242fe8c5a6d1ba2dd792cb16214              1   \n",
       "1  00018f77f2f0320c557190d7a144bdd3              1   \n",
       "2  000229ec398224ef6ca0657da4fc703e              1   \n",
       "3  00024acbcdf0a6daa1e931b038114c75              1   \n",
       "4  00042b26cf59d7ce69dfabb4e55b4fd9              1   \n",
       "5  00048cc3ae777c65dbb7d2a0634bc1ea              1   \n",
       "6  00054e8431b9d7675808bcb819fb4a32              1   \n",
       "7  000576fe39319847cbb9d288c5617fa6              1   \n",
       "8  0005a1a1728c9d785b8e2b08b904576c              1   \n",
       "9  0005f50442cb953dcd1d21e1fb923495              1   \n",
       "\n",
       "                         product_id                         seller_id  \\\n",
       "0  4244733e06e7ecb4970a6e2683c13e61  48436dade18ac8b2bce089ec2a041202   \n",
       "1  e5f2d52b802189ee658865ca93d83a8f  dd7ddc04e1b6c2c614352b383efe2d36   \n",
       "2  c777355d18b72b67abbeef9df44fd0fd  5b51032eddd242adc84c38acab88f23d   \n",
       "3  7634da152a4610f1595efa32f14722fc  9d7a1d34a5052409006425275ba1c2b4   \n",
       "4  ac6c3623068f30de03045865e4e10089  df560393f3a51e74553ab94004ba5c87   \n",
       "5  ef92defde845ab8450f9d70c526ef70f  6426d21aca402a131fc0a5d0960a3c90   \n",
       "6  8d4f2bb7e93e6710a28f34fa83ee7d28  7040e82f899a04d1b434b795a43b4617   \n",
       "7  557d850972a7d6f792fd18ae1400d9b6  5996cddab893a4652a15592fb58ab8db   \n",
       "8  310ae3c140ff94b03219ad0adc3c778f  a416b6a846a11724393025641d4edd5e   \n",
       "9  4535b0e1091c278dfd193e5a1d63b39f  ba143b05f0110f0dc71ad71b4466ce92   \n",
       "\n",
       "  shipping_limit_date   price  freight_value  \n",
       "0 2017-09-19 09:45:35   58.90          13.29  \n",
       "1 2017-05-03 11:05:13  239.90          19.93  \n",
       "2 2018-01-18 14:48:30  199.00          17.87  \n",
       "3 2018-08-15 10:10:18   12.99          12.79  \n",
       "4 2017-02-13 13:57:51  199.90          18.14  \n",
       "5 2017-05-23 03:55:27   21.90          12.69  \n",
       "6 2017-12-14 12:10:31   19.90          11.85  \n",
       "7 2018-07-10 12:30:45  810.00          70.75  \n",
       "8 2018-03-26 18:31:29  145.95          11.65  \n",
       "9 2018-07-06 14:10:56   53.99          11.40  "
      ]
     },
     "execution_count": 125,
     "metadata": {},
     "output_type": "execute_result"
    }
   ],
   "source": [
    "# Check head\n",
    "\n",
    "df_ords_items.head(10)"
   ]
  },
  {
   "cell_type": "code",
   "execution_count": 3,
   "id": "f0c0c298",
   "metadata": {},
   "outputs": [],
   "source": [
    "# Set display options to show all rows and columns\n",
    "\n",
    "pd.set_option('display.max_rows', None)\n",
    "pd.set_option('display.max_columns', None)"
   ]
  },
  {
   "cell_type": "markdown",
   "id": "0e431b02",
   "metadata": {},
   "source": [
    "## 3.2. Consistency Checks"
   ]
  },
  {
   "cell_type": "code",
   "execution_count": 114,
   "id": "5a3d225e",
   "metadata": {},
   "outputs": [
    {
     "data": {
      "text/plain": [
       "(112650, 7)"
      ]
     },
     "execution_count": 114,
     "metadata": {},
     "output_type": "execute_result"
    }
   ],
   "source": [
    "# Check shape\n",
    "\n",
    "df_ords_items.shape"
   ]
  },
  {
   "cell_type": "code",
   "execution_count": 126,
   "id": "6ae91348",
   "metadata": {},
   "outputs": [
    {
     "data": {
      "text/html": [
       "<div>\n",
       "<style scoped>\n",
       "    .dataframe tbody tr th:only-of-type {\n",
       "        vertical-align: middle;\n",
       "    }\n",
       "\n",
       "    .dataframe tbody tr th {\n",
       "        vertical-align: top;\n",
       "    }\n",
       "\n",
       "    .dataframe thead th {\n",
       "        text-align: right;\n",
       "    }\n",
       "</style>\n",
       "<table border=\"1\" class=\"dataframe\">\n",
       "  <thead>\n",
       "    <tr style=\"text-align: right;\">\n",
       "      <th></th>\n",
       "      <th>order_item_id</th>\n",
       "      <th>shipping_limit_date</th>\n",
       "      <th>price</th>\n",
       "      <th>freight_value</th>\n",
       "    </tr>\n",
       "  </thead>\n",
       "  <tbody>\n",
       "    <tr>\n",
       "      <th>count</th>\n",
       "      <td>112650.000000</td>\n",
       "      <td>112650</td>\n",
       "      <td>112650.000000</td>\n",
       "      <td>112650.000000</td>\n",
       "    </tr>\n",
       "    <tr>\n",
       "      <th>mean</th>\n",
       "      <td>1.197834</td>\n",
       "      <td>2018-01-07 15:36:52.192685312</td>\n",
       "      <td>120.653739</td>\n",
       "      <td>19.990320</td>\n",
       "    </tr>\n",
       "    <tr>\n",
       "      <th>min</th>\n",
       "      <td>1.000000</td>\n",
       "      <td>2016-09-19 00:15:34</td>\n",
       "      <td>0.850000</td>\n",
       "      <td>0.000000</td>\n",
       "    </tr>\n",
       "    <tr>\n",
       "      <th>25%</th>\n",
       "      <td>1.000000</td>\n",
       "      <td>2017-09-20 20:57:27.500000</td>\n",
       "      <td>39.900000</td>\n",
       "      <td>13.080000</td>\n",
       "    </tr>\n",
       "    <tr>\n",
       "      <th>50%</th>\n",
       "      <td>1.000000</td>\n",
       "      <td>2018-01-26 13:59:35</td>\n",
       "      <td>74.990000</td>\n",
       "      <td>16.260000</td>\n",
       "    </tr>\n",
       "    <tr>\n",
       "      <th>75%</th>\n",
       "      <td>1.000000</td>\n",
       "      <td>2018-05-10 14:34:00.750000128</td>\n",
       "      <td>134.900000</td>\n",
       "      <td>21.150000</td>\n",
       "    </tr>\n",
       "    <tr>\n",
       "      <th>max</th>\n",
       "      <td>21.000000</td>\n",
       "      <td>2020-04-09 22:35:08</td>\n",
       "      <td>6735.000000</td>\n",
       "      <td>409.680000</td>\n",
       "    </tr>\n",
       "    <tr>\n",
       "      <th>std</th>\n",
       "      <td>0.705124</td>\n",
       "      <td>NaN</td>\n",
       "      <td>183.633928</td>\n",
       "      <td>15.806405</td>\n",
       "    </tr>\n",
       "  </tbody>\n",
       "</table>\n",
       "</div>"
      ],
      "text/plain": [
       "       order_item_id            shipping_limit_date          price  \\\n",
       "count  112650.000000                         112650  112650.000000   \n",
       "mean        1.197834  2018-01-07 15:36:52.192685312     120.653739   \n",
       "min         1.000000            2016-09-19 00:15:34       0.850000   \n",
       "25%         1.000000     2017-09-20 20:57:27.500000      39.900000   \n",
       "50%         1.000000            2018-01-26 13:59:35      74.990000   \n",
       "75%         1.000000  2018-05-10 14:34:00.750000128     134.900000   \n",
       "max        21.000000            2020-04-09 22:35:08    6735.000000   \n",
       "std         0.705124                            NaN     183.633928   \n",
       "\n",
       "       freight_value  \n",
       "count  112650.000000  \n",
       "mean       19.990320  \n",
       "min         0.000000  \n",
       "25%        13.080000  \n",
       "50%        16.260000  \n",
       "75%        21.150000  \n",
       "max       409.680000  \n",
       "std        15.806405  "
      ]
     },
     "execution_count": 126,
     "metadata": {},
     "output_type": "execute_result"
    }
   ],
   "source": [
    "df_ords_items.describe()"
   ]
  },
  {
   "cell_type": "code",
   "execution_count": 122,
   "id": "036f1c04",
   "metadata": {},
   "outputs": [
    {
     "name": "stdout",
     "output_type": "stream",
     "text": [
      "<class 'pandas.core.frame.DataFrame'>\n",
      "RangeIndex: 112650 entries, 0 to 112649\n",
      "Data columns (total 7 columns):\n",
      " #   Column               Non-Null Count   Dtype         \n",
      "---  ------               --------------   -----         \n",
      " 0   order_id             112650 non-null  object        \n",
      " 1   order_item_id        112650 non-null  int64         \n",
      " 2   product_id           112650 non-null  object        \n",
      " 3   seller_id            112650 non-null  object        \n",
      " 4   shipping_limit_date  112650 non-null  datetime64[ns]\n",
      " 5   price                112650 non-null  float64       \n",
      " 6   freight_value        112650 non-null  float64       \n",
      "dtypes: datetime64[ns](1), float64(2), int64(1), object(3)\n",
      "memory usage: 6.0+ MB\n"
     ]
    }
   ],
   "source": [
    "# Check info\n",
    "\n",
    "df_ords_items.info()"
   ]
  },
  {
   "cell_type": "markdown",
   "id": "e53d25fc",
   "metadata": {},
   "source": [
    "## 3.3. Changing Data Types"
   ]
  },
  {
   "cell_type": "code",
   "execution_count": 117,
   "id": "15f8417e",
   "metadata": {},
   "outputs": [],
   "source": [
    "# change 'shipping_limit_date' into a datetime data-type\n",
    "\n",
    "df_ords_items['shipping_limit_date'] = df_ords_items['shipping_limit_date'].astype('datetime64[ns]')\n"
   ]
  },
  {
   "cell_type": "markdown",
   "id": "ddae5f7b",
   "metadata": {},
   "source": [
    "## 3.4. Looking for missing values"
   ]
  },
  {
   "cell_type": "code",
   "execution_count": 118,
   "id": "c01a9c5e",
   "metadata": {},
   "outputs": [],
   "source": [
    "# dataframe where missing values are present\n",
    "\n",
    "missing_values_ords_items = df_ords_items.isnull()\n",
    "\n",
    "# counts of missing values\n",
    "\n",
    "missing_counts_ords_items = df_ords_items.isnull() .sum()"
   ]
  },
  {
   "cell_type": "code",
   "execution_count": 119,
   "id": "46bdd7d5",
   "metadata": {},
   "outputs": [
    {
     "data": {
      "text/plain": [
       "order_id               0\n",
       "order_item_id          0\n",
       "product_id             0\n",
       "seller_id              0\n",
       "shipping_limit_date    0\n",
       "price                  0\n",
       "freight_value          0\n",
       "dtype: int64"
      ]
     },
     "execution_count": 119,
     "metadata": {},
     "output_type": "execute_result"
    }
   ],
   "source": [
    "missing_counts_ords_items"
   ]
  },
  {
   "cell_type": "markdown",
   "id": "2c8b34ee",
   "metadata": {},
   "source": [
    "## 3.5. Looking for Duplicates"
   ]
  },
  {
   "cell_type": "code",
   "execution_count": 120,
   "id": "80c42f95",
   "metadata": {},
   "outputs": [],
   "source": [
    "# create a df where rows are duplicates\n",
    "\n",
    "duplicate_ords_items = df_ords_items.duplicated() \n",
    "\n",
    "# Count of duplicate rows\n",
    "duplicate_counts_ords_items = df_ords_items.duplicated().sum()  "
   ]
  },
  {
   "cell_type": "code",
   "execution_count": 121,
   "id": "0dfd3def",
   "metadata": {},
   "outputs": [
    {
     "data": {
      "text/plain": [
       "0"
      ]
     },
     "execution_count": 121,
     "metadata": {},
     "output_type": "execute_result"
    }
   ],
   "source": [
    "# No duplicates found\n",
    "\n",
    "duplicate_counts_ords_items"
   ]
  },
  {
   "cell_type": "markdown",
   "id": "93a52b83",
   "metadata": {},
   "source": [
    "## 3.6. Export Wrangled 'olist_order_items_dataset'"
   ]
  },
  {
   "cell_type": "code",
   "execution_count": 124,
   "id": "d1e2da8f",
   "metadata": {},
   "outputs": [],
   "source": [
    "# Exporting cleaned version of data set\n",
    "\n",
    "df_ords_items.to_csv(os.path.join(path, '02 Data', 'Prepared Data', 'olist_order_items_wrangled.csv'))\n"
   ]
  },
  {
   "cell_type": "markdown",
   "id": "0bb5f128",
   "metadata": {},
   "source": [
    "# 4. olist_products_dataset"
   ]
  },
  {
   "cell_type": "markdown",
   "id": "df82c627",
   "metadata": {},
   "source": [
    "## 4.1. Import data set"
   ]
  },
  {
   "cell_type": "code",
   "execution_count": 9,
   "id": "71c40e40",
   "metadata": {},
   "outputs": [],
   "source": [
    "# Importing products data set\n",
    "\n",
    "df_products = pd.read_csv(os.path.join(path, '02 Data', 'Original Data', 'olist_products_dataset.csv'), index_col = False)"
   ]
  },
  {
   "cell_type": "markdown",
   "id": "75964d1a",
   "metadata": {},
   "source": [
    "## 4.2. Consistency Checks"
   ]
  },
  {
   "cell_type": "code",
   "execution_count": 11,
   "id": "d36e4de9",
   "metadata": {},
   "outputs": [
    {
     "data": {
      "text/html": [
       "<div>\n",
       "<style scoped>\n",
       "    .dataframe tbody tr th:only-of-type {\n",
       "        vertical-align: middle;\n",
       "    }\n",
       "\n",
       "    .dataframe tbody tr th {\n",
       "        vertical-align: top;\n",
       "    }\n",
       "\n",
       "    .dataframe thead th {\n",
       "        text-align: right;\n",
       "    }\n",
       "</style>\n",
       "<table border=\"1\" class=\"dataframe\">\n",
       "  <thead>\n",
       "    <tr style=\"text-align: right;\">\n",
       "      <th></th>\n",
       "      <th>product_id</th>\n",
       "      <th>product_category_name</th>\n",
       "      <th>product_name_lenght</th>\n",
       "      <th>product_description_lenght</th>\n",
       "      <th>product_photos_qty</th>\n",
       "      <th>product_weight_g</th>\n",
       "      <th>product_length_cm</th>\n",
       "      <th>product_height_cm</th>\n",
       "      <th>product_width_cm</th>\n",
       "    </tr>\n",
       "  </thead>\n",
       "  <tbody>\n",
       "    <tr>\n",
       "      <th>0</th>\n",
       "      <td>1e9e8ef04dbcff4541ed26657ea517e5</td>\n",
       "      <td>perfumaria</td>\n",
       "      <td>40.0</td>\n",
       "      <td>287.0</td>\n",
       "      <td>1.0</td>\n",
       "      <td>225.0</td>\n",
       "      <td>16.0</td>\n",
       "      <td>10.0</td>\n",
       "      <td>14.0</td>\n",
       "    </tr>\n",
       "    <tr>\n",
       "      <th>1</th>\n",
       "      <td>3aa071139cb16b67ca9e5dea641aaa2f</td>\n",
       "      <td>artes</td>\n",
       "      <td>44.0</td>\n",
       "      <td>276.0</td>\n",
       "      <td>1.0</td>\n",
       "      <td>1000.0</td>\n",
       "      <td>30.0</td>\n",
       "      <td>18.0</td>\n",
       "      <td>20.0</td>\n",
       "    </tr>\n",
       "    <tr>\n",
       "      <th>2</th>\n",
       "      <td>96bd76ec8810374ed1b65e291975717f</td>\n",
       "      <td>esporte_lazer</td>\n",
       "      <td>46.0</td>\n",
       "      <td>250.0</td>\n",
       "      <td>1.0</td>\n",
       "      <td>154.0</td>\n",
       "      <td>18.0</td>\n",
       "      <td>9.0</td>\n",
       "      <td>15.0</td>\n",
       "    </tr>\n",
       "    <tr>\n",
       "      <th>3</th>\n",
       "      <td>cef67bcfe19066a932b7673e239eb23d</td>\n",
       "      <td>bebes</td>\n",
       "      <td>27.0</td>\n",
       "      <td>261.0</td>\n",
       "      <td>1.0</td>\n",
       "      <td>371.0</td>\n",
       "      <td>26.0</td>\n",
       "      <td>4.0</td>\n",
       "      <td>26.0</td>\n",
       "    </tr>\n",
       "    <tr>\n",
       "      <th>4</th>\n",
       "      <td>9dc1a7de274444849c219cff195d0b71</td>\n",
       "      <td>utilidades_domesticas</td>\n",
       "      <td>37.0</td>\n",
       "      <td>402.0</td>\n",
       "      <td>4.0</td>\n",
       "      <td>625.0</td>\n",
       "      <td>20.0</td>\n",
       "      <td>17.0</td>\n",
       "      <td>13.0</td>\n",
       "    </tr>\n",
       "    <tr>\n",
       "      <th>5</th>\n",
       "      <td>41d3672d4792049fa1779bb35283ed13</td>\n",
       "      <td>instrumentos_musicais</td>\n",
       "      <td>60.0</td>\n",
       "      <td>745.0</td>\n",
       "      <td>1.0</td>\n",
       "      <td>200.0</td>\n",
       "      <td>38.0</td>\n",
       "      <td>5.0</td>\n",
       "      <td>11.0</td>\n",
       "    </tr>\n",
       "    <tr>\n",
       "      <th>6</th>\n",
       "      <td>732bd381ad09e530fe0a5f457d81becb</td>\n",
       "      <td>cool_stuff</td>\n",
       "      <td>56.0</td>\n",
       "      <td>1272.0</td>\n",
       "      <td>4.0</td>\n",
       "      <td>18350.0</td>\n",
       "      <td>70.0</td>\n",
       "      <td>24.0</td>\n",
       "      <td>44.0</td>\n",
       "    </tr>\n",
       "    <tr>\n",
       "      <th>7</th>\n",
       "      <td>2548af3e6e77a690cf3eb6368e9ab61e</td>\n",
       "      <td>moveis_decoracao</td>\n",
       "      <td>56.0</td>\n",
       "      <td>184.0</td>\n",
       "      <td>2.0</td>\n",
       "      <td>900.0</td>\n",
       "      <td>40.0</td>\n",
       "      <td>8.0</td>\n",
       "      <td>40.0</td>\n",
       "    </tr>\n",
       "    <tr>\n",
       "      <th>8</th>\n",
       "      <td>37cc742be07708b53a98702e77a21a02</td>\n",
       "      <td>eletrodomesticos</td>\n",
       "      <td>57.0</td>\n",
       "      <td>163.0</td>\n",
       "      <td>1.0</td>\n",
       "      <td>400.0</td>\n",
       "      <td>27.0</td>\n",
       "      <td>13.0</td>\n",
       "      <td>17.0</td>\n",
       "    </tr>\n",
       "    <tr>\n",
       "      <th>9</th>\n",
       "      <td>8c92109888e8cdf9d66dc7e463025574</td>\n",
       "      <td>brinquedos</td>\n",
       "      <td>36.0</td>\n",
       "      <td>1156.0</td>\n",
       "      <td>1.0</td>\n",
       "      <td>600.0</td>\n",
       "      <td>17.0</td>\n",
       "      <td>10.0</td>\n",
       "      <td>12.0</td>\n",
       "    </tr>\n",
       "  </tbody>\n",
       "</table>\n",
       "</div>"
      ],
      "text/plain": [
       "                         product_id  product_category_name  \\\n",
       "0  1e9e8ef04dbcff4541ed26657ea517e5             perfumaria   \n",
       "1  3aa071139cb16b67ca9e5dea641aaa2f                  artes   \n",
       "2  96bd76ec8810374ed1b65e291975717f          esporte_lazer   \n",
       "3  cef67bcfe19066a932b7673e239eb23d                  bebes   \n",
       "4  9dc1a7de274444849c219cff195d0b71  utilidades_domesticas   \n",
       "5  41d3672d4792049fa1779bb35283ed13  instrumentos_musicais   \n",
       "6  732bd381ad09e530fe0a5f457d81becb             cool_stuff   \n",
       "7  2548af3e6e77a690cf3eb6368e9ab61e       moveis_decoracao   \n",
       "8  37cc742be07708b53a98702e77a21a02       eletrodomesticos   \n",
       "9  8c92109888e8cdf9d66dc7e463025574             brinquedos   \n",
       "\n",
       "   product_name_lenght  product_description_lenght  product_photos_qty  \\\n",
       "0                 40.0                       287.0                 1.0   \n",
       "1                 44.0                       276.0                 1.0   \n",
       "2                 46.0                       250.0                 1.0   \n",
       "3                 27.0                       261.0                 1.0   \n",
       "4                 37.0                       402.0                 4.0   \n",
       "5                 60.0                       745.0                 1.0   \n",
       "6                 56.0                      1272.0                 4.0   \n",
       "7                 56.0                       184.0                 2.0   \n",
       "8                 57.0                       163.0                 1.0   \n",
       "9                 36.0                      1156.0                 1.0   \n",
       "\n",
       "   product_weight_g  product_length_cm  product_height_cm  product_width_cm  \n",
       "0             225.0               16.0               10.0              14.0  \n",
       "1            1000.0               30.0               18.0              20.0  \n",
       "2             154.0               18.0                9.0              15.0  \n",
       "3             371.0               26.0                4.0              26.0  \n",
       "4             625.0               20.0               17.0              13.0  \n",
       "5             200.0               38.0                5.0              11.0  \n",
       "6           18350.0               70.0               24.0              44.0  \n",
       "7             900.0               40.0                8.0              40.0  \n",
       "8             400.0               27.0               13.0              17.0  \n",
       "9             600.0               17.0               10.0              12.0  "
      ]
     },
     "execution_count": 11,
     "metadata": {},
     "output_type": "execute_result"
    }
   ],
   "source": [
    "# Check head\n",
    "\n",
    "df_products.head(10)"
   ]
  },
  {
   "cell_type": "code",
   "execution_count": 12,
   "id": "bc75b19e",
   "metadata": {},
   "outputs": [
    {
     "data": {
      "text/plain": [
       "(32951, 9)"
      ]
     },
     "execution_count": 12,
     "metadata": {},
     "output_type": "execute_result"
    }
   ],
   "source": [
    "# Check Shape\n",
    "\n",
    "df_products.shape"
   ]
  },
  {
   "cell_type": "code",
   "execution_count": 67,
   "id": "68bbac86",
   "metadata": {},
   "outputs": [
    {
     "data": {
      "text/html": [
       "<div>\n",
       "<style scoped>\n",
       "    .dataframe tbody tr th:only-of-type {\n",
       "        vertical-align: middle;\n",
       "    }\n",
       "\n",
       "    .dataframe tbody tr th {\n",
       "        vertical-align: top;\n",
       "    }\n",
       "\n",
       "    .dataframe thead th {\n",
       "        text-align: right;\n",
       "    }\n",
       "</style>\n",
       "<table border=\"1\" class=\"dataframe\">\n",
       "  <thead>\n",
       "    <tr style=\"text-align: right;\">\n",
       "      <th></th>\n",
       "      <th>product_id</th>\n",
       "      <th>product_category_name</th>\n",
       "    </tr>\n",
       "  </thead>\n",
       "  <tbody>\n",
       "    <tr>\n",
       "      <th>count</th>\n",
       "      <td>32951</td>\n",
       "      <td>32341</td>\n",
       "    </tr>\n",
       "    <tr>\n",
       "      <th>unique</th>\n",
       "      <td>32951</td>\n",
       "      <td>73</td>\n",
       "    </tr>\n",
       "    <tr>\n",
       "      <th>top</th>\n",
       "      <td>1e9e8ef04dbcff4541ed26657ea517e5</td>\n",
       "      <td>cama_mesa_banho</td>\n",
       "    </tr>\n",
       "    <tr>\n",
       "      <th>freq</th>\n",
       "      <td>1</td>\n",
       "      <td>3029</td>\n",
       "    </tr>\n",
       "  </tbody>\n",
       "</table>\n",
       "</div>"
      ],
      "text/plain": [
       "                              product_id product_category_name\n",
       "count                              32951                 32341\n",
       "unique                             32951                    73\n",
       "top     1e9e8ef04dbcff4541ed26657ea517e5       cama_mesa_banho\n",
       "freq                                   1                  3029"
      ]
     },
     "execution_count": 67,
     "metadata": {},
     "output_type": "execute_result"
    }
   ],
   "source": [
    "# check counts\n",
    "\n",
    "df_products.describe()"
   ]
  },
  {
   "cell_type": "code",
   "execution_count": null,
   "id": "debc12ee",
   "metadata": {},
   "outputs": [],
   "source": [
    "# check counts of 'product_category_name'\n",
    "\n",
    "df_products['product_category_name'].value_counts(dropna = False)"
   ]
  },
  {
   "cell_type": "code",
   "execution_count": 20,
   "id": "a7118e53",
   "metadata": {},
   "outputs": [
    {
     "data": {
      "text/plain": [
       "product_id                     object\n",
       "product_category_name          object\n",
       "product_name_lenght           float64\n",
       "product_description_lenght    float64\n",
       "product_photos_qty            float64\n",
       "product_weight_g              float64\n",
       "product_length_cm             float64\n",
       "product_height_cm             float64\n",
       "product_width_cm              float64\n",
       "dtype: object"
      ]
     },
     "execution_count": 20,
     "metadata": {},
     "output_type": "execute_result"
    }
   ],
   "source": [
    "# Check data types\n",
    "\n",
    "df_products.dtypes"
   ]
  },
  {
   "cell_type": "markdown",
   "id": "a317f3aa",
   "metadata": {},
   "source": [
    "## 4.3. Dropping Unnecessary Columns"
   ]
  },
  {
   "cell_type": "code",
   "execution_count": 21,
   "id": "d96fa9ec",
   "metadata": {},
   "outputs": [],
   "source": [
    "# Drop columns that will be not relevant for the analysis\n",
    "\n",
    "df_products = df_products.drop(columns = ['product_name_lenght', 'product_description_lenght', 'product_photos_qty', 'product_weight_g', 'product_length_cm', 'product_height_cm', 'product_width_cm'])"
   ]
  },
  {
   "cell_type": "code",
   "execution_count": 22,
   "id": "acf10a67",
   "metadata": {},
   "outputs": [
    {
     "data": {
      "text/plain": [
       "(32951, 2)"
      ]
     },
     "execution_count": 22,
     "metadata": {},
     "output_type": "execute_result"
    }
   ],
   "source": [
    "# Check Shape\n",
    "\n",
    "df_products.shape"
   ]
  },
  {
   "cell_type": "code",
   "execution_count": 28,
   "id": "5f07b6ee",
   "metadata": {},
   "outputs": [
    {
     "name": "stdout",
     "output_type": "stream",
     "text": [
      "<class 'pandas.core.frame.DataFrame'>\n",
      "RangeIndex: 32951 entries, 0 to 32950\n",
      "Data columns (total 2 columns):\n",
      " #   Column                 Non-Null Count  Dtype \n",
      "---  ------                 --------------  ----- \n",
      " 0   product_id             32951 non-null  object\n",
      " 1   product_category_name  32341 non-null  object\n",
      "dtypes: object(2)\n",
      "memory usage: 515.0+ KB\n"
     ]
    }
   ],
   "source": [
    "df_products.info()"
   ]
  },
  {
   "cell_type": "markdown",
   "id": "4820075a",
   "metadata": {},
   "source": [
    "## 4.4. Looking for missing values"
   ]
  },
  {
   "cell_type": "code",
   "execution_count": 30,
   "id": "66eb8489",
   "metadata": {},
   "outputs": [],
   "source": [
    "# dataframe where missing values are present\n",
    "\n",
    "missing_values_products = df_products.isnull()\n",
    "\n",
    "# counts of missing values\n",
    "\n",
    "missing_counts_products = df_products.isnull() .sum()"
   ]
  },
  {
   "cell_type": "code",
   "execution_count": 31,
   "id": "b3c59233",
   "metadata": {},
   "outputs": [
    {
     "data": {
      "text/plain": [
       "product_id                 0\n",
       "product_category_name    610\n",
       "dtype: int64"
      ]
     },
     "execution_count": 31,
     "metadata": {},
     "output_type": "execute_result"
    }
   ],
   "source": [
    "missing_counts_products"
   ]
  },
  {
   "cell_type": "code",
   "execution_count": 35,
   "id": "0ff219f9",
   "metadata": {},
   "outputs": [],
   "source": [
    "# Drop missing values\n",
    "\n",
    "df_prods_cleaned = df_products.dropna(subset=['product_category_name'])"
   ]
  },
  {
   "cell_type": "code",
   "execution_count": 79,
   "id": "1241c5a8",
   "metadata": {},
   "outputs": [
    {
     "data": {
      "text/plain": [
       "(32341, 2)"
      ]
     },
     "execution_count": 79,
     "metadata": {},
     "output_type": "execute_result"
    }
   ],
   "source": [
    "# check new shape\n",
    "\n",
    "df_prods_cleaned.shape"
   ]
  },
  {
   "cell_type": "code",
   "execution_count": null,
   "id": "b3649b55",
   "metadata": {},
   "outputs": [],
   "source": [
    "df_products.isnull() .sum()"
   ]
  },
  {
   "cell_type": "code",
   "execution_count": 52,
   "id": "77fffc08",
   "metadata": {},
   "outputs": [
    {
     "name": "stdout",
     "output_type": "stream",
     "text": [
      "No missing values found in the DataFrame.\n"
     ]
    }
   ],
   "source": [
    "# Check for missing values\n",
    "\n",
    "missing_values_prods2 = df_prods_cleaned.isnull().any()\n",
    "\n",
    "# Print columns with missing values, if any\n",
    "if missing_values_prods2.any():\n",
    "    print(missing_values_prods2[missing_values_prods2])\n",
    "else: \n",
    "    print('No missing values found in the DataFrame.')\n"
   ]
  },
  {
   "cell_type": "markdown",
   "id": "fde4b2db",
   "metadata": {},
   "source": [
    "## 4.4. Duplicates"
   ]
  },
  {
   "cell_type": "code",
   "execution_count": 58,
   "id": "6e0884c4",
   "metadata": {},
   "outputs": [],
   "source": [
    "# check duplicates values\n",
    "\n",
    "duplicates_prods = df_prods_cleaned.duplicated()\n",
    "\n",
    " # Count of duplicate rows\n",
    "duplicate_counts_ords_items = df_prods_cleaned.duplicated().sum()  "
   ]
  },
  {
   "cell_type": "code",
   "execution_count": 59,
   "id": "3dcfbd57",
   "metadata": {},
   "outputs": [
    {
     "data": {
      "text/plain": [
       "0"
      ]
     },
     "execution_count": 59,
     "metadata": {},
     "output_type": "execute_result"
    }
   ],
   "source": [
    "#check counts\n",
    "\n",
    "# no duplicates found\n",
    "\n",
    "duplicate_counts_ords_items"
   ]
  },
  {
   "cell_type": "markdown",
   "id": "a70728e9",
   "metadata": {},
   "source": [
    "## 4.5. Export Wrangled 'olist_products_dataset'"
   ]
  },
  {
   "cell_type": "code",
   "execution_count": 60,
   "id": "5810ee40",
   "metadata": {},
   "outputs": [],
   "source": [
    "# Exporting wrangled df\n",
    "\n",
    "df_prods_cleaned.to_csv(os.path.join(path, '02 Data', 'Prepared Data','olist_products_wrangled.csv'))"
   ]
  },
  {
   "cell_type": "markdown",
   "id": "423c240e",
   "metadata": {},
   "source": [
    "# 5. product_category_name_translation"
   ]
  },
  {
   "cell_type": "markdown",
   "id": "940cc5e4",
   "metadata": {},
   "source": [
    "## 5.1. Import data set"
   ]
  },
  {
   "cell_type": "code",
   "execution_count": 64,
   "id": "b316cdb6",
   "metadata": {},
   "outputs": [],
   "source": [
    "# Import product_category_name_translation\n",
    "\n",
    "df_prods_category_translation = pd.read_csv(os.path.join(path, '02 Data', 'Original Data', 'product_category_name_translation.csv'), index_col = False)"
   ]
  },
  {
   "cell_type": "code",
   "execution_count": 74,
   "id": "ba1a6179",
   "metadata": {
    "scrolled": true
   },
   "outputs": [
    {
     "data": {
      "text/plain": [
       "(71, 2)"
      ]
     },
     "execution_count": 74,
     "metadata": {},
     "output_type": "execute_result"
    }
   ],
   "source": [
    "# check info\n",
    "\n",
    "df_prods_category_translation.shape"
   ]
  },
  {
   "cell_type": "code",
   "execution_count": 72,
   "id": "41f7e419",
   "metadata": {},
   "outputs": [
    {
     "data": {
      "text/html": [
       "<div>\n",
       "<style scoped>\n",
       "    .dataframe tbody tr th:only-of-type {\n",
       "        vertical-align: middle;\n",
       "    }\n",
       "\n",
       "    .dataframe tbody tr th {\n",
       "        vertical-align: top;\n",
       "    }\n",
       "\n",
       "    .dataframe thead th {\n",
       "        text-align: right;\n",
       "    }\n",
       "</style>\n",
       "<table border=\"1\" class=\"dataframe\">\n",
       "  <thead>\n",
       "    <tr style=\"text-align: right;\">\n",
       "      <th></th>\n",
       "      <th>product_category_name</th>\n",
       "      <th>product_category_name_english</th>\n",
       "    </tr>\n",
       "  </thead>\n",
       "  <tbody>\n",
       "    <tr>\n",
       "      <th>0</th>\n",
       "      <td>beleza_saude</td>\n",
       "      <td>health_beauty</td>\n",
       "    </tr>\n",
       "    <tr>\n",
       "      <th>1</th>\n",
       "      <td>informatica_acessorios</td>\n",
       "      <td>computers_accessories</td>\n",
       "    </tr>\n",
       "    <tr>\n",
       "      <th>2</th>\n",
       "      <td>automotivo</td>\n",
       "      <td>auto</td>\n",
       "    </tr>\n",
       "    <tr>\n",
       "      <th>3</th>\n",
       "      <td>cama_mesa_banho</td>\n",
       "      <td>bed_bath_table</td>\n",
       "    </tr>\n",
       "    <tr>\n",
       "      <th>4</th>\n",
       "      <td>moveis_decoracao</td>\n",
       "      <td>furniture_decor</td>\n",
       "    </tr>\n",
       "  </tbody>\n",
       "</table>\n",
       "</div>"
      ],
      "text/plain": [
       "    product_category_name product_category_name_english\n",
       "0            beleza_saude                 health_beauty\n",
       "1  informatica_acessorios         computers_accessories\n",
       "2              automotivo                          auto\n",
       "3         cama_mesa_banho                bed_bath_table\n",
       "4        moveis_decoracao               furniture_decor"
      ]
     },
     "execution_count": 72,
     "metadata": {},
     "output_type": "execute_result"
    }
   ],
   "source": [
    "# check head\n",
    "\n",
    "df_prods_category_translation.head()"
   ]
  },
  {
   "cell_type": "markdown",
   "id": "2dcdbbda",
   "metadata": {},
   "source": [
    "## 5.2.  Merging products_name data set with the products_name_eng_translation"
   ]
  },
  {
   "cell_type": "code",
   "execution_count": 76,
   "id": "80328de7",
   "metadata": {},
   "outputs": [],
   "source": [
    "# Merge products category names with the 'name english translation'\n",
    "\n",
    "df_prods_merged = df_prods_cleaned.merge(df_prods_category_translation, on = 'product_category_name', indicator = True)"
   ]
  },
  {
   "cell_type": "code",
   "execution_count": 77,
   "id": "f81728da",
   "metadata": {},
   "outputs": [
    {
     "data": {
      "text/plain": [
       "(32328, 4)"
      ]
     },
     "execution_count": 77,
     "metadata": {},
     "output_type": "execute_result"
    }
   ],
   "source": [
    "# check shape\n",
    "\n",
    "df_prods_merged.shape"
   ]
  },
  {
   "cell_type": "code",
   "execution_count": 83,
   "id": "be50f125",
   "metadata": {},
   "outputs": [
    {
     "data": {
      "text/plain": [
       "_merge\n",
       "both          32328\n",
       "left_only         0\n",
       "right_only        0\n",
       "Name: count, dtype: int64"
      ]
     },
     "execution_count": 83,
     "metadata": {},
     "output_type": "execute_result"
    }
   ],
   "source": [
    "# check how the merge procedure worked\n",
    "\n",
    "df_prods_merged['_merge'].value_counts()"
   ]
  },
  {
   "cell_type": "code",
   "execution_count": 85,
   "id": "0e64541b",
   "metadata": {},
   "outputs": [
    {
     "data": {
      "text/html": [
       "<div>\n",
       "<style scoped>\n",
       "    .dataframe tbody tr th:only-of-type {\n",
       "        vertical-align: middle;\n",
       "    }\n",
       "\n",
       "    .dataframe tbody tr th {\n",
       "        vertical-align: top;\n",
       "    }\n",
       "\n",
       "    .dataframe thead th {\n",
       "        text-align: right;\n",
       "    }\n",
       "</style>\n",
       "<table border=\"1\" class=\"dataframe\">\n",
       "  <thead>\n",
       "    <tr style=\"text-align: right;\">\n",
       "      <th></th>\n",
       "      <th>product_id</th>\n",
       "      <th>product_category_name</th>\n",
       "      <th>product_category_name_english</th>\n",
       "      <th>_merge</th>\n",
       "    </tr>\n",
       "  </thead>\n",
       "  <tbody>\n",
       "    <tr>\n",
       "      <th>0</th>\n",
       "      <td>1e9e8ef04dbcff4541ed26657ea517e5</td>\n",
       "      <td>perfumaria</td>\n",
       "      <td>perfumery</td>\n",
       "      <td>both</td>\n",
       "    </tr>\n",
       "    <tr>\n",
       "      <th>1</th>\n",
       "      <td>6a2fb4dd53d2cdb88e0432f1284a004c</td>\n",
       "      <td>perfumaria</td>\n",
       "      <td>perfumery</td>\n",
       "      <td>both</td>\n",
       "    </tr>\n",
       "    <tr>\n",
       "      <th>2</th>\n",
       "      <td>0d009643171aee696f4733340bc2fdd0</td>\n",
       "      <td>perfumaria</td>\n",
       "      <td>perfumery</td>\n",
       "      <td>both</td>\n",
       "    </tr>\n",
       "    <tr>\n",
       "      <th>3</th>\n",
       "      <td>b1eae565a61935e0011ee7682fef9dc9</td>\n",
       "      <td>perfumaria</td>\n",
       "      <td>perfumery</td>\n",
       "      <td>both</td>\n",
       "    </tr>\n",
       "    <tr>\n",
       "      <th>4</th>\n",
       "      <td>8da90b37f0fb171b4877c124f965b1f6</td>\n",
       "      <td>perfumaria</td>\n",
       "      <td>perfumery</td>\n",
       "      <td>both</td>\n",
       "    </tr>\n",
       "  </tbody>\n",
       "</table>\n",
       "</div>"
      ],
      "text/plain": [
       "                         product_id product_category_name  \\\n",
       "0  1e9e8ef04dbcff4541ed26657ea517e5            perfumaria   \n",
       "1  6a2fb4dd53d2cdb88e0432f1284a004c            perfumaria   \n",
       "2  0d009643171aee696f4733340bc2fdd0            perfumaria   \n",
       "3  b1eae565a61935e0011ee7682fef9dc9            perfumaria   \n",
       "4  8da90b37f0fb171b4877c124f965b1f6            perfumaria   \n",
       "\n",
       "  product_category_name_english _merge  \n",
       "0                     perfumery   both  \n",
       "1                     perfumery   both  \n",
       "2                     perfumery   both  \n",
       "3                     perfumery   both  \n",
       "4                     perfumery   both  "
      ]
     },
     "execution_count": 85,
     "metadata": {},
     "output_type": "execute_result"
    }
   ],
   "source": [
    "# check head\n",
    "\n",
    "df_prods_merged.head()"
   ]
  },
  {
   "cell_type": "markdown",
   "id": "5a624e28",
   "metadata": {},
   "source": [
    "## 5.3. Dropping Unnecessary Columns"
   ]
  },
  {
   "cell_type": "code",
   "execution_count": 87,
   "id": "63af4926",
   "metadata": {},
   "outputs": [],
   "source": [
    "# drop _merge and product_category_name columns\n",
    "\n",
    "df_prods_category_eng = df_prods_merged.drop(columns = ['product_category_name', '_merge'])"
   ]
  },
  {
   "cell_type": "code",
   "execution_count": 88,
   "id": "81162f52",
   "metadata": {},
   "outputs": [
    {
     "data": {
      "text/html": [
       "<div>\n",
       "<style scoped>\n",
       "    .dataframe tbody tr th:only-of-type {\n",
       "        vertical-align: middle;\n",
       "    }\n",
       "\n",
       "    .dataframe tbody tr th {\n",
       "        vertical-align: top;\n",
       "    }\n",
       "\n",
       "    .dataframe thead th {\n",
       "        text-align: right;\n",
       "    }\n",
       "</style>\n",
       "<table border=\"1\" class=\"dataframe\">\n",
       "  <thead>\n",
       "    <tr style=\"text-align: right;\">\n",
       "      <th></th>\n",
       "      <th>product_id</th>\n",
       "      <th>product_category_name_english</th>\n",
       "    </tr>\n",
       "  </thead>\n",
       "  <tbody>\n",
       "    <tr>\n",
       "      <th>0</th>\n",
       "      <td>1e9e8ef04dbcff4541ed26657ea517e5</td>\n",
       "      <td>perfumery</td>\n",
       "    </tr>\n",
       "    <tr>\n",
       "      <th>1</th>\n",
       "      <td>6a2fb4dd53d2cdb88e0432f1284a004c</td>\n",
       "      <td>perfumery</td>\n",
       "    </tr>\n",
       "    <tr>\n",
       "      <th>2</th>\n",
       "      <td>0d009643171aee696f4733340bc2fdd0</td>\n",
       "      <td>perfumery</td>\n",
       "    </tr>\n",
       "    <tr>\n",
       "      <th>3</th>\n",
       "      <td>b1eae565a61935e0011ee7682fef9dc9</td>\n",
       "      <td>perfumery</td>\n",
       "    </tr>\n",
       "    <tr>\n",
       "      <th>4</th>\n",
       "      <td>8da90b37f0fb171b4877c124f965b1f6</td>\n",
       "      <td>perfumery</td>\n",
       "    </tr>\n",
       "  </tbody>\n",
       "</table>\n",
       "</div>"
      ],
      "text/plain": [
       "                         product_id product_category_name_english\n",
       "0  1e9e8ef04dbcff4541ed26657ea517e5                     perfumery\n",
       "1  6a2fb4dd53d2cdb88e0432f1284a004c                     perfumery\n",
       "2  0d009643171aee696f4733340bc2fdd0                     perfumery\n",
       "3  b1eae565a61935e0011ee7682fef9dc9                     perfumery\n",
       "4  8da90b37f0fb171b4877c124f965b1f6                     perfumery"
      ]
     },
     "execution_count": 88,
     "metadata": {},
     "output_type": "execute_result"
    }
   ],
   "source": [
    "# check head\n",
    "\n",
    "df_prods_category_eng.head()"
   ]
  },
  {
   "cell_type": "code",
   "execution_count": 89,
   "id": "0c836b69",
   "metadata": {},
   "outputs": [
    {
     "data": {
      "text/plain": [
       "(32328, 2)"
      ]
     },
     "execution_count": 89,
     "metadata": {},
     "output_type": "execute_result"
    }
   ],
   "source": [
    "# check shape\n",
    "df_prods_category_eng.shape"
   ]
  },
  {
   "cell_type": "markdown",
   "id": "249feffa",
   "metadata": {},
   "source": [
    "## 5.4. Export merged products category name(english) data set"
   ]
  },
  {
   "cell_type": "code",
   "execution_count": 90,
   "id": "e015c8d9",
   "metadata": {},
   "outputs": [],
   "source": [
    "# Exporting english version of products categerory name\n",
    "\n",
    "df_prods_category_eng.to_csv(os.path.join(path, '02 Data', 'Prepared Data','olist_products_eng_merged.csv'))"
   ]
  },
  {
   "cell_type": "markdown",
   "id": "c797c881",
   "metadata": {},
   "source": [
    "# 6. olist_order_payments_dataset"
   ]
  },
  {
   "cell_type": "markdown",
   "id": "e5ee016e",
   "metadata": {},
   "source": [
    "## 6.1. Import Data Set"
   ]
  },
  {
   "cell_type": "code",
   "execution_count": 91,
   "id": "5818452a",
   "metadata": {},
   "outputs": [],
   "source": [
    "# Importing 'order payments' data set\n",
    "\n",
    "df_ords_payments = pd.read_csv(os.path.join(path, '02 Data', 'Original Data', 'olist_order_payments_dataset.csv'), index_col = False)"
   ]
  },
  {
   "cell_type": "markdown",
   "id": "967f5da7",
   "metadata": {},
   "source": [
    "## 6.2. Consistency Checks"
   ]
  },
  {
   "cell_type": "code",
   "execution_count": 93,
   "id": "7f9bebb5",
   "metadata": {},
   "outputs": [
    {
     "data": {
      "text/html": [
       "<div>\n",
       "<style scoped>\n",
       "    .dataframe tbody tr th:only-of-type {\n",
       "        vertical-align: middle;\n",
       "    }\n",
       "\n",
       "    .dataframe tbody tr th {\n",
       "        vertical-align: top;\n",
       "    }\n",
       "\n",
       "    .dataframe thead th {\n",
       "        text-align: right;\n",
       "    }\n",
       "</style>\n",
       "<table border=\"1\" class=\"dataframe\">\n",
       "  <thead>\n",
       "    <tr style=\"text-align: right;\">\n",
       "      <th></th>\n",
       "      <th>order_id</th>\n",
       "      <th>payment_sequential</th>\n",
       "      <th>payment_type</th>\n",
       "      <th>payment_installments</th>\n",
       "      <th>payment_value</th>\n",
       "    </tr>\n",
       "  </thead>\n",
       "  <tbody>\n",
       "    <tr>\n",
       "      <th>0</th>\n",
       "      <td>b81ef226f3fe1789b1e8b2acac839d17</td>\n",
       "      <td>1</td>\n",
       "      <td>credit_card</td>\n",
       "      <td>8</td>\n",
       "      <td>99.33</td>\n",
       "    </tr>\n",
       "    <tr>\n",
       "      <th>1</th>\n",
       "      <td>a9810da82917af2d9aefd1278f1dcfa0</td>\n",
       "      <td>1</td>\n",
       "      <td>credit_card</td>\n",
       "      <td>1</td>\n",
       "      <td>24.39</td>\n",
       "    </tr>\n",
       "    <tr>\n",
       "      <th>2</th>\n",
       "      <td>25e8ea4e93396b6fa0d3dd708e76c1bd</td>\n",
       "      <td>1</td>\n",
       "      <td>credit_card</td>\n",
       "      <td>1</td>\n",
       "      <td>65.71</td>\n",
       "    </tr>\n",
       "    <tr>\n",
       "      <th>3</th>\n",
       "      <td>ba78997921bbcdc1373bb41e913ab953</td>\n",
       "      <td>1</td>\n",
       "      <td>credit_card</td>\n",
       "      <td>8</td>\n",
       "      <td>107.78</td>\n",
       "    </tr>\n",
       "    <tr>\n",
       "      <th>4</th>\n",
       "      <td>42fdf880ba16b47b59251dd489d4441a</td>\n",
       "      <td>1</td>\n",
       "      <td>credit_card</td>\n",
       "      <td>2</td>\n",
       "      <td>128.45</td>\n",
       "    </tr>\n",
       "  </tbody>\n",
       "</table>\n",
       "</div>"
      ],
      "text/plain": [
       "                           order_id  payment_sequential payment_type  \\\n",
       "0  b81ef226f3fe1789b1e8b2acac839d17                   1  credit_card   \n",
       "1  a9810da82917af2d9aefd1278f1dcfa0                   1  credit_card   \n",
       "2  25e8ea4e93396b6fa0d3dd708e76c1bd                   1  credit_card   \n",
       "3  ba78997921bbcdc1373bb41e913ab953                   1  credit_card   \n",
       "4  42fdf880ba16b47b59251dd489d4441a                   1  credit_card   \n",
       "\n",
       "   payment_installments  payment_value  \n",
       "0                     8          99.33  \n",
       "1                     1          24.39  \n",
       "2                     1          65.71  \n",
       "3                     8         107.78  \n",
       "4                     2         128.45  "
      ]
     },
     "execution_count": 93,
     "metadata": {},
     "output_type": "execute_result"
    }
   ],
   "source": [
    "#check head\n",
    "\n",
    "df_ords_payments.head()"
   ]
  },
  {
   "cell_type": "code",
   "execution_count": 94,
   "id": "ed9646aa",
   "metadata": {},
   "outputs": [
    {
     "data": {
      "text/plain": [
       "(103886, 5)"
      ]
     },
     "execution_count": 94,
     "metadata": {},
     "output_type": "execute_result"
    }
   ],
   "source": [
    "# Check shape\n",
    "\n",
    "df_ords_payments.shape"
   ]
  },
  {
   "cell_type": "code",
   "execution_count": null,
   "id": "53dd12a9",
   "metadata": {},
   "outputs": [],
   "source": [
    "#check info\n",
    "\n",
    "df_ords_payments.info()"
   ]
  },
  {
   "cell_type": "code",
   "execution_count": null,
   "id": "9b82052b",
   "metadata": {},
   "outputs": [],
   "source": [
    "df_ords_payments.describe()"
   ]
  },
  {
   "cell_type": "markdown",
   "id": "b4b7b74d",
   "metadata": {},
   "source": [
    "## 6.3. Dropping Unnecessary Columns"
   ]
  },
  {
   "cell_type": "code",
   "execution_count": 98,
   "id": "8b36572d",
   "metadata": {},
   "outputs": [],
   "source": [
    "# Drop columns that will not be relevant for the analysis\n",
    "\n",
    "df_ords_payments_drop = df_ords_payments.drop(columns = ['payment_sequential', 'payment_type'])"
   ]
  },
  {
   "cell_type": "code",
   "execution_count": 99,
   "id": "bc1b40b6",
   "metadata": {},
   "outputs": [
    {
     "data": {
      "text/html": [
       "<div>\n",
       "<style scoped>\n",
       "    .dataframe tbody tr th:only-of-type {\n",
       "        vertical-align: middle;\n",
       "    }\n",
       "\n",
       "    .dataframe tbody tr th {\n",
       "        vertical-align: top;\n",
       "    }\n",
       "\n",
       "    .dataframe thead th {\n",
       "        text-align: right;\n",
       "    }\n",
       "</style>\n",
       "<table border=\"1\" class=\"dataframe\">\n",
       "  <thead>\n",
       "    <tr style=\"text-align: right;\">\n",
       "      <th></th>\n",
       "      <th>order_id</th>\n",
       "      <th>payment_installments</th>\n",
       "      <th>payment_value</th>\n",
       "    </tr>\n",
       "  </thead>\n",
       "  <tbody>\n",
       "    <tr>\n",
       "      <th>0</th>\n",
       "      <td>b81ef226f3fe1789b1e8b2acac839d17</td>\n",
       "      <td>8</td>\n",
       "      <td>99.33</td>\n",
       "    </tr>\n",
       "    <tr>\n",
       "      <th>1</th>\n",
       "      <td>a9810da82917af2d9aefd1278f1dcfa0</td>\n",
       "      <td>1</td>\n",
       "      <td>24.39</td>\n",
       "    </tr>\n",
       "    <tr>\n",
       "      <th>2</th>\n",
       "      <td>25e8ea4e93396b6fa0d3dd708e76c1bd</td>\n",
       "      <td>1</td>\n",
       "      <td>65.71</td>\n",
       "    </tr>\n",
       "    <tr>\n",
       "      <th>3</th>\n",
       "      <td>ba78997921bbcdc1373bb41e913ab953</td>\n",
       "      <td>8</td>\n",
       "      <td>107.78</td>\n",
       "    </tr>\n",
       "    <tr>\n",
       "      <th>4</th>\n",
       "      <td>42fdf880ba16b47b59251dd489d4441a</td>\n",
       "      <td>2</td>\n",
       "      <td>128.45</td>\n",
       "    </tr>\n",
       "  </tbody>\n",
       "</table>\n",
       "</div>"
      ],
      "text/plain": [
       "                           order_id  payment_installments  payment_value\n",
       "0  b81ef226f3fe1789b1e8b2acac839d17                     8          99.33\n",
       "1  a9810da82917af2d9aefd1278f1dcfa0                     1          24.39\n",
       "2  25e8ea4e93396b6fa0d3dd708e76c1bd                     1          65.71\n",
       "3  ba78997921bbcdc1373bb41e913ab953                     8         107.78\n",
       "4  42fdf880ba16b47b59251dd489d4441a                     2         128.45"
      ]
     },
     "execution_count": 99,
     "metadata": {},
     "output_type": "execute_result"
    }
   ],
   "source": [
    "# Check head\n",
    "\n",
    "df_ords_payments_drop.head()"
   ]
  },
  {
   "cell_type": "code",
   "execution_count": null,
   "id": "742cf2d9",
   "metadata": {},
   "outputs": [],
   "source": [
    "#check counts of 'payment_installments'\n",
    "\n",
    "df_ords_payments_drop['payment_installments'].value_counts()"
   ]
  },
  {
   "cell_type": "code",
   "execution_count": 104,
   "id": "4e1dd35a",
   "metadata": {},
   "outputs": [
    {
     "data": {
      "text/plain": [
       "(103886, 3)"
      ]
     },
     "execution_count": 104,
     "metadata": {},
     "output_type": "execute_result"
    }
   ],
   "source": [
    "df_ords_payments_drop.shape"
   ]
  },
  {
   "cell_type": "markdown",
   "id": "d8dfa080",
   "metadata": {},
   "source": [
    "## 6.4. Looking for missing values"
   ]
  },
  {
   "cell_type": "code",
   "execution_count": 105,
   "id": "9f9fe62d",
   "metadata": {},
   "outputs": [],
   "source": [
    "# Look for missing values\n",
    "\n",
    "# dataframe where missing values are present\n",
    "\n",
    "df_ords_payments_missing = df_ords_payments_drop.isnull()\n",
    "\n",
    "# counts of missing values\n",
    "\n",
    "df_ords_payments_counts_missing = df_ords_payments_drop.isnull() .sum()"
   ]
  },
  {
   "cell_type": "code",
   "execution_count": 128,
   "id": "646ae372",
   "metadata": {
    "scrolled": true
   },
   "outputs": [
    {
     "data": {
      "text/plain": [
       "order_id                0\n",
       "payment_installments    0\n",
       "payment_value           0\n",
       "dtype: int64"
      ]
     },
     "execution_count": 128,
     "metadata": {},
     "output_type": "execute_result"
    }
   ],
   "source": [
    "df_ords_payments_counts_missing"
   ]
  },
  {
   "cell_type": "markdown",
   "id": "76849196",
   "metadata": {},
   "source": [
    "## 6.5. Looking for Duplicates"
   ]
  },
  {
   "cell_type": "code",
   "execution_count": 111,
   "id": "86a20f67",
   "metadata": {},
   "outputs": [],
   "source": [
    "# check duplicates values\n",
    "\n",
    "duplicates_payments = df_ords_payments_drop.duplicated()\n",
    "\n",
    " # Count of duplicate rows\n",
    "counts_payments = df_ords_payments_drop.duplicated().sum()  "
   ]
  },
  {
   "cell_type": "code",
   "execution_count": 120,
   "id": "c74873a2",
   "metadata": {},
   "outputs": [
    {
     "data": {
      "text/plain": [
       "614"
      ]
     },
     "execution_count": 120,
     "metadata": {},
     "output_type": "execute_result"
    }
   ],
   "source": [
    "counts_payments"
   ]
  },
  {
   "cell_type": "code",
   "execution_count": 129,
   "id": "f8b6c93f",
   "metadata": {},
   "outputs": [
    {
     "data": {
      "text/plain": [
       "False    103272\n",
       "True        614\n",
       "Name: count, dtype: int64"
      ]
     },
     "execution_count": 129,
     "metadata": {},
     "output_type": "execute_result"
    }
   ],
   "source": [
    "duplicates_payments.value_counts(dropna = False)"
   ]
  },
  {
   "cell_type": "code",
   "execution_count": 130,
   "id": "ef9c305b",
   "metadata": {},
   "outputs": [
    {
     "name": "stdout",
     "output_type": "stream",
     "text": [
      "There are full duplicates in the DataFrame.\n"
     ]
    }
   ],
   "source": [
    "# Check for full duplicates\n",
    "full_duplicates_payments = df_ords_payments_drop.duplicated(keep=False)\n",
    "\n",
    "# Count of full duplicate rows\n",
    "full_duplicates_count = full_duplicates_payments.sum()\n",
    "\n",
    "if full_duplicates_count > 0:\n",
    "    print(\"There are full duplicates in the DataFrame.\")\n",
    "else:\n",
    "    print(\"There are no full duplicates in the DataFrame.\")"
   ]
  },
  {
   "cell_type": "code",
   "execution_count": 135,
   "id": "ac193e14",
   "metadata": {},
   "outputs": [
    {
     "data": {
      "text/plain": [
       "921"
      ]
     },
     "execution_count": 135,
     "metadata": {},
     "output_type": "execute_result"
    }
   ],
   "source": [
    "full_duplicates_count"
   ]
  },
  {
   "cell_type": "code",
   "execution_count": 132,
   "id": "a86dc358",
   "metadata": {},
   "outputs": [
    {
     "name": "stdout",
     "output_type": "stream",
     "text": [
      "921 full duplicates removed.\n"
     ]
    }
   ],
   "source": [
    "# Remove full duplicates (keeping the first occurrence)\n",
    "df_ords_payments_unique = df_ords_payments_drop.drop_duplicates(keep=False)\n",
    "\n",
    "# Check if duplicates are removed\n",
    "if len(df_ords_payments_unique) == len(df_ords_payments_drop):\n",
    "    print(\"No full duplicates remain after removal.\")\n",
    "else:\n",
    "    print(f\"{len(df_ords_payments_drop) - len(df_ords_payments_unique)} full duplicates removed.\")\n"
   ]
  },
  {
   "cell_type": "code",
   "execution_count": 136,
   "id": "ba85844c",
   "metadata": {},
   "outputs": [
    {
     "data": {
      "text/plain": [
       "(102965, 3)"
      ]
     },
     "execution_count": 136,
     "metadata": {},
     "output_type": "execute_result"
    }
   ],
   "source": [
    "# Check new shape\n",
    "\n",
    "df_ords_payments_unique.shape"
   ]
  },
  {
   "cell_type": "markdown",
   "id": "563c4df1",
   "metadata": {},
   "source": [
    "## 6.6. Export Wrangled Data Set"
   ]
  },
  {
   "cell_type": "code",
   "execution_count": 145,
   "id": "dd5987db",
   "metadata": {},
   "outputs": [],
   "source": [
    "df_ords_payments_unique.to_csv(os.path.join(path, '02 Data', 'Prepared Data', 'olist_ords_payments_wrangled.csv'))"
   ]
  },
  {
   "cell_type": "markdown",
   "id": "ab74c936",
   "metadata": {},
   "source": [
    "# 7. olist_sellers_dataset"
   ]
  },
  {
   "cell_type": "markdown",
   "id": "8e2287e6",
   "metadata": {},
   "source": [
    "## 7.1. Import Data Set"
   ]
  },
  {
   "cell_type": "code",
   "execution_count": 146,
   "id": "0253b4c5",
   "metadata": {},
   "outputs": [],
   "source": [
    "# Importing Sellers data set\n",
    "\n",
    "df_sellers = pd.read_csv(os.path.join(path, '02 Data', 'Original Data', 'olist_sellers_dataset.csv'), index_col = False)"
   ]
  },
  {
   "cell_type": "markdown",
   "id": "b0eda1da",
   "metadata": {},
   "source": [
    "## 7.2. Consistency Checks"
   ]
  },
  {
   "cell_type": "code",
   "execution_count": null,
   "id": "196f8829",
   "metadata": {},
   "outputs": [],
   "source": [
    "# check head\n",
    "\n",
    "df_sellers.head(10)"
   ]
  },
  {
   "cell_type": "code",
   "execution_count": 149,
   "id": "eea4c4e7",
   "metadata": {},
   "outputs": [
    {
     "data": {
      "text/plain": [
       "(3095, 4)"
      ]
     },
     "execution_count": 149,
     "metadata": {},
     "output_type": "execute_result"
    }
   ],
   "source": [
    "# check shape\n",
    "\n",
    "df_sellers.shape"
   ]
  },
  {
   "cell_type": "code",
   "execution_count": null,
   "id": "7915f234",
   "metadata": {},
   "outputs": [],
   "source": [
    "# check info \n",
    "\n",
    "df_sellers.info()"
   ]
  },
  {
   "cell_type": "markdown",
   "id": "ca174db6",
   "metadata": {},
   "source": [
    "## 7.3. Looking for missing values"
   ]
  },
  {
   "cell_type": "code",
   "execution_count": null,
   "id": "4f5baa52",
   "metadata": {},
   "outputs": [],
   "source": [
    "# Look for missing values\n",
    "\n",
    "# dataframe where missing values are present\n",
    "\n",
    "missing_sellers = df_sellers.isnull()\n",
    "\n",
    "# counts of missing values\n",
    "\n",
    "missing_counts_sellers = df_sellers.isnull() .sum()"
   ]
  },
  {
   "cell_type": "code",
   "execution_count": null,
   "id": "93496112",
   "metadata": {},
   "outputs": [],
   "source": [
    "# check counts of missing values (if there's)\n",
    "missing_counts_sellers"
   ]
  },
  {
   "cell_type": "markdown",
   "id": "3a97dec7",
   "metadata": {},
   "source": [
    "## 7.4. Looking for Duplicates"
   ]
  },
  {
   "cell_type": "code",
   "execution_count": 159,
   "id": "4b97ef48",
   "metadata": {},
   "outputs": [],
   "source": [
    "# check duplicates values\n",
    "\n",
    "duplicates_sellers = df_sellers.duplicated()\n",
    "\n",
    " # Count of duplicate rows\n",
    "counts_duplicates_sellers = df_sellers.duplicated().sum()  "
   ]
  },
  {
   "cell_type": "code",
   "execution_count": 160,
   "id": "c6600a35",
   "metadata": {},
   "outputs": [
    {
     "data": {
      "text/plain": [
       "0"
      ]
     },
     "execution_count": 160,
     "metadata": {},
     "output_type": "execute_result"
    }
   ],
   "source": [
    "counts_duplicates_sellers"
   ]
  },
  {
   "cell_type": "markdown",
   "id": "252b0353",
   "metadata": {},
   "source": [
    "## 7.5. Export Wrangled Data Set"
   ]
  },
  {
   "cell_type": "code",
   "execution_count": 162,
   "id": "be4d2a98",
   "metadata": {},
   "outputs": [],
   "source": [
    "# export the wrangled version of dataframe\n",
    "\n",
    "df_sellers.to_csv(os.path.join(path, '02 Data', 'Prepared Data','olist_sellers_wrangled.csv'))"
   ]
  },
  {
   "cell_type": "markdown",
   "id": "869aeaa7",
   "metadata": {},
   "source": [
    "# 8. olist_customers_dataset"
   ]
  },
  {
   "cell_type": "markdown",
   "id": "7bf0ce2e",
   "metadata": {},
   "source": [
    "## 8.1.  Import Dataset"
   ]
  },
  {
   "cell_type": "code",
   "execution_count": 164,
   "id": "2a2f6bed",
   "metadata": {},
   "outputs": [],
   "source": [
    "# Import customers data set\n",
    "\n",
    "df_customers = pd.read_csv(os.path.join(path,'02 Data', 'Original Data', 'olist_customers_dataset.csv'), index_col = False)"
   ]
  },
  {
   "cell_type": "markdown",
   "id": "e96baeaf",
   "metadata": {},
   "source": [
    "## 8.2. Consistency Checks"
   ]
  },
  {
   "cell_type": "code",
   "execution_count": 165,
   "id": "b31da74c",
   "metadata": {},
   "outputs": [
    {
     "data": {
      "text/plain": [
       "(99441, 5)"
      ]
     },
     "execution_count": 165,
     "metadata": {},
     "output_type": "execute_result"
    }
   ],
   "source": [
    "# check shape\n",
    "\n",
    "df_customers.shape"
   ]
  },
  {
   "cell_type": "code",
   "execution_count": null,
   "id": "c4f3da07",
   "metadata": {},
   "outputs": [],
   "source": [
    "# check head \n",
    "\n",
    "df_customers.head(10)"
   ]
  },
  {
   "cell_type": "code",
   "execution_count": null,
   "id": "5e429552",
   "metadata": {},
   "outputs": [],
   "source": [
    "# check info\n",
    "\n",
    "df_customers.info()"
   ]
  },
  {
   "cell_type": "markdown",
   "id": "b1afecb5",
   "metadata": {},
   "source": [
    "## 8.3. Looking for missing values"
   ]
  },
  {
   "cell_type": "code",
   "execution_count": 169,
   "id": "b4c7a907",
   "metadata": {},
   "outputs": [],
   "source": [
    "# Look for missing values\n",
    "\n",
    "#df where missing values are present\n",
    "\n",
    "missing_customer = df_customers.isnull()\n",
    "\n",
    "# counts of missing\n",
    "\n",
    "missing_counts_customers = df_customers.isnull().sum()"
   ]
  },
  {
   "cell_type": "code",
   "execution_count": null,
   "id": "60af611f",
   "metadata": {},
   "outputs": [],
   "source": [
    "missing_counts_customers"
   ]
  },
  {
   "cell_type": "markdown",
   "id": "6e0d7562",
   "metadata": {},
   "source": [
    "## 8.4. Looking for Duplicates"
   ]
  },
  {
   "cell_type": "code",
   "execution_count": 175,
   "id": "c053f887",
   "metadata": {},
   "outputs": [],
   "source": [
    "# check duplicates values\n",
    "\n",
    "duplicates_customers = df_customers.duplicated()\n",
    "\n",
    " # Count of duplicate rows\n",
    "counts_duplicates_customers = df_customers.duplicated().sum()  "
   ]
  },
  {
   "cell_type": "code",
   "execution_count": 176,
   "id": "2a93a762",
   "metadata": {},
   "outputs": [
    {
     "data": {
      "text/plain": [
       "0"
      ]
     },
     "execution_count": 176,
     "metadata": {},
     "output_type": "execute_result"
    }
   ],
   "source": [
    "counts_duplicates_customers"
   ]
  },
  {
   "cell_type": "markdown",
   "id": "a1080db4",
   "metadata": {},
   "source": [
    "## 8.5. Export Wrangled  Dataset"
   ]
  },
  {
   "cell_type": "code",
   "execution_count": 178,
   "id": "dd1ee6b5",
   "metadata": {},
   "outputs": [],
   "source": [
    "# Export wrangled version os customers dataset\n",
    "\n",
    "df_customers.to_csv(os.path.join(path, '02 Data', 'Prepared Data', 'olist_customers_wrangled.csv'))"
   ]
  },
  {
   "cell_type": "markdown",
   "id": "82fd6ff8",
   "metadata": {},
   "source": [
    "# 9. olist_geolocation_dataset"
   ]
  },
  {
   "cell_type": "markdown",
   "id": "1e798eb4",
   "metadata": {},
   "source": [
    "## 9.1. Import Dataset"
   ]
  },
  {
   "cell_type": "code",
   "execution_count": 180,
   "id": "587f89f1",
   "metadata": {},
   "outputs": [],
   "source": [
    "# Import data set containing location data\n",
    "\n",
    "df_location = pd.read_csv(os.path.join(path, '02 Data', 'Original Data', 'olist_geolocation_dataset.csv'), index_col = False)"
   ]
  },
  {
   "cell_type": "markdown",
   "id": "59e8131f",
   "metadata": {},
   "source": [
    "## 9.2. Consistency Checks"
   ]
  },
  {
   "cell_type": "code",
   "execution_count": 206,
   "id": "803c0427",
   "metadata": {},
   "outputs": [
    {
     "data": {
      "text/html": [
       "<div>\n",
       "<style scoped>\n",
       "    .dataframe tbody tr th:only-of-type {\n",
       "        vertical-align: middle;\n",
       "    }\n",
       "\n",
       "    .dataframe tbody tr th {\n",
       "        vertical-align: top;\n",
       "    }\n",
       "\n",
       "    .dataframe thead th {\n",
       "        text-align: right;\n",
       "    }\n",
       "</style>\n",
       "<table border=\"1\" class=\"dataframe\">\n",
       "  <thead>\n",
       "    <tr style=\"text-align: right;\">\n",
       "      <th></th>\n",
       "      <th>zip_code_prefix</th>\n",
       "      <th>geolocation_lat</th>\n",
       "      <th>geolocation_lng</th>\n",
       "      <th>geolocation_city</th>\n",
       "      <th>geolocation_state</th>\n",
       "    </tr>\n",
       "  </thead>\n",
       "  <tbody>\n",
       "    <tr>\n",
       "      <th>0</th>\n",
       "      <td>1037</td>\n",
       "      <td>-23.545621</td>\n",
       "      <td>-46.639292</td>\n",
       "      <td>sao paulo</td>\n",
       "      <td>SP</td>\n",
       "    </tr>\n",
       "    <tr>\n",
       "      <th>1</th>\n",
       "      <td>1046</td>\n",
       "      <td>-23.546081</td>\n",
       "      <td>-46.644820</td>\n",
       "      <td>sao paulo</td>\n",
       "      <td>SP</td>\n",
       "    </tr>\n",
       "    <tr>\n",
       "      <th>2</th>\n",
       "      <td>1046</td>\n",
       "      <td>-23.546129</td>\n",
       "      <td>-46.642951</td>\n",
       "      <td>sao paulo</td>\n",
       "      <td>SP</td>\n",
       "    </tr>\n",
       "    <tr>\n",
       "      <th>3</th>\n",
       "      <td>1041</td>\n",
       "      <td>-23.544392</td>\n",
       "      <td>-46.639499</td>\n",
       "      <td>sao paulo</td>\n",
       "      <td>SP</td>\n",
       "    </tr>\n",
       "    <tr>\n",
       "      <th>4</th>\n",
       "      <td>1035</td>\n",
       "      <td>-23.541578</td>\n",
       "      <td>-46.641607</td>\n",
       "      <td>sao paulo</td>\n",
       "      <td>SP</td>\n",
       "    </tr>\n",
       "  </tbody>\n",
       "</table>\n",
       "</div>"
      ],
      "text/plain": [
       "   zip_code_prefix  geolocation_lat  geolocation_lng geolocation_city  \\\n",
       "0             1037       -23.545621       -46.639292        sao paulo   \n",
       "1             1046       -23.546081       -46.644820        sao paulo   \n",
       "2             1046       -23.546129       -46.642951        sao paulo   \n",
       "3             1041       -23.544392       -46.639499        sao paulo   \n",
       "4             1035       -23.541578       -46.641607        sao paulo   \n",
       "\n",
       "  geolocation_state  \n",
       "0                SP  \n",
       "1                SP  \n",
       "2                SP  \n",
       "3                SP  \n",
       "4                SP  "
      ]
     },
     "execution_count": 206,
     "metadata": {},
     "output_type": "execute_result"
    }
   ],
   "source": [
    "# check head\n",
    "\n",
    "df_location.head()"
   ]
  },
  {
   "cell_type": "code",
   "execution_count": 182,
   "id": "b7ef46fc",
   "metadata": {},
   "outputs": [
    {
     "data": {
      "text/plain": [
       "(1000163, 5)"
      ]
     },
     "execution_count": 182,
     "metadata": {},
     "output_type": "execute_result"
    }
   ],
   "source": [
    "# check shape\n",
    "\n",
    "df_location.shape"
   ]
  },
  {
   "cell_type": "code",
   "execution_count": 183,
   "id": "9612a538",
   "metadata": {},
   "outputs": [
    {
     "name": "stdout",
     "output_type": "stream",
     "text": [
      "<class 'pandas.core.frame.DataFrame'>\n",
      "RangeIndex: 1000163 entries, 0 to 1000162\n",
      "Data columns (total 5 columns):\n",
      " #   Column                       Non-Null Count    Dtype  \n",
      "---  ------                       --------------    -----  \n",
      " 0   geolocation_zip_code_prefix  1000163 non-null  int64  \n",
      " 1   geolocation_lat              1000163 non-null  float64\n",
      " 2   geolocation_lng              1000163 non-null  float64\n",
      " 3   geolocation_city             1000163 non-null  object \n",
      " 4   geolocation_state            1000163 non-null  object \n",
      "dtypes: float64(2), int64(1), object(2)\n",
      "memory usage: 38.2+ MB\n"
     ]
    }
   ],
   "source": [
    "# check info\n",
    "\n",
    "df_location.info()"
   ]
  },
  {
   "cell_type": "markdown",
   "id": "cc587a28",
   "metadata": {},
   "source": [
    "## 9.3. Changing columns name"
   ]
  },
  {
   "cell_type": "code",
   "execution_count": 188,
   "id": "fdeb84d8",
   "metadata": {},
   "outputs": [],
   "source": [
    "# change columns name of geolocation_zip_code_prefix to 'zip_code_prefix' for merging this data with other datasets later\n",
    "\n",
    "df_location.rename(columns={'geolocation_zip_code_prefix' : 'zip_code_prefix'}, inplace= True)"
   ]
  },
  {
   "cell_type": "code",
   "execution_count": 191,
   "id": "62e1a7cd",
   "metadata": {},
   "outputs": [
    {
     "data": {
      "text/plain": [
       "Index(['zip_code_prefix', 'geolocation_lat', 'geolocation_lng',\n",
       "       'geolocation_city', 'geolocation_state'],\n",
       "      dtype='object')"
      ]
     },
     "execution_count": 191,
     "metadata": {},
     "output_type": "execute_result"
    }
   ],
   "source": [
    "# check head\n",
    "\n",
    "df_location.columns"
   ]
  },
  {
   "cell_type": "code",
   "execution_count": null,
   "id": "8be242f5",
   "metadata": {},
   "outputs": [],
   "source": [
    "# check counts of states\n",
    "\n",
    "df_location['geolocation_state'].value_counts(dropna = False)"
   ]
  },
  {
   "cell_type": "markdown",
   "id": "0f2d4682",
   "metadata": {},
   "source": [
    "## 9.4. Looking for missing values"
   ]
  },
  {
   "cell_type": "code",
   "execution_count": 193,
   "id": "26c4b5fe",
   "metadata": {},
   "outputs": [],
   "source": [
    "# check for missing values\n",
    "\n",
    "# dataframe with missing\n",
    "\n",
    "missing_location = df_location.isnull()\n",
    "\n",
    "# counts of missing values\n",
    "\n",
    "missing_counts_location = df_location.isnull().sum()"
   ]
  },
  {
   "cell_type": "code",
   "execution_count": 194,
   "id": "214fac57",
   "metadata": {},
   "outputs": [
    {
     "data": {
      "text/plain": [
       "zip_code_prefix      0\n",
       "geolocation_lat      0\n",
       "geolocation_lng      0\n",
       "geolocation_city     0\n",
       "geolocation_state    0\n",
       "dtype: int64"
      ]
     },
     "execution_count": 194,
     "metadata": {},
     "output_type": "execute_result"
    }
   ],
   "source": [
    "missing_counts_location"
   ]
  },
  {
   "cell_type": "markdown",
   "id": "14d71d2a",
   "metadata": {},
   "source": [
    "## 9.5. Looking for duplicates"
   ]
  },
  {
   "cell_type": "code",
   "execution_count": 196,
   "id": "e579ff2f",
   "metadata": {},
   "outputs": [],
   "source": [
    "# Look for duplicates\n",
    "\n",
    "duplicates_location = df_location.duplicated()\n",
    "\n",
    " # Count of duplicate rows\n",
    "counts_duplicates_location = df_location.duplicated().sum()  "
   ]
  },
  {
   "cell_type": "code",
   "execution_count": 197,
   "id": "3689e36b",
   "metadata": {},
   "outputs": [
    {
     "data": {
      "text/plain": [
       "261831"
      ]
     },
     "execution_count": 197,
     "metadata": {},
     "output_type": "execute_result"
    }
   ],
   "source": [
    "# counts of duplicates\n",
    "\n",
    "counts_duplicates_location"
   ]
  },
  {
   "cell_type": "code",
   "execution_count": 201,
   "id": "91c1ecee",
   "metadata": {},
   "outputs": [
    {
     "name": "stdout",
     "output_type": "stream",
     "text": [
      "There are full duplicates in the DataFrame.\n"
     ]
    }
   ],
   "source": [
    "# Check for full duplicates\n",
    "full_duplicates_location = df_location.duplicated(keep=False)\n",
    "\n",
    "# Count of full duplicate rows\n",
    "full_duplicates_counts_location = full_duplicates_location.sum()\n",
    "\n",
    "if full_duplicates_counts_location > 0:\n",
    "    print(\"There are full duplicates in the DataFrame.\")\n",
    "else:\n",
    "    print(\"There are no full duplicates in the DataFrame.\")"
   ]
  },
  {
   "cell_type": "code",
   "execution_count": 202,
   "id": "99835b88",
   "metadata": {},
   "outputs": [
    {
     "data": {
      "text/plain": [
       "390005"
      ]
     },
     "execution_count": 202,
     "metadata": {},
     "output_type": "execute_result"
    }
   ],
   "source": [
    "full_duplicates_counts_location"
   ]
  },
  {
   "cell_type": "code",
   "execution_count": 207,
   "id": "f3f27515",
   "metadata": {
    "scrolled": true
   },
   "outputs": [
    {
     "name": "stdout",
     "output_type": "stream",
     "text": [
      "Number of duplicated rows: 390005\n",
      "\n",
      "Sample of duplicated rows:\n",
      "   zip_code_prefix  geolocation_lat  geolocation_lng geolocation_city  \\\n",
      "0             1037       -23.545621       -46.639292        sao paulo   \n",
      "1             1046       -23.546081       -46.644820        sao paulo   \n",
      "2             1046       -23.546129       -46.642951        sao paulo   \n",
      "6             1047       -23.546273       -46.641225        sao paulo   \n",
      "7             1013       -23.546923       -46.634264        sao paulo   \n",
      "\n",
      "  geolocation_state  \n",
      "0                SP  \n",
      "1                SP  \n",
      "2                SP  \n",
      "6                SP  \n",
      "7                SP  \n"
     ]
    }
   ],
   "source": [
    "# Check for duplicated rows\n",
    "duplicated_rows = df_location[df_location.duplicated(keep=False)]\n",
    "\n",
    "# Count the number of duplicated rows\n",
    "print(\"Number of duplicated rows:\", len(duplicated_rows))\n",
    "\n",
    "# Inspect a sample of duplicated rows\n",
    "if not duplicated_rows.empty:\n",
    "    print(\"\\nSample of duplicated rows:\")\n",
    "    print(duplicated_rows.head())\n",
    "else:\n",
    "    print(\"\\nNo duplicated rows found.\")\n"
   ]
  },
  {
   "cell_type": "markdown",
   "id": "2548552c",
   "metadata": {},
   "source": [
    "#### for now I will left it unchangend"
   ]
  },
  {
   "cell_type": "markdown",
   "id": "99485a5c",
   "metadata": {},
   "source": [
    "## 9.6. Export Wrangled Dataset"
   ]
  },
  {
   "cell_type": "code",
   "execution_count": 210,
   "id": "8efc3957",
   "metadata": {},
   "outputs": [],
   "source": [
    "df_location.to_csv(os.path.join(path, '02 Data', 'Prepared Data', 'olist_geolocation.csv'))"
   ]
  },
  {
   "cell_type": "markdown",
   "id": "f59b4258",
   "metadata": {},
   "source": [
    "# 10. olist_order_reviews_dataset"
   ]
  },
  {
   "cell_type": "markdown",
   "id": "0642b51c",
   "metadata": {},
   "source": [
    "## 10.1. Import Dataset"
   ]
  },
  {
   "cell_type": "code",
   "execution_count": 10,
   "id": "813b8d7d",
   "metadata": {},
   "outputs": [],
   "source": [
    "# Importing order reviews dataset\n",
    "\n",
    "df_ords_reviews = pd.read_csv(os.path.join(path,'02 Data', 'Original Data', 'olist_order_reviews_dataset.csv'), index_col = False)"
   ]
  },
  {
   "cell_type": "markdown",
   "id": "bb57e469",
   "metadata": {},
   "source": [
    "## 10.2. Consistency Checks"
   ]
  },
  {
   "cell_type": "code",
   "execution_count": 14,
   "id": "f96e6052",
   "metadata": {},
   "outputs": [
    {
     "data": {
      "text/html": [
       "<div>\n",
       "<style scoped>\n",
       "    .dataframe tbody tr th:only-of-type {\n",
       "        vertical-align: middle;\n",
       "    }\n",
       "\n",
       "    .dataframe tbody tr th {\n",
       "        vertical-align: top;\n",
       "    }\n",
       "\n",
       "    .dataframe thead th {\n",
       "        text-align: right;\n",
       "    }\n",
       "</style>\n",
       "<table border=\"1\" class=\"dataframe\">\n",
       "  <thead>\n",
       "    <tr style=\"text-align: right;\">\n",
       "      <th></th>\n",
       "      <th>review_id</th>\n",
       "      <th>order_id</th>\n",
       "      <th>review_score</th>\n",
       "      <th>review_comment_title</th>\n",
       "      <th>review_comment_message</th>\n",
       "      <th>review_creation_date</th>\n",
       "      <th>review_answer_timestamp</th>\n",
       "    </tr>\n",
       "  </thead>\n",
       "  <tbody>\n",
       "    <tr>\n",
       "      <th>0</th>\n",
       "      <td>7bc2406110b926393aa56f80a40eba40</td>\n",
       "      <td>73fc7af87114b39712e6da79b0a377eb</td>\n",
       "      <td>4</td>\n",
       "      <td>NaN</td>\n",
       "      <td>NaN</td>\n",
       "      <td>2018-01-18 00:00:00</td>\n",
       "      <td>2018-01-18 21:46:59</td>\n",
       "    </tr>\n",
       "    <tr>\n",
       "      <th>1</th>\n",
       "      <td>80e641a11e56f04c1ad469d5645fdfde</td>\n",
       "      <td>a548910a1c6147796b98fdf73dbeba33</td>\n",
       "      <td>5</td>\n",
       "      <td>NaN</td>\n",
       "      <td>NaN</td>\n",
       "      <td>2018-03-10 00:00:00</td>\n",
       "      <td>2018-03-11 03:05:13</td>\n",
       "    </tr>\n",
       "    <tr>\n",
       "      <th>2</th>\n",
       "      <td>228ce5500dc1d8e020d8d1322874b6f0</td>\n",
       "      <td>f9e4b658b201a9f2ecdecbb34bed034b</td>\n",
       "      <td>5</td>\n",
       "      <td>NaN</td>\n",
       "      <td>NaN</td>\n",
       "      <td>2018-02-17 00:00:00</td>\n",
       "      <td>2018-02-18 14:36:24</td>\n",
       "    </tr>\n",
       "    <tr>\n",
       "      <th>3</th>\n",
       "      <td>e64fb393e7b32834bb789ff8bb30750e</td>\n",
       "      <td>658677c97b385a9be170737859d3511b</td>\n",
       "      <td>5</td>\n",
       "      <td>NaN</td>\n",
       "      <td>Recebi bem antes do prazo estipulado.</td>\n",
       "      <td>2017-04-21 00:00:00</td>\n",
       "      <td>2017-04-21 22:02:06</td>\n",
       "    </tr>\n",
       "    <tr>\n",
       "      <th>4</th>\n",
       "      <td>f7c4243c7fe1938f181bec41a392bdeb</td>\n",
       "      <td>8e6bfb81e283fa7e4f11123a3fb894f1</td>\n",
       "      <td>5</td>\n",
       "      <td>NaN</td>\n",
       "      <td>Parabéns lojas lannister adorei comprar pela I...</td>\n",
       "      <td>2018-03-01 00:00:00</td>\n",
       "      <td>2018-03-02 10:26:53</td>\n",
       "    </tr>\n",
       "  </tbody>\n",
       "</table>\n",
       "</div>"
      ],
      "text/plain": [
       "                          review_id                          order_id  \\\n",
       "0  7bc2406110b926393aa56f80a40eba40  73fc7af87114b39712e6da79b0a377eb   \n",
       "1  80e641a11e56f04c1ad469d5645fdfde  a548910a1c6147796b98fdf73dbeba33   \n",
       "2  228ce5500dc1d8e020d8d1322874b6f0  f9e4b658b201a9f2ecdecbb34bed034b   \n",
       "3  e64fb393e7b32834bb789ff8bb30750e  658677c97b385a9be170737859d3511b   \n",
       "4  f7c4243c7fe1938f181bec41a392bdeb  8e6bfb81e283fa7e4f11123a3fb894f1   \n",
       "\n",
       "   review_score review_comment_title  \\\n",
       "0             4                  NaN   \n",
       "1             5                  NaN   \n",
       "2             5                  NaN   \n",
       "3             5                  NaN   \n",
       "4             5                  NaN   \n",
       "\n",
       "                              review_comment_message review_creation_date  \\\n",
       "0                                                NaN  2018-01-18 00:00:00   \n",
       "1                                                NaN  2018-03-10 00:00:00   \n",
       "2                                                NaN  2018-02-17 00:00:00   \n",
       "3              Recebi bem antes do prazo estipulado.  2017-04-21 00:00:00   \n",
       "4  Parabéns lojas lannister adorei comprar pela I...  2018-03-01 00:00:00   \n",
       "\n",
       "  review_answer_timestamp  \n",
       "0     2018-01-18 21:46:59  \n",
       "1     2018-03-11 03:05:13  \n",
       "2     2018-02-18 14:36:24  \n",
       "3     2017-04-21 22:02:06  \n",
       "4     2018-03-02 10:26:53  "
      ]
     },
     "execution_count": 14,
     "metadata": {},
     "output_type": "execute_result"
    }
   ],
   "source": [
    "# Check head\n",
    "\n",
    "df_ords_reviews.head()"
   ]
  },
  {
   "cell_type": "code",
   "execution_count": 15,
   "id": "66f49b6f",
   "metadata": {},
   "outputs": [
    {
     "data": {
      "text/plain": [
       "(99224, 7)"
      ]
     },
     "execution_count": 15,
     "metadata": {},
     "output_type": "execute_result"
    }
   ],
   "source": [
    "# Check shape\n",
    "\n",
    "df_ords_reviews.shape"
   ]
  },
  {
   "cell_type": "code",
   "execution_count": null,
   "id": "80bbb286",
   "metadata": {},
   "outputs": [],
   "source": [
    "# check info\n",
    "\n",
    "df_ords_reviews.describe()"
   ]
  },
  {
   "cell_type": "markdown",
   "id": "81123b66",
   "metadata": {},
   "source": [
    "## 10.2. Dropping Unnecessary Columns"
   ]
  },
  {
   "cell_type": "code",
   "execution_count": 18,
   "id": "a8d6d7ab",
   "metadata": {},
   "outputs": [],
   "source": [
    "# Drop Uncecessary columns for the analysis\n",
    "\n",
    "df_reviews_dropped = df_ords_reviews.drop(columns = ['review_id','review_creation_date', 'review_answer_timestamp'])"
   ]
  },
  {
   "cell_type": "code",
   "execution_count": 20,
   "id": "a2899fab",
   "metadata": {},
   "outputs": [
    {
     "data": {
      "text/plain": [
       "(99224, 4)"
      ]
     },
     "execution_count": 20,
     "metadata": {},
     "output_type": "execute_result"
    }
   ],
   "source": [
    "# check shape\n",
    "\n",
    "df_reviews_dropped.shape"
   ]
  },
  {
   "cell_type": "markdown",
   "id": "92192666",
   "metadata": {},
   "source": [
    "## 10.3. Looking for Missing Values"
   ]
  },
  {
   "cell_type": "code",
   "execution_count": 24,
   "id": "087f8515",
   "metadata": {},
   "outputs": [],
   "source": [
    "# look for missing values\n",
    "# dataframe with missing values\n",
    "\n",
    "reviews_missing = df_reviews_dropped.isnull()\n",
    "\n",
    "#data frame with missing counts\n",
    "reviews_missing_counts = df_reviews_dropped.isnull().sum()"
   ]
  },
  {
   "cell_type": "code",
   "execution_count": 25,
   "id": "245d5c3d",
   "metadata": {},
   "outputs": [
    {
     "data": {
      "text/plain": [
       "order_id                      0\n",
       "review_score                  0\n",
       "review_comment_title      87656\n",
       "review_comment_message    58247\n",
       "dtype: int64"
      ]
     },
     "execution_count": 25,
     "metadata": {},
     "output_type": "execute_result"
    }
   ],
   "source": [
    "# check counts of missing\n",
    "\n",
    "reviews_missing_counts"
   ]
  },
  {
   "cell_type": "markdown",
   "id": "4d309207",
   "metadata": {},
   "source": [
    "#### There are a lot of missing values, about 90% review_comment_tittle variable and 60% for review_comment_message. Since anwsering to these surveys are voluntary, great values like these are expect, so they will remain unchangend. "
   ]
  },
  {
   "cell_type": "markdown",
   "id": "e5d1c105",
   "metadata": {},
   "source": [
    "## 10.4. Looking for Duplicates"
   ]
  },
  {
   "cell_type": "code",
   "execution_count": 28,
   "id": "995e5115",
   "metadata": {},
   "outputs": [],
   "source": [
    "# look for duplicates\n",
    "\n",
    "reviews_duplicates = df_reviews_dropped.duplicated()\n",
    "\n",
    "# counts of duplicates\n",
    "\n",
    "reviews_duplicates_counts = df_reviews_dropped.duplicated().sum()"
   ]
  },
  {
   "cell_type": "code",
   "execution_count": 29,
   "id": "a9d87d48",
   "metadata": {},
   "outputs": [
    {
     "data": {
      "text/plain": [
       "227"
      ]
     },
     "execution_count": 29,
     "metadata": {},
     "output_type": "execute_result"
    }
   ],
   "source": [
    "reviews_duplicates_counts"
   ]
  },
  {
   "cell_type": "code",
   "execution_count": 37,
   "id": "6124f0ef",
   "metadata": {},
   "outputs": [],
   "source": [
    "# Drop duplicate rows from the DataFrame\n",
    "\n",
    "df_reviews_without_duplicates = df_reviews_dropped.drop_duplicates()\n"
   ]
  },
  {
   "cell_type": "code",
   "execution_count": 38,
   "id": "fbf3ca23",
   "metadata": {},
   "outputs": [
    {
     "data": {
      "text/plain": [
       "(98997, 4)"
      ]
     },
     "execution_count": 38,
     "metadata": {},
     "output_type": "execute_result"
    }
   ],
   "source": [
    "# check shape\n",
    "\n",
    "df_reviews_without_duplicates.shape"
   ]
  },
  {
   "cell_type": "markdown",
   "id": "1ad5d982",
   "metadata": {},
   "source": [
    "## 10.5. Export Wrangled Dataset"
   ]
  },
  {
   "cell_type": "code",
   "execution_count": 40,
   "id": "490f2fa8",
   "metadata": {},
   "outputs": [],
   "source": [
    "# Exporting wrangled orders reviews dataset\n",
    "\n",
    "df_reviews_without_duplicates.to_csv(os.path.join(path, '02 Data', 'Prepared Data', 'olist_order_reviews_wrangled.csv'))"
   ]
  },
  {
   "cell_type": "code",
   "execution_count": null,
   "id": "aa510e0e",
   "metadata": {},
   "outputs": [],
   "source": []
  }
 ],
 "metadata": {
  "kernelspec": {
   "display_name": "Python 3 (ipykernel)",
   "language": "python",
   "name": "python3"
  },
  "language_info": {
   "codemirror_mode": {
    "name": "ipython",
    "version": 3
   },
   "file_extension": ".py",
   "mimetype": "text/x-python",
   "name": "python",
   "nbconvert_exporter": "python",
   "pygments_lexer": "ipython3",
   "version": "3.11.5"
  }
 },
 "nbformat": 4,
 "nbformat_minor": 5
}
