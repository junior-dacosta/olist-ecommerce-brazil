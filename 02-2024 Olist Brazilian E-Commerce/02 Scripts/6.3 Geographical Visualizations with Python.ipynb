{
 "cells": [
  {
   "cell_type": "markdown",
   "id": "1ba85f6f-1e5e-41f7-ae7c-83b2515ecc3d",
   "metadata": {},
   "source": [
    "# Olist Brazilian E-Commerce - Merging Datasets and Consistency Checks"
   ]
  },
  {
   "cell_type": "markdown",
   "id": "fb210a19-6784-4c4d-ac00-168f3a99d9b1",
   "metadata": {},
   "source": [
    "### This script contains the following:\n",
    "\n",
    "#### 1.   Import Libraries\n",
    "#### 2.   Import Order Reviews Data Set\n",
    "#### 3.   Import Orders-Items-Products Data Set\n",
    "#### 4.   Merge: Orders_Items_Products with Order_reviews Data Set\n",
    "#### 5.   Import Customers Data Set \n",
    "#### 6.   Merge: Orders_Items_Products_Reviews with Customers Data Set\n",
    "#### 7.   Import Sellers Data Set\n",
    "#### 8.   Merge: Orders_Items_Products_Reviews_Customers with Sellers Data Set\n"
   ]
  },
  {
   "cell_type": "markdown",
   "id": "25fb71d3-2f89-4090-8862-205f44a9cfeb",
   "metadata": {},
   "source": [
    "### 1. Import Libraries"
   ]
  },
  {
   "cell_type": "code",
   "execution_count": 3,
   "id": "e1526107-e745-43a0-9af7-6012e8d0fb1e",
   "metadata": {},
   "outputs": [],
   "source": [
    "# import libraries\n",
    "import pandas as pd\n",
    "import numpy as np\n",
    "import seaborn as sns\n",
    "import matplotlib.pyplot as plt\n",
    "import matplotlib\n",
    "import os\n",
    "import folium\n",
    "import json"
   ]
  },
  {
   "cell_type": "code",
   "execution_count": 6,
   "id": "eed4521c-f1ce-452d-b580-51ddae95bdde",
   "metadata": {},
   "outputs": [],
   "source": [
    "# the charts created are displayed in the notebook without the need to \"call\" them specifically.\n",
    "\n",
    "%matplotlib inline"
   ]
  },
  {
   "cell_type": "code",
   "execution_count": 7,
   "id": "8dd8f64b-91d6-4dcb-97e9-1154d7e331d7",
   "metadata": {},
   "outputs": [],
   "source": [
    "# define a path\n",
    "path = r'C:\\Users\\junio\\OneDrive\\Career Foundry Project\\Achievement 6\\02-2024 Brazilian E-Commerce'"
   ]
  },
  {
   "cell_type": "markdown",
   "id": "9115d7cd-6f9e-4dff-b895-5fa67fe1af0e",
   "metadata": {},
   "source": [
    "### 2. Import Data sets "
   ]
  },
  {
   "cell_type": "markdown",
   "id": "e31aa062-5f5f-44c2-8a99-20a8b0cdff84",
   "metadata": {},
   "source": [
    "### 2.1. Order Reviews Data Set"
   ]
  },
  {
   "cell_type": "code",
   "execution_count": 13,
   "id": "a025926b-b990-4715-a778-50ba250f4ba2",
   "metadata": {},
   "outputs": [],
   "source": [
    "reviews = pd.read_csv(os.path.join(path, '02 Data', 'Prepared Data', 'olist_order_reviews_wrangled.csv'), index_col = False)"
   ]
  },
  {
   "cell_type": "code",
   "execution_count": null,
   "id": "91b77685-b4f9-4b34-b690-0372f0c4ae68",
   "metadata": {},
   "outputs": [],
   "source": [
    "reviews.head()"
   ]
  },
  {
   "cell_type": "code",
   "execution_count": null,
   "id": "735c3715-7304-4c03-9c6e-3152bf590135",
   "metadata": {},
   "outputs": [],
   "source": [
    "reviews.describe()"
   ]
  },
  {
   "cell_type": "markdown",
   "id": "21aa108a-865f-46a7-a28f-7b4923f34a7d",
   "metadata": {},
   "source": [
    "### Remaining cleaning procedures before merging with other datasets"
   ]
  },
  {
   "cell_type": "markdown",
   "id": "a4f61a80-2de2-471d-b2a9-9c60803dcd57",
   "metadata": {},
   "source": [
    "#### Dropping Columns:"
   ]
  },
  {
   "cell_type": "code",
   "execution_count": 15,
   "id": "539a7593-198f-4d93-87c8-0a870a19e6a7",
   "metadata": {},
   "outputs": [],
   "source": [
    "# Drop unnecessary columns  from reviews dataframe\n",
    "\n",
    "reviews.drop(columns=\"Unnamed: 0\", inplace=True)"
   ]
  },
  {
   "cell_type": "code",
   "execution_count": 16,
   "id": "ccd42079-3e79-49f4-8832-cefc418a1b8a",
   "metadata": {},
   "outputs": [
    {
     "data": {
      "text/plain": [
       "(98997, 4)"
      ]
     },
     "execution_count": 16,
     "metadata": {},
     "output_type": "execute_result"
    }
   ],
   "source": [
    "reviews.shape"
   ]
  },
  {
   "cell_type": "code",
   "execution_count": null,
   "id": "b8acbc6b-76f2-4064-b743-5ab45e0ecc4b",
   "metadata": {},
   "outputs": [],
   "source": [
    "reviews.columns"
   ]
  },
  {
   "cell_type": "markdown",
   "id": "d7485af5-b5e6-4552-9676-846b55d9237b",
   "metadata": {},
   "source": [
    "#### Renaming Columns:"
   ]
  },
  {
   "cell_type": "code",
   "execution_count": 21,
   "id": "7ed3dbc8-46b8-49b0-bd8d-47dce2643d21",
   "metadata": {},
   "outputs": [],
   "source": [
    "# Rename columns \n",
    "\n",
    "reviews.rename(columns = {'review_comment_title' : 'review_title', 'review_comment_message': 'review_comment' }, inplace = True)"
   ]
  },
  {
   "cell_type": "markdown",
   "id": "61e45d40-39d1-44f7-b93b-85614525667e",
   "metadata": {},
   "source": [
    "#### Missing Values Check:"
   ]
  },
  {
   "cell_type": "code",
   "execution_count": null,
   "id": "5167163f-48c7-4059-8060-f037b2beec86",
   "metadata": {},
   "outputs": [],
   "source": [
    "# Check for missing values\n",
    "\n",
    "reviews.isnull().sum() # we cannot assure wheter these missing values are missing or are just zeros"
   ]
  },
  {
   "cell_type": "markdown",
   "id": "2314da4b-c387-4fbf-b2e9-39134a8fb3bb",
   "metadata": {},
   "source": [
    "#### Duplicates Check:"
   ]
  },
  {
   "cell_type": "code",
   "execution_count": 24,
   "id": "8bdda199-1fbc-466a-9324-ea830599e9f4",
   "metadata": {},
   "outputs": [],
   "source": [
    "# Find duplicates\n",
    "\n",
    "reviews_dups = reviews[reviews.duplicated()]"
   ]
  },
  {
   "cell_type": "code",
   "execution_count": 26,
   "id": "6eb14920-8e4d-4514-937e-2efb37c322ce",
   "metadata": {},
   "outputs": [
    {
     "data": {
      "text/plain": [
       "(0, 4)"
      ]
     },
     "execution_count": 26,
     "metadata": {},
     "output_type": "execute_result"
    }
   ],
   "source": [
    "reviews_dups.shape # No Duplicates!"
   ]
  },
  {
   "cell_type": "markdown",
   "id": "002e6f29-a5ba-4d6e-8712-bc99db429abe",
   "metadata": {},
   "source": [
    "#### Mixed_type Data:"
   ]
  },
  {
   "cell_type": "code",
   "execution_count": 27,
   "id": "db8a815d-75e7-48af-ab40-8d23563454b1",
   "metadata": {},
   "outputs": [
    {
     "name": "stdout",
     "output_type": "stream",
     "text": [
      "No mixed-type columns found!\n",
      "No mixed-type columns found!\n",
      "review_title\n",
      "review_comment\n"
     ]
    },
    {
     "name": "stderr",
     "output_type": "stream",
     "text": [
      "C:\\Users\\junio\\AppData\\Local\\Temp\\ipykernel_4564\\1666836673.py:2: FutureWarning: DataFrame.applymap has been deprecated. Use DataFrame.map instead.\n",
      "  weird = (reviews[[col]].applymap(type) != reviews[[col]].iloc[0].apply(type)).any(axis = 1)\n",
      "C:\\Users\\junio\\AppData\\Local\\Temp\\ipykernel_4564\\1666836673.py:2: FutureWarning: DataFrame.applymap has been deprecated. Use DataFrame.map instead.\n",
      "  weird = (reviews[[col]].applymap(type) != reviews[[col]].iloc[0].apply(type)).any(axis = 1)\n",
      "C:\\Users\\junio\\AppData\\Local\\Temp\\ipykernel_4564\\1666836673.py:2: FutureWarning: DataFrame.applymap has been deprecated. Use DataFrame.map instead.\n",
      "  weird = (reviews[[col]].applymap(type) != reviews[[col]].iloc[0].apply(type)).any(axis = 1)\n",
      "C:\\Users\\junio\\AppData\\Local\\Temp\\ipykernel_4564\\1666836673.py:2: FutureWarning: DataFrame.applymap has been deprecated. Use DataFrame.map instead.\n",
      "  weird = (reviews[[col]].applymap(type) != reviews[[col]].iloc[0].apply(type)).any(axis = 1)\n"
     ]
    }
   ],
   "source": [
    "for col in reviews.columns.tolist():\n",
    "      weird = (reviews[[col]].applymap(type) != reviews[[col]].iloc[0].apply(type)).any(axis = 1)\n",
    "      if len(reviews[weird]) > 0:\n",
    "        print(col) \n",
    "      else:\n",
    "         print(\"No mixed-type columns found!\")   "
   ]
  },
  {
   "cell_type": "code",
   "execution_count": 29,
   "id": "7c027e97-2bee-49ad-bfab-ba431364539c",
   "metadata": {},
   "outputs": [],
   "source": [
    "# Convert values in 'review_title' column to strings\n",
    "reviews['review_title'] = reviews['review_title'].astype(str)\n",
    "\n",
    "# Convert values in 'review_comment' column to strings\n",
    "reviews['review_comment'] = reviews['review_comment'].astype(str)"
   ]
  },
  {
   "cell_type": "code",
   "execution_count": 30,
   "id": "42c5d032-c88f-4f5a-9b1b-c465482cf51e",
   "metadata": {},
   "outputs": [
    {
     "name": "stdout",
     "output_type": "stream",
     "text": [
      "object\n",
      "object\n"
     ]
    }
   ],
   "source": [
    "# check if all values are indeed strings\n",
    "\n",
    "print(reviews['review_title'].dtype)\n",
    "print(reviews['review_comment'].dtype)"
   ]
  },
  {
   "cell_type": "markdown",
   "id": "9b832d23-63e5-4e60-a112-bfebe6a4002a",
   "metadata": {},
   "source": [
    "### 3. Import Orders-Items-Products Data Set"
   ]
  },
  {
   "cell_type": "code",
   "execution_count": 34,
   "id": "85086f7c-3337-4965-acbe-b2bfc792e82d",
   "metadata": {},
   "outputs": [],
   "source": [
    "# Import data set that was merged in the previous task, it is already cleaned!\n",
    "\n",
    "ords_items_prods = pd.read_csv(os.path.join(path, '02 Data', 'Prepared Data', 'ords_items_prod_merged_price_flag.csv'), index_col = False)"
   ]
  },
  {
   "cell_type": "code",
   "execution_count": null,
   "id": "1ad69ec4-eeac-470f-b468-961e2b500aba",
   "metadata": {},
   "outputs": [],
   "source": [
    "ords_items_prods.head()"
   ]
  },
  {
   "cell_type": "code",
   "execution_count": 37,
   "id": "b73b74c5-7eb1-4bac-acbd-54fa8598b736",
   "metadata": {},
   "outputs": [],
   "source": [
    "# Drop unnecessary columns  from reviews dataframe\n",
    "\n",
    "ords_items_prods.drop(columns=\"Unnamed: 0\", inplace=True)"
   ]
  },
  {
   "cell_type": "markdown",
   "id": "b42bb161-2387-462f-ae14-7de40349aa89",
   "metadata": {},
   "source": [
    "### 4. Merge: Orders_Items_Products with Order_reviews Data Set\n",
    "       unique identifier : order_id"
   ]
  },
  {
   "cell_type": "code",
   "execution_count": 43,
   "id": "77fb7f8e-52f1-491f-b26e-61746b025ff9",
   "metadata": {},
   "outputs": [],
   "source": [
    "ords_items_prods_reviews = ords_items_prods.merge(reviews, on = 'order_id', indicator = True)"
   ]
  },
  {
   "cell_type": "code",
   "execution_count": null,
   "id": "f0c1ad23-261e-4999-b2ef-6f381fd2f2c5",
   "metadata": {},
   "outputs": [],
   "source": [
    "ords_items_prods_reviews.head()"
   ]
  },
  {
   "cell_type": "code",
   "execution_count": 45,
   "id": "8b8b0752-2d1b-4ed6-af7e-b4a3e86ab5dc",
   "metadata": {},
   "outputs": [
    {
     "data": {
      "text/plain": [
       "_merge\n",
       "both          108198\n",
       "left_only          0\n",
       "right_only         0\n",
       "Name: count, dtype: int64"
      ]
     },
     "execution_count": 45,
     "metadata": {},
     "output_type": "execute_result"
    }
   ],
   "source": [
    "# check whether there is a full match or not. \n",
    "### They do have a full match  the default Join was applied (using how = 'inner')., tha is, Inner Join)\n",
    "\n",
    "ords_items_prods_reviews['_merge'].value_counts(dropna = False)   # The merge worked!"
   ]
  },
  {
   "cell_type": "code",
   "execution_count": 47,
   "id": "e2f58cce-d85e-42ed-8076-e7b13a2eb647",
   "metadata": {},
   "outputs": [],
   "source": [
    "# Drop the _merge flag\n",
    "\n",
    "ords_items_prods_reviews.drop(columns='_merge', inplace=True)"
   ]
  },
  {
   "cell_type": "code",
   "execution_count": 49,
   "id": "41050ae7-f83e-49ad-9f4d-4335e3edbc95",
   "metadata": {},
   "outputs": [],
   "source": [
    "# Export this merged version of the data\n",
    "\n",
    "ords_items_prods_reviews.to_csv(os.path.join(path, '02 Data', 'Prepared Data', 'ords_items_prods_reviews_merged.csv'), index = False)"
   ]
  },
  {
   "cell_type": "markdown",
   "id": "5037f4d9-4742-483b-bbea-110d2ae9fadf",
   "metadata": {},
   "source": [
    "### 5. Import Customers Data Set "
   ]
  },
  {
   "cell_type": "code",
   "execution_count": 63,
   "id": "c5173dff-2988-4ab0-bffc-9386e9513de2",
   "metadata": {},
   "outputs": [],
   "source": [
    "customers = pd.read_csv(os.path.join(path, '02 Data', 'Prepared Data', 'olist_customers_wrangled.csv'), index_col = False)"
   ]
  },
  {
   "cell_type": "code",
   "execution_count": null,
   "id": "e40b75ed-2bc9-4039-9afb-4d699315287b",
   "metadata": {},
   "outputs": [],
   "source": [
    "customers.head()"
   ]
  },
  {
   "cell_type": "code",
   "execution_count": 69,
   "id": "ce04e46a-1cbe-4ddf-86c6-14832d12a6f1",
   "metadata": {},
   "outputs": [
    {
     "data": {
      "text/plain": [
       "(99441, 5)"
      ]
     },
     "execution_count": 69,
     "metadata": {},
     "output_type": "execute_result"
    }
   ],
   "source": [
    "customers.shape"
   ]
  },
  {
   "cell_type": "markdown",
   "id": "bf868e69-34c4-4ba1-a36b-3741a23bc7cc",
   "metadata": {},
   "source": [
    "### Remaining cleaning procedures before merging with other datasets"
   ]
  },
  {
   "cell_type": "markdown",
   "id": "16cb40a4-d196-4084-8f58-9be252c06f57",
   "metadata": {},
   "source": [
    "#### Dropping Columns"
   ]
  },
  {
   "cell_type": "code",
   "execution_count": 68,
   "id": "7b0ec7b5-e172-4430-80bd-314a4640ba9c",
   "metadata": {},
   "outputs": [],
   "source": [
    "# Drop unnecessary columns  from reviews dataframe\n",
    "\n",
    "customers.drop(columns=\"Unnamed: 0\", inplace=True)"
   ]
  },
  {
   "cell_type": "markdown",
   "id": "136c2d96-f8f9-4b33-9e52-6b385d79f663",
   "metadata": {},
   "source": [
    "#### Missing Values Checks:"
   ]
  },
  {
   "cell_type": "code",
   "execution_count": null,
   "id": "2497a1f3-9a33-43fa-82ee-ab75e446d319",
   "metadata": {},
   "outputs": [],
   "source": [
    "# Check for missing values\n",
    "\n",
    "customers.isnull().sum()  # No Missing Values!"
   ]
  },
  {
   "cell_type": "markdown",
   "id": "41b5bed4-b5f6-42f3-a942-84914ea04dee",
   "metadata": {},
   "source": [
    "#### Duplicates Checks:"
   ]
  },
  {
   "cell_type": "code",
   "execution_count": 71,
   "id": "1ac1bad5-bdad-4406-b9a2-393972910cbc",
   "metadata": {},
   "outputs": [],
   "source": [
    "# Find duplicates\n",
    "\n",
    "customers_dups = customers[customers.duplicated()]"
   ]
  },
  {
   "cell_type": "code",
   "execution_count": 72,
   "id": "93f1b7c3-92ff-4215-b800-109842fd89d0",
   "metadata": {},
   "outputs": [
    {
     "data": {
      "text/plain": [
       "(0, 5)"
      ]
     },
     "execution_count": 72,
     "metadata": {},
     "output_type": "execute_result"
    }
   ],
   "source": [
    "customers_dups.shape # No Diplicates either!"
   ]
  },
  {
   "cell_type": "markdown",
   "id": "5574a101-976f-4bd8-af9a-df8034a9d2d1",
   "metadata": {},
   "source": [
    "#### Mixed_type Data:"
   ]
  },
  {
   "cell_type": "code",
   "execution_count": null,
   "id": "fc74873b-ed6a-4803-9129-7c4fbf8fd437",
   "metadata": {},
   "outputs": [],
   "source": [
    "for col in customers.columns.tolist():\n",
    "      weird = (customers[[col]].applymap(type) != customers[[col]].iloc[0].apply(type)).any(axis = 1)\n",
    "      if len(customers[weird]) > 0:\n",
    "        print(col) \n",
    "      else:\n",
    "         print(\"No mixed-type columns found!\")   ### No mixed-type columns!"
   ]
  },
  {
   "cell_type": "markdown",
   "id": "4ae9e21a-5198-4966-8267-58409f21e252",
   "metadata": {},
   "source": [
    "### 6. Merge: Orders_Items_Products_Reviews with Customers Data Set\n",
    "       unique identifier: customer_id"
   ]
  },
  {
   "cell_type": "code",
   "execution_count": 77,
   "id": "ea606520-d47d-4ef7-ad27-92c19ac57b34",
   "metadata": {},
   "outputs": [],
   "source": [
    "# merge\n",
    "ords_items_prods_reviews_customers = ords_items_prods_reviews.merge(customers, on = 'customer_id', indicator = True)"
   ]
  },
  {
   "cell_type": "code",
   "execution_count": 85,
   "id": "1d57c5b7-0169-4a87-aa8e-36edaae9e165",
   "metadata": {},
   "outputs": [
    {
     "data": {
      "text/html": [
       "<div>\n",
       "<style scoped>\n",
       "    .dataframe tbody tr th:only-of-type {\n",
       "        vertical-align: middle;\n",
       "    }\n",
       "\n",
       "    .dataframe tbody tr th {\n",
       "        vertical-align: top;\n",
       "    }\n",
       "\n",
       "    .dataframe thead th {\n",
       "        text-align: right;\n",
       "    }\n",
       "</style>\n",
       "<table border=\"1\" class=\"dataframe\">\n",
       "  <thead>\n",
       "    <tr style=\"text-align: right;\">\n",
       "      <th></th>\n",
       "      <th>order_id</th>\n",
       "      <th>customer_id</th>\n",
       "      <th>purchase_date</th>\n",
       "      <th>delivered_customer_date</th>\n",
       "      <th>estimated_delivery_date</th>\n",
       "      <th>item_count</th>\n",
       "      <th>product_id</th>\n",
       "      <th>seller_id</th>\n",
       "      <th>price</th>\n",
       "      <th>freight_value</th>\n",
       "      <th>prod_category</th>\n",
       "      <th>Price category</th>\n",
       "      <th>review_score</th>\n",
       "      <th>review_title</th>\n",
       "      <th>review_comment</th>\n",
       "      <th>customer_unique_id</th>\n",
       "      <th>customer_zip_code_prefix</th>\n",
       "      <th>customer_city</th>\n",
       "      <th>customer_state</th>\n",
       "    </tr>\n",
       "  </thead>\n",
       "  <tbody>\n",
       "    <tr>\n",
       "      <th>0</th>\n",
       "      <td>e481f51cbdc54678b7cc49136f2d6af7</td>\n",
       "      <td>9ef432eb6251297304e76186b10a928d</td>\n",
       "      <td>2017-10-02 10:56:33</td>\n",
       "      <td>2017-10-10 21:25:13</td>\n",
       "      <td>2017-10-18 00:00:00</td>\n",
       "      <td>1</td>\n",
       "      <td>87285b34884572647811a353c7ac498a</td>\n",
       "      <td>3504c0cb71d7fa48d967e0e4c94d59d9</td>\n",
       "      <td>29.99</td>\n",
       "      <td>8.72</td>\n",
       "      <td>housewares</td>\n",
       "      <td>Low price</td>\n",
       "      <td>4</td>\n",
       "      <td>nan</td>\n",
       "      <td>Não testei o produto ainda, mas ele veio corre...</td>\n",
       "      <td>7c396fd4830fd04220f754e42b4e5bff</td>\n",
       "      <td>3149</td>\n",
       "      <td>sao paulo</td>\n",
       "      <td>SP</td>\n",
       "    </tr>\n",
       "    <tr>\n",
       "      <th>1</th>\n",
       "      <td>128e10d95713541c87cd1a2e48201934</td>\n",
       "      <td>a20e8105f23924cd00833fd87daa0831</td>\n",
       "      <td>2017-08-15 18:29:31</td>\n",
       "      <td>2017-08-18 14:44:43</td>\n",
       "      <td>2017-08-28 00:00:00</td>\n",
       "      <td>1</td>\n",
       "      <td>87285b34884572647811a353c7ac498a</td>\n",
       "      <td>3504c0cb71d7fa48d967e0e4c94d59d9</td>\n",
       "      <td>29.99</td>\n",
       "      <td>7.78</td>\n",
       "      <td>housewares</td>\n",
       "      <td>Low price</td>\n",
       "      <td>4</td>\n",
       "      <td>nan</td>\n",
       "      <td>Deveriam embalar melhor o produto. A caixa vei...</td>\n",
       "      <td>3a51803cc0d012c3b5dc8b7528cb05f7</td>\n",
       "      <td>3366</td>\n",
       "      <td>sao paulo</td>\n",
       "      <td>SP</td>\n",
       "    </tr>\n",
       "    <tr>\n",
       "      <th>2</th>\n",
       "      <td>0e7e841ddf8f8f2de2bad69267ecfbcf</td>\n",
       "      <td>26c7ac168e1433912a51b924fbd34d34</td>\n",
       "      <td>2017-08-02 18:24:47</td>\n",
       "      <td>2017-08-07 18:30:01</td>\n",
       "      <td>2017-08-15 00:00:00</td>\n",
       "      <td>1</td>\n",
       "      <td>87285b34884572647811a353c7ac498a</td>\n",
       "      <td>3504c0cb71d7fa48d967e0e4c94d59d9</td>\n",
       "      <td>29.99</td>\n",
       "      <td>7.78</td>\n",
       "      <td>housewares</td>\n",
       "      <td>Low price</td>\n",
       "      <td>5</td>\n",
       "      <td>nan</td>\n",
       "      <td>Só achei ela pequena pra seis xícaras ,mais é ...</td>\n",
       "      <td>ef0996a1a279c26e7ecbd737be23d235</td>\n",
       "      <td>2290</td>\n",
       "      <td>sao paulo</td>\n",
       "      <td>SP</td>\n",
       "    </tr>\n",
       "    <tr>\n",
       "      <th>3</th>\n",
       "      <td>bfc39df4f36c3693ff3b63fcbea9e90a</td>\n",
       "      <td>53904ddbea91e1e92b2b3f1d09a7af86</td>\n",
       "      <td>2017-10-23 23:26:46</td>\n",
       "      <td>2017-11-07 18:04:59</td>\n",
       "      <td>2017-11-13 00:00:00</td>\n",
       "      <td>1</td>\n",
       "      <td>87285b34884572647811a353c7ac498a</td>\n",
       "      <td>3504c0cb71d7fa48d967e0e4c94d59d9</td>\n",
       "      <td>29.99</td>\n",
       "      <td>14.10</td>\n",
       "      <td>housewares</td>\n",
       "      <td>Low price</td>\n",
       "      <td>3</td>\n",
       "      <td>nan</td>\n",
       "      <td>nan</td>\n",
       "      <td>e781fdcc107d13d865fc7698711cc572</td>\n",
       "      <td>88032</td>\n",
       "      <td>florianopolis</td>\n",
       "      <td>SC</td>\n",
       "    </tr>\n",
       "    <tr>\n",
       "      <th>4</th>\n",
       "      <td>53cdb2fc8bc7dce0b6741e2150273451</td>\n",
       "      <td>b0830fb4747a6c6d20dea0b8c802d7ef</td>\n",
       "      <td>2018-07-24 20:41:37</td>\n",
       "      <td>2018-08-07 15:27:45</td>\n",
       "      <td>2018-08-13 00:00:00</td>\n",
       "      <td>1</td>\n",
       "      <td>595fac2a385ac33a80bd5114aec74eb8</td>\n",
       "      <td>289cdb325fb7e7f891c38608bf9e0962</td>\n",
       "      <td>118.70</td>\n",
       "      <td>22.76</td>\n",
       "      <td>perfumery</td>\n",
       "      <td>Middle price</td>\n",
       "      <td>4</td>\n",
       "      <td>Muito boa a loja</td>\n",
       "      <td>Muito bom o produto.</td>\n",
       "      <td>af07308b275d755c9edb36a90c618231</td>\n",
       "      <td>47813</td>\n",
       "      <td>barreiras</td>\n",
       "      <td>BA</td>\n",
       "    </tr>\n",
       "  </tbody>\n",
       "</table>\n",
       "</div>"
      ],
      "text/plain": [
       "                           order_id                       customer_id  \\\n",
       "0  e481f51cbdc54678b7cc49136f2d6af7  9ef432eb6251297304e76186b10a928d   \n",
       "1  128e10d95713541c87cd1a2e48201934  a20e8105f23924cd00833fd87daa0831   \n",
       "2  0e7e841ddf8f8f2de2bad69267ecfbcf  26c7ac168e1433912a51b924fbd34d34   \n",
       "3  bfc39df4f36c3693ff3b63fcbea9e90a  53904ddbea91e1e92b2b3f1d09a7af86   \n",
       "4  53cdb2fc8bc7dce0b6741e2150273451  b0830fb4747a6c6d20dea0b8c802d7ef   \n",
       "\n",
       "         purchase_date delivered_customer_date estimated_delivery_date  \\\n",
       "0  2017-10-02 10:56:33     2017-10-10 21:25:13     2017-10-18 00:00:00   \n",
       "1  2017-08-15 18:29:31     2017-08-18 14:44:43     2017-08-28 00:00:00   \n",
       "2  2017-08-02 18:24:47     2017-08-07 18:30:01     2017-08-15 00:00:00   \n",
       "3  2017-10-23 23:26:46     2017-11-07 18:04:59     2017-11-13 00:00:00   \n",
       "4  2018-07-24 20:41:37     2018-08-07 15:27:45     2018-08-13 00:00:00   \n",
       "\n",
       "   item_count                        product_id  \\\n",
       "0           1  87285b34884572647811a353c7ac498a   \n",
       "1           1  87285b34884572647811a353c7ac498a   \n",
       "2           1  87285b34884572647811a353c7ac498a   \n",
       "3           1  87285b34884572647811a353c7ac498a   \n",
       "4           1  595fac2a385ac33a80bd5114aec74eb8   \n",
       "\n",
       "                          seller_id   price  freight_value prod_category  \\\n",
       "0  3504c0cb71d7fa48d967e0e4c94d59d9   29.99           8.72    housewares   \n",
       "1  3504c0cb71d7fa48d967e0e4c94d59d9   29.99           7.78    housewares   \n",
       "2  3504c0cb71d7fa48d967e0e4c94d59d9   29.99           7.78    housewares   \n",
       "3  3504c0cb71d7fa48d967e0e4c94d59d9   29.99          14.10    housewares   \n",
       "4  289cdb325fb7e7f891c38608bf9e0962  118.70          22.76     perfumery   \n",
       "\n",
       "  Price category  review_score      review_title  \\\n",
       "0      Low price             4               nan   \n",
       "1      Low price             4               nan   \n",
       "2      Low price             5               nan   \n",
       "3      Low price             3               nan   \n",
       "4   Middle price             4  Muito boa a loja   \n",
       "\n",
       "                                      review_comment  \\\n",
       "0  Não testei o produto ainda, mas ele veio corre...   \n",
       "1  Deveriam embalar melhor o produto. A caixa vei...   \n",
       "2  Só achei ela pequena pra seis xícaras ,mais é ...   \n",
       "3                                                nan   \n",
       "4                               Muito bom o produto.   \n",
       "\n",
       "                 customer_unique_id  customer_zip_code_prefix  customer_city  \\\n",
       "0  7c396fd4830fd04220f754e42b4e5bff                      3149      sao paulo   \n",
       "1  3a51803cc0d012c3b5dc8b7528cb05f7                      3366      sao paulo   \n",
       "2  ef0996a1a279c26e7ecbd737be23d235                      2290      sao paulo   \n",
       "3  e781fdcc107d13d865fc7698711cc572                     88032  florianopolis   \n",
       "4  af07308b275d755c9edb36a90c618231                     47813      barreiras   \n",
       "\n",
       "  customer_state  \n",
       "0             SP  \n",
       "1             SP  \n",
       "2             SP  \n",
       "3             SC  \n",
       "4             BA  "
      ]
     },
     "execution_count": 85,
     "metadata": {},
     "output_type": "execute_result"
    }
   ],
   "source": [
    "# check head\n",
    "\n",
    "ords_items_prods_reviews_customers.head()"
   ]
  },
  {
   "cell_type": "code",
   "execution_count": null,
   "id": "3db1972e-163c-4b62-b078-35aa25fc1e1e",
   "metadata": {},
   "outputs": [],
   "source": [
    "# check whether there is a full match or not. \n",
    "\n",
    "ords_items_prods_reviews_customers['_merge'].value_counts(dropna = False)   # The merge worked!"
   ]
  },
  {
   "cell_type": "code",
   "execution_count": 80,
   "id": "3b5449d8-3d4e-4835-a442-4ae4d318212d",
   "metadata": {},
   "outputs": [],
   "source": [
    "# Drop the _merge flag\n",
    "\n",
    "ords_items_prods_reviews_customers.drop(columns='_merge', inplace=True)"
   ]
  },
  {
   "cell_type": "code",
   "execution_count": 81,
   "id": "d27d55fa-47b2-478c-87c9-6512eef73742",
   "metadata": {},
   "outputs": [],
   "source": [
    "# Export this merged version of the data\n",
    "\n",
    "ords_items_prods_reviews_customers.to_csv(os.path.join(path, '02 Data', 'Prepared Data', 'ords_items_prods_reviews_customers_merged.csv'), index = False)"
   ]
  },
  {
   "cell_type": "code",
   "execution_count": null,
   "id": "9e41f4f7-3dc6-4f4e-bf9d-b9414c33bf9a",
   "metadata": {},
   "outputs": [],
   "source": [
    "ords_items_prods_reviews_customers.describe()"
   ]
  },
  {
   "cell_type": "code",
   "execution_count": null,
   "id": "b41f1806-79ef-436f-b8d6-79dc72b7ee65",
   "metadata": {},
   "outputs": [],
   "source": [
    "ords_items_prods_reviews_customers.info()"
   ]
  },
  {
   "cell_type": "markdown",
   "id": "0fb2c08e-65aa-47cc-92f2-3363829744c2",
   "metadata": {},
   "source": [
    "### 7. Import Sellers Data Set "
   ]
  },
  {
   "cell_type": "code",
   "execution_count": 57,
   "id": "97e7c33a-a63a-4b27-bc8a-79a4776e3316",
   "metadata": {},
   "outputs": [],
   "source": [
    "sellers = pd.read_csv(os.path.join(path, '02 Data', 'Prepared Data', 'olist_sellers_wrangled.csv'), index_col = False)"
   ]
  },
  {
   "cell_type": "code",
   "execution_count": 61,
   "id": "97504512-7b01-4db1-b12f-91ccce60992b",
   "metadata": {},
   "outputs": [
    {
     "data": {
      "text/html": [
       "<div>\n",
       "<style scoped>\n",
       "    .dataframe tbody tr th:only-of-type {\n",
       "        vertical-align: middle;\n",
       "    }\n",
       "\n",
       "    .dataframe tbody tr th {\n",
       "        vertical-align: top;\n",
       "    }\n",
       "\n",
       "    .dataframe thead th {\n",
       "        text-align: right;\n",
       "    }\n",
       "</style>\n",
       "<table border=\"1\" class=\"dataframe\">\n",
       "  <thead>\n",
       "    <tr style=\"text-align: right;\">\n",
       "      <th></th>\n",
       "      <th>seller_id</th>\n",
       "      <th>seller_zip_code_prefix</th>\n",
       "      <th>seller_city</th>\n",
       "      <th>seller_state</th>\n",
       "    </tr>\n",
       "  </thead>\n",
       "  <tbody>\n",
       "    <tr>\n",
       "      <th>0</th>\n",
       "      <td>3442f8959a84dea7ee197c632cb2df15</td>\n",
       "      <td>13023</td>\n",
       "      <td>campinas</td>\n",
       "      <td>SP</td>\n",
       "    </tr>\n",
       "    <tr>\n",
       "      <th>1</th>\n",
       "      <td>d1b65fc7debc3361ea86b5f14c68d2e2</td>\n",
       "      <td>13844</td>\n",
       "      <td>mogi guacu</td>\n",
       "      <td>SP</td>\n",
       "    </tr>\n",
       "    <tr>\n",
       "      <th>2</th>\n",
       "      <td>ce3ad9de960102d0677a81f5d0bb7b2d</td>\n",
       "      <td>20031</td>\n",
       "      <td>rio de janeiro</td>\n",
       "      <td>RJ</td>\n",
       "    </tr>\n",
       "    <tr>\n",
       "      <th>3</th>\n",
       "      <td>c0f3eea2e14555b6faeea3dd58c1b1c3</td>\n",
       "      <td>4195</td>\n",
       "      <td>sao paulo</td>\n",
       "      <td>SP</td>\n",
       "    </tr>\n",
       "    <tr>\n",
       "      <th>4</th>\n",
       "      <td>51a04a8a6bdcb23deccc82b0b80742cf</td>\n",
       "      <td>12914</td>\n",
       "      <td>braganca paulista</td>\n",
       "      <td>SP</td>\n",
       "    </tr>\n",
       "  </tbody>\n",
       "</table>\n",
       "</div>"
      ],
      "text/plain": [
       "                          seller_id  seller_zip_code_prefix  \\\n",
       "0  3442f8959a84dea7ee197c632cb2df15                   13023   \n",
       "1  d1b65fc7debc3361ea86b5f14c68d2e2                   13844   \n",
       "2  ce3ad9de960102d0677a81f5d0bb7b2d                   20031   \n",
       "3  c0f3eea2e14555b6faeea3dd58c1b1c3                    4195   \n",
       "4  51a04a8a6bdcb23deccc82b0b80742cf                   12914   \n",
       "\n",
       "         seller_city seller_state  \n",
       "0           campinas           SP  \n",
       "1         mogi guacu           SP  \n",
       "2     rio de janeiro           RJ  \n",
       "3          sao paulo           SP  \n",
       "4  braganca paulista           SP  "
      ]
     },
     "execution_count": 61,
     "metadata": {},
     "output_type": "execute_result"
    }
   ],
   "source": [
    "sellers.head()"
   ]
  },
  {
   "cell_type": "markdown",
   "id": "833db575-f423-44f7-9c71-0ca3c5f8176c",
   "metadata": {},
   "source": [
    "### Remaining cleaning procedures before merging with other datasets"
   ]
  },
  {
   "cell_type": "markdown",
   "id": "49a91827-8a13-44d1-a3b3-82c989e1d210",
   "metadata": {},
   "source": [
    "#### Dropping Columns:"
   ]
  },
  {
   "cell_type": "code",
   "execution_count": 59,
   "id": "05c10a37-31be-4586-9458-e225b1b6db00",
   "metadata": {},
   "outputs": [],
   "source": [
    "# Drop unnecessary columns  from reviews dataframe\n",
    "\n",
    "sellers.drop(columns = 'Unnamed: 0', inplace = True)"
   ]
  },
  {
   "cell_type": "code",
   "execution_count": null,
   "id": "ee0a99ab-c260-4948-b8ec-198bd81d00e1",
   "metadata": {},
   "outputs": [],
   "source": [
    "sellers.info()"
   ]
  },
  {
   "cell_type": "markdown",
   "id": "c337446e-7522-4bdf-9757-9f19d198dcb0",
   "metadata": {},
   "source": [
    "### 8.   Merge: Orders_Items_Products_Reviews_Customers with Sellers Data Set\n",
    "         unique identifier: seller_id"
   ]
  },
  {
   "cell_type": "code",
   "execution_count": 87,
   "id": "3f21e867-56c0-4046-be16-f9f815c4e4e4",
   "metadata": {},
   "outputs": [],
   "source": [
    "# merge \n",
    "ords_items_prods_reviews_customers_sellers = ords_items_prods_reviews_customers.merge(sellers, on = 'seller_id', indicator = True)"
   ]
  },
  {
   "cell_type": "code",
   "execution_count": 96,
   "id": "60e69b5c-646e-4896-a806-9f340f7c6626",
   "metadata": {},
   "outputs": [
    {
     "data": {
      "text/plain": [
       "(108198, 22)"
      ]
     },
     "execution_count": 96,
     "metadata": {},
     "output_type": "execute_result"
    }
   ],
   "source": [
    "ords_items_prods_reviews_customers_sellers.shape"
   ]
  },
  {
   "cell_type": "code",
   "execution_count": null,
   "id": "72aa23d6-590f-4ee6-8de1-7391fd178466",
   "metadata": {},
   "outputs": [],
   "source": [
    "# check whether there is a full match or not. \n",
    "\n",
    "ords_items_prods_reviews_customers_sellers['_merge'].value_counts(dropna = False)   # The merge worked!"
   ]
  },
  {
   "cell_type": "code",
   "execution_count": 97,
   "id": "0dd80a67-11d6-47f9-9ec3-3030cee577ba",
   "metadata": {},
   "outputs": [
    {
     "data": {
      "text/html": [
       "<div>\n",
       "<style scoped>\n",
       "    .dataframe tbody tr th:only-of-type {\n",
       "        vertical-align: middle;\n",
       "    }\n",
       "\n",
       "    .dataframe tbody tr th {\n",
       "        vertical-align: top;\n",
       "    }\n",
       "\n",
       "    .dataframe thead th {\n",
       "        text-align: right;\n",
       "    }\n",
       "</style>\n",
       "<table border=\"1\" class=\"dataframe\">\n",
       "  <thead>\n",
       "    <tr style=\"text-align: right;\">\n",
       "      <th></th>\n",
       "      <th>order_id</th>\n",
       "      <th>customer_id</th>\n",
       "      <th>purchase_date</th>\n",
       "      <th>delivered_customer_date</th>\n",
       "      <th>estimated_delivery_date</th>\n",
       "      <th>item_count</th>\n",
       "      <th>product_id</th>\n",
       "      <th>seller_id</th>\n",
       "      <th>price</th>\n",
       "      <th>freight_value</th>\n",
       "      <th>prod_category</th>\n",
       "      <th>Price category</th>\n",
       "      <th>review_score</th>\n",
       "      <th>review_title</th>\n",
       "      <th>review_comment</th>\n",
       "      <th>customer_unique_id</th>\n",
       "      <th>customer_zip_code_prefix</th>\n",
       "      <th>customer_city</th>\n",
       "      <th>customer_state</th>\n",
       "      <th>seller_zip_code_prefix</th>\n",
       "      <th>seller_city</th>\n",
       "      <th>seller_state</th>\n",
       "    </tr>\n",
       "  </thead>\n",
       "  <tbody>\n",
       "    <tr>\n",
       "      <th>0</th>\n",
       "      <td>e481f51cbdc54678b7cc49136f2d6af7</td>\n",
       "      <td>9ef432eb6251297304e76186b10a928d</td>\n",
       "      <td>2017-10-02 10:56:33</td>\n",
       "      <td>2017-10-10 21:25:13</td>\n",
       "      <td>2017-10-18 00:00:00</td>\n",
       "      <td>1</td>\n",
       "      <td>87285b34884572647811a353c7ac498a</td>\n",
       "      <td>3504c0cb71d7fa48d967e0e4c94d59d9</td>\n",
       "      <td>29.99</td>\n",
       "      <td>8.72</td>\n",
       "      <td>housewares</td>\n",
       "      <td>Low price</td>\n",
       "      <td>4</td>\n",
       "      <td>nan</td>\n",
       "      <td>Não testei o produto ainda, mas ele veio corre...</td>\n",
       "      <td>7c396fd4830fd04220f754e42b4e5bff</td>\n",
       "      <td>3149</td>\n",
       "      <td>sao paulo</td>\n",
       "      <td>SP</td>\n",
       "      <td>9350</td>\n",
       "      <td>maua</td>\n",
       "      <td>SP</td>\n",
       "    </tr>\n",
       "    <tr>\n",
       "      <th>1</th>\n",
       "      <td>128e10d95713541c87cd1a2e48201934</td>\n",
       "      <td>a20e8105f23924cd00833fd87daa0831</td>\n",
       "      <td>2017-08-15 18:29:31</td>\n",
       "      <td>2017-08-18 14:44:43</td>\n",
       "      <td>2017-08-28 00:00:00</td>\n",
       "      <td>1</td>\n",
       "      <td>87285b34884572647811a353c7ac498a</td>\n",
       "      <td>3504c0cb71d7fa48d967e0e4c94d59d9</td>\n",
       "      <td>29.99</td>\n",
       "      <td>7.78</td>\n",
       "      <td>housewares</td>\n",
       "      <td>Low price</td>\n",
       "      <td>4</td>\n",
       "      <td>nan</td>\n",
       "      <td>Deveriam embalar melhor o produto. A caixa vei...</td>\n",
       "      <td>3a51803cc0d012c3b5dc8b7528cb05f7</td>\n",
       "      <td>3366</td>\n",
       "      <td>sao paulo</td>\n",
       "      <td>SP</td>\n",
       "      <td>9350</td>\n",
       "      <td>maua</td>\n",
       "      <td>SP</td>\n",
       "    </tr>\n",
       "    <tr>\n",
       "      <th>2</th>\n",
       "      <td>0e7e841ddf8f8f2de2bad69267ecfbcf</td>\n",
       "      <td>26c7ac168e1433912a51b924fbd34d34</td>\n",
       "      <td>2017-08-02 18:24:47</td>\n",
       "      <td>2017-08-07 18:30:01</td>\n",
       "      <td>2017-08-15 00:00:00</td>\n",
       "      <td>1</td>\n",
       "      <td>87285b34884572647811a353c7ac498a</td>\n",
       "      <td>3504c0cb71d7fa48d967e0e4c94d59d9</td>\n",
       "      <td>29.99</td>\n",
       "      <td>7.78</td>\n",
       "      <td>housewares</td>\n",
       "      <td>Low price</td>\n",
       "      <td>5</td>\n",
       "      <td>nan</td>\n",
       "      <td>Só achei ela pequena pra seis xícaras ,mais é ...</td>\n",
       "      <td>ef0996a1a279c26e7ecbd737be23d235</td>\n",
       "      <td>2290</td>\n",
       "      <td>sao paulo</td>\n",
       "      <td>SP</td>\n",
       "      <td>9350</td>\n",
       "      <td>maua</td>\n",
       "      <td>SP</td>\n",
       "    </tr>\n",
       "    <tr>\n",
       "      <th>3</th>\n",
       "      <td>bfc39df4f36c3693ff3b63fcbea9e90a</td>\n",
       "      <td>53904ddbea91e1e92b2b3f1d09a7af86</td>\n",
       "      <td>2017-10-23 23:26:46</td>\n",
       "      <td>2017-11-07 18:04:59</td>\n",
       "      <td>2017-11-13 00:00:00</td>\n",
       "      <td>1</td>\n",
       "      <td>87285b34884572647811a353c7ac498a</td>\n",
       "      <td>3504c0cb71d7fa48d967e0e4c94d59d9</td>\n",
       "      <td>29.99</td>\n",
       "      <td>14.10</td>\n",
       "      <td>housewares</td>\n",
       "      <td>Low price</td>\n",
       "      <td>3</td>\n",
       "      <td>nan</td>\n",
       "      <td>nan</td>\n",
       "      <td>e781fdcc107d13d865fc7698711cc572</td>\n",
       "      <td>88032</td>\n",
       "      <td>florianopolis</td>\n",
       "      <td>SC</td>\n",
       "      <td>9350</td>\n",
       "      <td>maua</td>\n",
       "      <td>SP</td>\n",
       "    </tr>\n",
       "    <tr>\n",
       "      <th>4</th>\n",
       "      <td>8736140c61ea584cb4250074756d8f3b</td>\n",
       "      <td>ab8844663ae049fda8baf15fc928f47f</td>\n",
       "      <td>2017-08-10 13:35:55</td>\n",
       "      <td>2017-08-16 19:03:36</td>\n",
       "      <td>2017-08-23 00:00:00</td>\n",
       "      <td>1</td>\n",
       "      <td>b00a32a0b42fd65efb58a5822009f629</td>\n",
       "      <td>3504c0cb71d7fa48d967e0e4c94d59d9</td>\n",
       "      <td>75.90</td>\n",
       "      <td>7.79</td>\n",
       "      <td>baby</td>\n",
       "      <td>Middle price</td>\n",
       "      <td>5</td>\n",
       "      <td>nan</td>\n",
       "      <td>custo beneficio, simples de usar e rápido</td>\n",
       "      <td>02c9e0c05a817d4562ec0e8c90f29dba</td>\n",
       "      <td>8577</td>\n",
       "      <td>itaquaquecetuba</td>\n",
       "      <td>SP</td>\n",
       "      <td>9350</td>\n",
       "      <td>maua</td>\n",
       "      <td>SP</td>\n",
       "    </tr>\n",
       "  </tbody>\n",
       "</table>\n",
       "</div>"
      ],
      "text/plain": [
       "                           order_id                       customer_id  \\\n",
       "0  e481f51cbdc54678b7cc49136f2d6af7  9ef432eb6251297304e76186b10a928d   \n",
       "1  128e10d95713541c87cd1a2e48201934  a20e8105f23924cd00833fd87daa0831   \n",
       "2  0e7e841ddf8f8f2de2bad69267ecfbcf  26c7ac168e1433912a51b924fbd34d34   \n",
       "3  bfc39df4f36c3693ff3b63fcbea9e90a  53904ddbea91e1e92b2b3f1d09a7af86   \n",
       "4  8736140c61ea584cb4250074756d8f3b  ab8844663ae049fda8baf15fc928f47f   \n",
       "\n",
       "         purchase_date delivered_customer_date estimated_delivery_date  \\\n",
       "0  2017-10-02 10:56:33     2017-10-10 21:25:13     2017-10-18 00:00:00   \n",
       "1  2017-08-15 18:29:31     2017-08-18 14:44:43     2017-08-28 00:00:00   \n",
       "2  2017-08-02 18:24:47     2017-08-07 18:30:01     2017-08-15 00:00:00   \n",
       "3  2017-10-23 23:26:46     2017-11-07 18:04:59     2017-11-13 00:00:00   \n",
       "4  2017-08-10 13:35:55     2017-08-16 19:03:36     2017-08-23 00:00:00   \n",
       "\n",
       "   item_count                        product_id  \\\n",
       "0           1  87285b34884572647811a353c7ac498a   \n",
       "1           1  87285b34884572647811a353c7ac498a   \n",
       "2           1  87285b34884572647811a353c7ac498a   \n",
       "3           1  87285b34884572647811a353c7ac498a   \n",
       "4           1  b00a32a0b42fd65efb58a5822009f629   \n",
       "\n",
       "                          seller_id  price  freight_value prod_category  \\\n",
       "0  3504c0cb71d7fa48d967e0e4c94d59d9  29.99           8.72    housewares   \n",
       "1  3504c0cb71d7fa48d967e0e4c94d59d9  29.99           7.78    housewares   \n",
       "2  3504c0cb71d7fa48d967e0e4c94d59d9  29.99           7.78    housewares   \n",
       "3  3504c0cb71d7fa48d967e0e4c94d59d9  29.99          14.10    housewares   \n",
       "4  3504c0cb71d7fa48d967e0e4c94d59d9  75.90           7.79          baby   \n",
       "\n",
       "  Price category  review_score review_title  \\\n",
       "0      Low price             4          nan   \n",
       "1      Low price             4          nan   \n",
       "2      Low price             5          nan   \n",
       "3      Low price             3          nan   \n",
       "4   Middle price             5          nan   \n",
       "\n",
       "                                      review_comment  \\\n",
       "0  Não testei o produto ainda, mas ele veio corre...   \n",
       "1  Deveriam embalar melhor o produto. A caixa vei...   \n",
       "2  Só achei ela pequena pra seis xícaras ,mais é ...   \n",
       "3                                                nan   \n",
       "4          custo beneficio, simples de usar e rápido   \n",
       "\n",
       "                 customer_unique_id  customer_zip_code_prefix  \\\n",
       "0  7c396fd4830fd04220f754e42b4e5bff                      3149   \n",
       "1  3a51803cc0d012c3b5dc8b7528cb05f7                      3366   \n",
       "2  ef0996a1a279c26e7ecbd737be23d235                      2290   \n",
       "3  e781fdcc107d13d865fc7698711cc572                     88032   \n",
       "4  02c9e0c05a817d4562ec0e8c90f29dba                      8577   \n",
       "\n",
       "     customer_city customer_state  seller_zip_code_prefix seller_city  \\\n",
       "0        sao paulo             SP                    9350        maua   \n",
       "1        sao paulo             SP                    9350        maua   \n",
       "2        sao paulo             SP                    9350        maua   \n",
       "3    florianopolis             SC                    9350        maua   \n",
       "4  itaquaquecetuba             SP                    9350        maua   \n",
       "\n",
       "  seller_state  \n",
       "0           SP  \n",
       "1           SP  \n",
       "2           SP  \n",
       "3           SP  \n",
       "4           SP  "
      ]
     },
     "execution_count": 97,
     "metadata": {},
     "output_type": "execute_result"
    }
   ],
   "source": [
    "# check head\n",
    "\n",
    "ords_items_prods_reviews_customers_sellers.head()"
   ]
  },
  {
   "cell_type": "code",
   "execution_count": 92,
   "id": "0fcd4289-deda-4f24-938d-6c0bc2dfe8fb",
   "metadata": {},
   "outputs": [],
   "source": [
    "# Set display options to show all rows and columns\n",
    "\n",
    "pd.set_option('display.max_rows', None)\n",
    "pd.set_option('display.max_columns', None)"
   ]
  },
  {
   "cell_type": "code",
   "execution_count": 95,
   "id": "24a067b2-bba2-47a9-b1d9-664de73e0883",
   "metadata": {},
   "outputs": [],
   "source": [
    "# Drop merge flag\n",
    "\n",
    "ords_items_prods_reviews_customers_sellers.drop(columns = '_merge', inplace = True)"
   ]
  },
  {
   "cell_type": "code",
   "execution_count": null,
   "id": "81df683b-8416-445b-8e93-f115e19ef1f9",
   "metadata": {},
   "outputs": [],
   "source": [
    "ords_items_prods_reviews_customers_sellers.info()"
   ]
  },
  {
   "cell_type": "code",
   "execution_count": 102,
   "id": "16ad6438-a73d-4067-b42b-6d91a939b099",
   "metadata": {},
   "outputs": [],
   "source": [
    "# Export this merged version of the data set\n",
    "\n",
    "ords_items_prods_reviews_customers_sellers.to_csv(os.path.join(path, '02 Data', 'Prepared Data', 'ords_items_prods_reviews_cust_sellers_merged.csv'), index = False)"
   ]
  }
 ],
 "metadata": {
  "kernelspec": {
   "display_name": "Python 3 (ipykernel)",
   "language": "python",
   "name": "python3"
  },
  "language_info": {
   "codemirror_mode": {
    "name": "ipython",
    "version": 3
   },
   "file_extension": ".py",
   "mimetype": "text/x-python",
   "name": "python",
   "nbconvert_exporter": "python",
   "pygments_lexer": "ipython3",
   "version": "3.11.5"
  }
 },
 "nbformat": 4,
 "nbformat_minor": 5
}
