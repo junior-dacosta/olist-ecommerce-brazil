{
 "cells": [
  {
   "cell_type": "markdown",
   "id": "d3d24bc9-2e15-4f61-8fc3-311fd469cea6",
   "metadata": {},
   "source": [
    "# Olist Brazilian E-Commerce - Geographic Visualization"
   ]
  },
  {
   "cell_type": "markdown",
   "id": "1b95e6f0-fb29-4572-b178-5da78f9e1fbf",
   "metadata": {},
   "source": [
    "### This script contains the following:\n",
    "\n",
    "#### 1.   Import Libraries\n",
    "#### 2.   Import Data Set: Orders_Items_Products_Reviews_Customers_Sellers \n",
    "#### 3.   Import Data Set: GeoLocation\n",
    "#### 4.   Group the geolocation data by unique zip code prefixes.\n",
    "#### 4.   Extrem value checks\n",
    "#### 5.   Merge customers data set with geolocation data\n",
    "#### 6.   Import Sellers data set\n",
    "#### 7.   Merge sellers data with geolocation data\n",
    "#### 8.   Merge customers data with seller data, containing geolocation data for both\n",
    "#### 9.   Remaining Consistency Checks"
   ]
  },
  {
   "cell_type": "markdown",
   "id": "8bc66d8c-6e56-4930-ae04-daa36c7711fb",
   "metadata": {},
   "source": [
    "### 1. Import Libraries"
   ]
  },
  {
   "cell_type": "code",
   "execution_count": 1,
   "id": "14e210cd-2dc4-49fe-a7ed-97b86b8aad2f",
   "metadata": {},
   "outputs": [],
   "source": [
    "# import libraries\n",
    "import pandas as pd\n",
    "import numpy as np\n",
    "import seaborn as sns\n",
    "import matplotlib.pyplot as plt\n",
    "import matplotlib\n",
    "import os\n",
    "import folium\n",
    "import json"
   ]
  },
  {
   "cell_type": "code",
   "execution_count": 2,
   "id": "75f06870-e74b-4133-902b-63eaff1c27b7",
   "metadata": {},
   "outputs": [],
   "source": [
    "# the charts created are displayed in the notebook without the need to \"call\" them specifically.\n",
    "\n",
    "%matplotlib inline"
   ]
  },
  {
   "cell_type": "code",
   "execution_count": 3,
   "id": "a5a2c12f-6ab1-4c58-abd9-baad7ead5533",
   "metadata": {},
   "outputs": [],
   "source": [
    "# define a path\n",
    "path = r'C:\\Users\\junio\\OneDrive\\Career Foundry Project\\Achievement 6\\02-2024 Brazilian E-Commerce'"
   ]
  },
  {
   "cell_type": "markdown",
   "id": "fe7c872b-6245-4ce7-8be0-8a7c6af1ef5d",
   "metadata": {},
   "source": [
    "### 2. Import Data Set: Orders_Items_Products_Reviews_Customers"
   ]
  },
  {
   "cell_type": "code",
   "execution_count": 6,
   "id": "e14c194a-86e2-4eaf-8313-57aca450c4ae",
   "metadata": {},
   "outputs": [],
   "source": [
    "customers_prods_reviews = pd.read_csv(os.path.join(path, '02 Data', 'Prepared Data', 'ords_items_prods_reviews_customers_merged.csv'), index_col = False)\n"
   ]
  },
  {
   "cell_type": "code",
   "execution_count": 7,
   "id": "b29a0b58-92a9-41c1-8834-868a3a0800cf",
   "metadata": {},
   "outputs": [],
   "source": [
    "# Set display options to show all rows and columns\n",
    "\n",
    "pd.set_option('display.max_rows', None)\n",
    "pd.set_option('display.max_columns', None)"
   ]
  },
  {
   "cell_type": "code",
   "execution_count": 8,
   "id": "fb97a0a0-51b6-4369-8b5f-67c2d91cb36a",
   "metadata": {},
   "outputs": [
    {
     "data": {
      "text/html": [
       "<div>\n",
       "<style scoped>\n",
       "    .dataframe tbody tr th:only-of-type {\n",
       "        vertical-align: middle;\n",
       "    }\n",
       "\n",
       "    .dataframe tbody tr th {\n",
       "        vertical-align: top;\n",
       "    }\n",
       "\n",
       "    .dataframe thead th {\n",
       "        text-align: right;\n",
       "    }\n",
       "</style>\n",
       "<table border=\"1\" class=\"dataframe\">\n",
       "  <thead>\n",
       "    <tr style=\"text-align: right;\">\n",
       "      <th></th>\n",
       "      <th>order_id</th>\n",
       "      <th>customer_id</th>\n",
       "      <th>purchase_date</th>\n",
       "      <th>delivered_customer_date</th>\n",
       "      <th>estimated_delivery_date</th>\n",
       "      <th>item_count</th>\n",
       "      <th>product_id</th>\n",
       "      <th>seller_id</th>\n",
       "      <th>price</th>\n",
       "      <th>freight_value</th>\n",
       "      <th>prod_category</th>\n",
       "      <th>Price category</th>\n",
       "      <th>review_score</th>\n",
       "      <th>review_title</th>\n",
       "      <th>review_comment</th>\n",
       "      <th>customer_unique_id</th>\n",
       "      <th>customer_zip_code_prefix</th>\n",
       "      <th>customer_city</th>\n",
       "      <th>customer_state</th>\n",
       "    </tr>\n",
       "  </thead>\n",
       "  <tbody>\n",
       "    <tr>\n",
       "      <th>0</th>\n",
       "      <td>e481f51cbdc54678b7cc49136f2d6af7</td>\n",
       "      <td>9ef432eb6251297304e76186b10a928d</td>\n",
       "      <td>2017-10-02 10:56:33</td>\n",
       "      <td>2017-10-10 21:25:13</td>\n",
       "      <td>2017-10-18 00:00:00</td>\n",
       "      <td>1</td>\n",
       "      <td>87285b34884572647811a353c7ac498a</td>\n",
       "      <td>3504c0cb71d7fa48d967e0e4c94d59d9</td>\n",
       "      <td>29.99</td>\n",
       "      <td>8.72</td>\n",
       "      <td>housewares</td>\n",
       "      <td>Low price</td>\n",
       "      <td>4</td>\n",
       "      <td>NaN</td>\n",
       "      <td>Não testei o produto ainda, mas ele veio corre...</td>\n",
       "      <td>7c396fd4830fd04220f754e42b4e5bff</td>\n",
       "      <td>3149</td>\n",
       "      <td>sao paulo</td>\n",
       "      <td>SP</td>\n",
       "    </tr>\n",
       "    <tr>\n",
       "      <th>1</th>\n",
       "      <td>128e10d95713541c87cd1a2e48201934</td>\n",
       "      <td>a20e8105f23924cd00833fd87daa0831</td>\n",
       "      <td>2017-08-15 18:29:31</td>\n",
       "      <td>2017-08-18 14:44:43</td>\n",
       "      <td>2017-08-28 00:00:00</td>\n",
       "      <td>1</td>\n",
       "      <td>87285b34884572647811a353c7ac498a</td>\n",
       "      <td>3504c0cb71d7fa48d967e0e4c94d59d9</td>\n",
       "      <td>29.99</td>\n",
       "      <td>7.78</td>\n",
       "      <td>housewares</td>\n",
       "      <td>Low price</td>\n",
       "      <td>4</td>\n",
       "      <td>NaN</td>\n",
       "      <td>Deveriam embalar melhor o produto. A caixa vei...</td>\n",
       "      <td>3a51803cc0d012c3b5dc8b7528cb05f7</td>\n",
       "      <td>3366</td>\n",
       "      <td>sao paulo</td>\n",
       "      <td>SP</td>\n",
       "    </tr>\n",
       "    <tr>\n",
       "      <th>2</th>\n",
       "      <td>0e7e841ddf8f8f2de2bad69267ecfbcf</td>\n",
       "      <td>26c7ac168e1433912a51b924fbd34d34</td>\n",
       "      <td>2017-08-02 18:24:47</td>\n",
       "      <td>2017-08-07 18:30:01</td>\n",
       "      <td>2017-08-15 00:00:00</td>\n",
       "      <td>1</td>\n",
       "      <td>87285b34884572647811a353c7ac498a</td>\n",
       "      <td>3504c0cb71d7fa48d967e0e4c94d59d9</td>\n",
       "      <td>29.99</td>\n",
       "      <td>7.78</td>\n",
       "      <td>housewares</td>\n",
       "      <td>Low price</td>\n",
       "      <td>5</td>\n",
       "      <td>NaN</td>\n",
       "      <td>Só achei ela pequena pra seis xícaras ,mais é ...</td>\n",
       "      <td>ef0996a1a279c26e7ecbd737be23d235</td>\n",
       "      <td>2290</td>\n",
       "      <td>sao paulo</td>\n",
       "      <td>SP</td>\n",
       "    </tr>\n",
       "    <tr>\n",
       "      <th>3</th>\n",
       "      <td>bfc39df4f36c3693ff3b63fcbea9e90a</td>\n",
       "      <td>53904ddbea91e1e92b2b3f1d09a7af86</td>\n",
       "      <td>2017-10-23 23:26:46</td>\n",
       "      <td>2017-11-07 18:04:59</td>\n",
       "      <td>2017-11-13 00:00:00</td>\n",
       "      <td>1</td>\n",
       "      <td>87285b34884572647811a353c7ac498a</td>\n",
       "      <td>3504c0cb71d7fa48d967e0e4c94d59d9</td>\n",
       "      <td>29.99</td>\n",
       "      <td>14.10</td>\n",
       "      <td>housewares</td>\n",
       "      <td>Low price</td>\n",
       "      <td>3</td>\n",
       "      <td>NaN</td>\n",
       "      <td>NaN</td>\n",
       "      <td>e781fdcc107d13d865fc7698711cc572</td>\n",
       "      <td>88032</td>\n",
       "      <td>florianopolis</td>\n",
       "      <td>SC</td>\n",
       "    </tr>\n",
       "    <tr>\n",
       "      <th>4</th>\n",
       "      <td>53cdb2fc8bc7dce0b6741e2150273451</td>\n",
       "      <td>b0830fb4747a6c6d20dea0b8c802d7ef</td>\n",
       "      <td>2018-07-24 20:41:37</td>\n",
       "      <td>2018-08-07 15:27:45</td>\n",
       "      <td>2018-08-13 00:00:00</td>\n",
       "      <td>1</td>\n",
       "      <td>595fac2a385ac33a80bd5114aec74eb8</td>\n",
       "      <td>289cdb325fb7e7f891c38608bf9e0962</td>\n",
       "      <td>118.70</td>\n",
       "      <td>22.76</td>\n",
       "      <td>perfumery</td>\n",
       "      <td>Middle price</td>\n",
       "      <td>4</td>\n",
       "      <td>Muito boa a loja</td>\n",
       "      <td>Muito bom o produto.</td>\n",
       "      <td>af07308b275d755c9edb36a90c618231</td>\n",
       "      <td>47813</td>\n",
       "      <td>barreiras</td>\n",
       "      <td>BA</td>\n",
       "    </tr>\n",
       "  </tbody>\n",
       "</table>\n",
       "</div>"
      ],
      "text/plain": [
       "                           order_id                       customer_id  \\\n",
       "0  e481f51cbdc54678b7cc49136f2d6af7  9ef432eb6251297304e76186b10a928d   \n",
       "1  128e10d95713541c87cd1a2e48201934  a20e8105f23924cd00833fd87daa0831   \n",
       "2  0e7e841ddf8f8f2de2bad69267ecfbcf  26c7ac168e1433912a51b924fbd34d34   \n",
       "3  bfc39df4f36c3693ff3b63fcbea9e90a  53904ddbea91e1e92b2b3f1d09a7af86   \n",
       "4  53cdb2fc8bc7dce0b6741e2150273451  b0830fb4747a6c6d20dea0b8c802d7ef   \n",
       "\n",
       "         purchase_date delivered_customer_date estimated_delivery_date  \\\n",
       "0  2017-10-02 10:56:33     2017-10-10 21:25:13     2017-10-18 00:00:00   \n",
       "1  2017-08-15 18:29:31     2017-08-18 14:44:43     2017-08-28 00:00:00   \n",
       "2  2017-08-02 18:24:47     2017-08-07 18:30:01     2017-08-15 00:00:00   \n",
       "3  2017-10-23 23:26:46     2017-11-07 18:04:59     2017-11-13 00:00:00   \n",
       "4  2018-07-24 20:41:37     2018-08-07 15:27:45     2018-08-13 00:00:00   \n",
       "\n",
       "   item_count                        product_id  \\\n",
       "0           1  87285b34884572647811a353c7ac498a   \n",
       "1           1  87285b34884572647811a353c7ac498a   \n",
       "2           1  87285b34884572647811a353c7ac498a   \n",
       "3           1  87285b34884572647811a353c7ac498a   \n",
       "4           1  595fac2a385ac33a80bd5114aec74eb8   \n",
       "\n",
       "                          seller_id   price  freight_value prod_category  \\\n",
       "0  3504c0cb71d7fa48d967e0e4c94d59d9   29.99           8.72    housewares   \n",
       "1  3504c0cb71d7fa48d967e0e4c94d59d9   29.99           7.78    housewares   \n",
       "2  3504c0cb71d7fa48d967e0e4c94d59d9   29.99           7.78    housewares   \n",
       "3  3504c0cb71d7fa48d967e0e4c94d59d9   29.99          14.10    housewares   \n",
       "4  289cdb325fb7e7f891c38608bf9e0962  118.70          22.76     perfumery   \n",
       "\n",
       "  Price category  review_score      review_title  \\\n",
       "0      Low price             4               NaN   \n",
       "1      Low price             4               NaN   \n",
       "2      Low price             5               NaN   \n",
       "3      Low price             3               NaN   \n",
       "4   Middle price             4  Muito boa a loja   \n",
       "\n",
       "                                      review_comment  \\\n",
       "0  Não testei o produto ainda, mas ele veio corre...   \n",
       "1  Deveriam embalar melhor o produto. A caixa vei...   \n",
       "2  Só achei ela pequena pra seis xícaras ,mais é ...   \n",
       "3                                                NaN   \n",
       "4                               Muito bom o produto.   \n",
       "\n",
       "                 customer_unique_id  customer_zip_code_prefix  customer_city  \\\n",
       "0  7c396fd4830fd04220f754e42b4e5bff                      3149      sao paulo   \n",
       "1  3a51803cc0d012c3b5dc8b7528cb05f7                      3366      sao paulo   \n",
       "2  ef0996a1a279c26e7ecbd737be23d235                      2290      sao paulo   \n",
       "3  e781fdcc107d13d865fc7698711cc572                     88032  florianopolis   \n",
       "4  af07308b275d755c9edb36a90c618231                     47813      barreiras   \n",
       "\n",
       "  customer_state  \n",
       "0             SP  \n",
       "1             SP  \n",
       "2             SP  \n",
       "3             SC  \n",
       "4             BA  "
      ]
     },
     "execution_count": 8,
     "metadata": {},
     "output_type": "execute_result"
    }
   ],
   "source": [
    "customers_prods_reviews.head()"
   ]
  },
  {
   "cell_type": "code",
   "execution_count": 9,
   "id": "7aad97d1-90fc-41ba-89df-5a31d13fc370",
   "metadata": {},
   "outputs": [
    {
     "data": {
      "text/plain": [
       "(108198, 19)"
      ]
     },
     "execution_count": 9,
     "metadata": {},
     "output_type": "execute_result"
    }
   ],
   "source": [
    "customers_prods_reviews.shape"
   ]
  },
  {
   "cell_type": "markdown",
   "id": "b47de9ba-ac08-4f1a-8e14-a5d9be3fe7a6",
   "metadata": {},
   "source": [
    "### 3. Import Data Set: GeoLocation"
   ]
  },
  {
   "cell_type": "code",
   "execution_count": 10,
   "id": "ba89510f-78d2-48c3-9d12-54a51d8a700d",
   "metadata": {},
   "outputs": [],
   "source": [
    "geo_location = pd.read_csv(os.path.join(path, '02 Data', 'Prepared Data', 'olist_geolocation.csv'))"
   ]
  },
  {
   "cell_type": "code",
   "execution_count": 33,
   "id": "34255930-ff8b-4c13-87bd-141ba753a970",
   "metadata": {},
   "outputs": [
    {
     "data": {
      "text/html": [
       "<div>\n",
       "<style scoped>\n",
       "    .dataframe tbody tr th:only-of-type {\n",
       "        vertical-align: middle;\n",
       "    }\n",
       "\n",
       "    .dataframe tbody tr th {\n",
       "        vertical-align: top;\n",
       "    }\n",
       "\n",
       "    .dataframe thead th {\n",
       "        text-align: right;\n",
       "    }\n",
       "</style>\n",
       "<table border=\"1\" class=\"dataframe\">\n",
       "  <thead>\n",
       "    <tr style=\"text-align: right;\">\n",
       "      <th></th>\n",
       "      <th>zip_code_prefix</th>\n",
       "      <th>geolocation_lat</th>\n",
       "      <th>geolocation_lng</th>\n",
       "      <th>geolocation_city</th>\n",
       "      <th>geolocation_state</th>\n",
       "    </tr>\n",
       "  </thead>\n",
       "  <tbody>\n",
       "    <tr>\n",
       "      <th>15</th>\n",
       "      <td>1046</td>\n",
       "      <td>-23.546081</td>\n",
       "      <td>-46.644820</td>\n",
       "      <td>sao paulo</td>\n",
       "      <td>SP</td>\n",
       "    </tr>\n",
       "    <tr>\n",
       "      <th>44</th>\n",
       "      <td>1046</td>\n",
       "      <td>-23.546081</td>\n",
       "      <td>-46.644820</td>\n",
       "      <td>sao paulo</td>\n",
       "      <td>SP</td>\n",
       "    </tr>\n",
       "    <tr>\n",
       "      <th>65</th>\n",
       "      <td>1046</td>\n",
       "      <td>-23.546081</td>\n",
       "      <td>-46.644820</td>\n",
       "      <td>sao paulo</td>\n",
       "      <td>SP</td>\n",
       "    </tr>\n",
       "    <tr>\n",
       "      <th>66</th>\n",
       "      <td>1009</td>\n",
       "      <td>-23.546935</td>\n",
       "      <td>-46.636588</td>\n",
       "      <td>sao paulo</td>\n",
       "      <td>SP</td>\n",
       "    </tr>\n",
       "    <tr>\n",
       "      <th>67</th>\n",
       "      <td>1046</td>\n",
       "      <td>-23.546081</td>\n",
       "      <td>-46.644820</td>\n",
       "      <td>sao paulo</td>\n",
       "      <td>SP</td>\n",
       "    </tr>\n",
       "  </tbody>\n",
       "</table>\n",
       "</div>"
      ],
      "text/plain": [
       "    zip_code_prefix  geolocation_lat  geolocation_lng geolocation_city  \\\n",
       "15             1046       -23.546081       -46.644820        sao paulo   \n",
       "44             1046       -23.546081       -46.644820        sao paulo   \n",
       "65             1046       -23.546081       -46.644820        sao paulo   \n",
       "66             1009       -23.546935       -46.636588        sao paulo   \n",
       "67             1046       -23.546081       -46.644820        sao paulo   \n",
       "\n",
       "   geolocation_state  \n",
       "15                SP  \n",
       "44                SP  \n",
       "65                SP  \n",
       "66                SP  \n",
       "67                SP  "
      ]
     },
     "execution_count": 33,
     "metadata": {},
     "output_type": "execute_result"
    }
   ],
   "source": [
    "geo_location.head()"
   ]
  },
  {
   "cell_type": "code",
   "execution_count": 14,
   "id": "9b15ab58-534e-4f7f-92ce-9aed6183cdd9",
   "metadata": {},
   "outputs": [
    {
     "data": {
      "text/plain": [
       "(1000163, 6)"
      ]
     },
     "execution_count": 14,
     "metadata": {},
     "output_type": "execute_result"
    }
   ],
   "source": [
    "geo_location.shape"
   ]
  },
  {
   "cell_type": "code",
   "execution_count": 16,
   "id": "6e1e344a-74f5-478e-a19e-03be482ba3c4",
   "metadata": {},
   "outputs": [],
   "source": [
    "# Drop unnecessary columns  from reviews dataframe\n",
    "\n",
    "geo_location.drop(columns = 'Unnamed: 0', inplace = True)"
   ]
  },
  {
   "cell_type": "markdown",
   "id": "09bb8db1-7f4c-4254-b264-2e1219da899b",
   "metadata": {},
   "source": [
    "#### Missing Values Checks"
   ]
  },
  {
   "cell_type": "code",
   "execution_count": 22,
   "id": "7411aa58-69ea-45f5-8cfe-58629da237b9",
   "metadata": {},
   "outputs": [
    {
     "data": {
      "text/plain": [
       "zip_code_prefix      0\n",
       "geolocation_lat      0\n",
       "geolocation_lng      0\n",
       "geolocation_city     0\n",
       "geolocation_state    0\n",
       "dtype: int64"
      ]
     },
     "execution_count": 22,
     "metadata": {},
     "output_type": "execute_result"
    }
   ],
   "source": [
    "geo_location.isnull().sum() # No Missing Values!"
   ]
  },
  {
   "cell_type": "code",
   "execution_count": 23,
   "id": "b5177638-1f50-4732-997b-138dd7fbe34d",
   "metadata": {},
   "outputs": [],
   "source": [
    "# Find duplicates\n",
    "\n",
    "geo_location_dup = geo_location[geo_location.duplicated()]"
   ]
  },
  {
   "cell_type": "code",
   "execution_count": 27,
   "id": "5ffe9fb2-50ec-43c4-9ee2-c0debe97ef4c",
   "metadata": {},
   "outputs": [
    {
     "data": {
      "text/plain": [
       "(133657, 5)"
      ]
     },
     "execution_count": 27,
     "metadata": {},
     "output_type": "execute_result"
    }
   ],
   "source": [
    "geo_location_dup.shape"
   ]
  },
  {
   "cell_type": "code",
   "execution_count": 28,
   "id": "7d235a19-a480-4c5f-9075-e1eaae79618c",
   "metadata": {},
   "outputs": [],
   "source": [
    "# Remove duplicates from geo_loc DataFrame\n",
    "\n",
    "geo_loc_unique = geo_location.drop_duplicates()"
   ]
  },
  {
   "cell_type": "code",
   "execution_count": 29,
   "id": "f7433717-fbe9-4a61-8cb8-840172ade622",
   "metadata": {},
   "outputs": [
    {
     "data": {
      "text/plain": [
       "(128174, 5)"
      ]
     },
     "execution_count": 29,
     "metadata": {},
     "output_type": "execute_result"
    }
   ],
   "source": [
    "geo_loc_unique.shape"
   ]
  },
  {
   "cell_type": "markdown",
   "id": "2676494a-9d09-4603-b0f4-37baefedd29b",
   "metadata": {},
   "source": [
    "### 4. Group the geolocation data by unique zip code prefixes."
   ]
  },
  {
   "cell_type": "code",
   "execution_count": 30,
   "id": "f59a7362-55be-4408-95eb-0ddb8bfb43df",
   "metadata": {},
   "outputs": [],
   "source": [
    "# Make representative point data from zip code of geo_loc_unique\n",
    "\n",
    "geo_rep_data = pd.DataFrame(dict(geolocation_lat=geo_loc_unique.groupby(\"zip_code_prefix\").geolocation_lat.mean(),\n",
    "                                geolocation_lng=geo_loc_unique.groupby(\"zip_code_prefix\").geolocation_lng.mean())).reset_index()\n"
   ]
  },
  {
   "cell_type": "code",
   "execution_count": 43,
   "id": "e5510a98-a915-432c-817d-84c6a33bf776",
   "metadata": {},
   "outputs": [
    {
     "data": {
      "text/plain": [
       "(15287, 3)"
      ]
     },
     "execution_count": 43,
     "metadata": {},
     "output_type": "execute_result"
    }
   ],
   "source": [
    "geo_rep_data.shape"
   ]
  },
  {
   "cell_type": "markdown",
   "id": "78daae6e-d031-475e-8cad-97f385097484",
   "metadata": {},
   "source": [
    "### 5. Merge customers data set with geolocation data"
   ]
  },
  {
   "cell_type": "code",
   "execution_count": 31,
   "id": "dd329447-b29f-45a4-8ce4-4b806f4a49b8",
   "metadata": {},
   "outputs": [],
   "source": [
    "# Merge geo_rep_data_on customer data\n",
    "\n",
    "geo_customers_combined = customers_prods_reviews.merge(geo_rep_data, left_on=\"customer_zip_code_prefix\", right_on=\"zip_code_prefix\")\n"
   ]
  },
  {
   "cell_type": "code",
   "execution_count": 34,
   "id": "eee50942-c04c-4994-aabf-d0f2aef40838",
   "metadata": {},
   "outputs": [
    {
     "data": {
      "text/plain": [
       "(105573, 22)"
      ]
     },
     "execution_count": 34,
     "metadata": {},
     "output_type": "execute_result"
    }
   ],
   "source": [
    "geo_customers_combined.shape"
   ]
  },
  {
   "cell_type": "code",
   "execution_count": 52,
   "id": "e396e64b-f86e-4a8f-b017-0b559761bae2",
   "metadata": {},
   "outputs": [
    {
     "data": {
      "text/plain": [
       "Index(['order_id', 'customer_id', 'purchase_date', 'delivered_customer_date',\n",
       "       'estimated_delivery_date', 'item_count', 'product_id', 'seller_id',\n",
       "       'price', 'freight_value', 'prod_category', 'Price category',\n",
       "       'review_score', 'review_title', 'review_comment', 'customer_unique_id',\n",
       "       'customer_zip_code_prefix', 'customer_city', 'customer_state',\n",
       "       'zip_code_prefix', 'geolocation_lat', 'geolocation_lng'],\n",
       "      dtype='object')"
      ]
     },
     "execution_count": 52,
     "metadata": {},
     "output_type": "execute_result"
    }
   ],
   "source": [
    "geo_customers_combined.columns"
   ]
  },
  {
   "cell_type": "code",
   "execution_count": 82,
   "id": "04ce341b-d403-4091-a531-085095e2406b",
   "metadata": {},
   "outputs": [
    {
     "data": {
      "text/html": [
       "<div>\n",
       "<style scoped>\n",
       "    .dataframe tbody tr th:only-of-type {\n",
       "        vertical-align: middle;\n",
       "    }\n",
       "\n",
       "    .dataframe tbody tr th {\n",
       "        vertical-align: top;\n",
       "    }\n",
       "\n",
       "    .dataframe thead th {\n",
       "        text-align: right;\n",
       "    }\n",
       "</style>\n",
       "<table border=\"1\" class=\"dataframe\">\n",
       "  <thead>\n",
       "    <tr style=\"text-align: right;\">\n",
       "      <th></th>\n",
       "      <th>order_id</th>\n",
       "      <th>customer_id</th>\n",
       "      <th>purchase_date</th>\n",
       "      <th>delivered_customer_date</th>\n",
       "      <th>estimated_delivery_date</th>\n",
       "      <th>item_count</th>\n",
       "      <th>product_id</th>\n",
       "      <th>seller_id</th>\n",
       "      <th>price</th>\n",
       "      <th>freight_value</th>\n",
       "      <th>prod_category</th>\n",
       "      <th>Price category</th>\n",
       "      <th>review_score</th>\n",
       "      <th>review_title</th>\n",
       "      <th>review_comment</th>\n",
       "      <th>customer_unique_id</th>\n",
       "      <th>customer_zip_code_prefix</th>\n",
       "      <th>customer_city</th>\n",
       "      <th>customer_state</th>\n",
       "      <th>zip_code_prefix</th>\n",
       "      <th>geolocation_lat</th>\n",
       "      <th>geolocation_lng</th>\n",
       "    </tr>\n",
       "  </thead>\n",
       "  <tbody>\n",
       "    <tr>\n",
       "      <th>0</th>\n",
       "      <td>e481f51cbdc54678b7cc49136f2d6af7</td>\n",
       "      <td>9ef432eb6251297304e76186b10a928d</td>\n",
       "      <td>2017-10-02 10:56:33</td>\n",
       "      <td>2017-10-10 21:25:13</td>\n",
       "      <td>2017-10-18 00:00:00</td>\n",
       "      <td>1</td>\n",
       "      <td>87285b34884572647811a353c7ac498a</td>\n",
       "      <td>3504c0cb71d7fa48d967e0e4c94d59d9</td>\n",
       "      <td>29.99</td>\n",
       "      <td>8.72</td>\n",
       "      <td>housewares</td>\n",
       "      <td>Low price</td>\n",
       "      <td>4</td>\n",
       "      <td>NaN</td>\n",
       "      <td>Não testei o produto ainda, mas ele veio corre...</td>\n",
       "      <td>7c396fd4830fd04220f754e42b4e5bff</td>\n",
       "      <td>3149</td>\n",
       "      <td>sao paulo</td>\n",
       "      <td>SP</td>\n",
       "      <td>3149</td>\n",
       "      <td>-23.576475</td>\n",
       "      <td>-46.587290</td>\n",
       "    </tr>\n",
       "    <tr>\n",
       "      <th>1</th>\n",
       "      <td>70b35acffdf851e782ebf6fbc35eb620</td>\n",
       "      <td>8e8ee9b08afb49b080d193f98b0505af</td>\n",
       "      <td>2018-03-22 17:23:21</td>\n",
       "      <td>2018-03-25 17:22:41</td>\n",
       "      <td>2018-04-04 00:00:00</td>\n",
       "      <td>1</td>\n",
       "      <td>6cc44821f36f3156c782da72dd634e47</td>\n",
       "      <td>da8622b14eb17ae2831f4ac5b9dab84a</td>\n",
       "      <td>99.90</td>\n",
       "      <td>11.79</td>\n",
       "      <td>bed_bath_table</td>\n",
       "      <td>Middle price</td>\n",
       "      <td>5</td>\n",
       "      <td>NaN</td>\n",
       "      <td>Nâo sabia da entrega aos domingos pelo correio...</td>\n",
       "      <td>8a4002923e801e3120a11070fd31c9e2</td>\n",
       "      <td>3149</td>\n",
       "      <td>sao paulo</td>\n",
       "      <td>SP</td>\n",
       "      <td>3149</td>\n",
       "      <td>-23.576475</td>\n",
       "      <td>-46.587290</td>\n",
       "    </tr>\n",
       "    <tr>\n",
       "      <th>2</th>\n",
       "      <td>70b35acffdf851e782ebf6fbc35eb620</td>\n",
       "      <td>8e8ee9b08afb49b080d193f98b0505af</td>\n",
       "      <td>2018-03-22 17:23:21</td>\n",
       "      <td>2018-03-25 17:22:41</td>\n",
       "      <td>2018-04-04 00:00:00</td>\n",
       "      <td>2</td>\n",
       "      <td>6cc44821f36f3156c782da72dd634e47</td>\n",
       "      <td>da8622b14eb17ae2831f4ac5b9dab84a</td>\n",
       "      <td>99.90</td>\n",
       "      <td>11.79</td>\n",
       "      <td>bed_bath_table</td>\n",
       "      <td>Middle price</td>\n",
       "      <td>5</td>\n",
       "      <td>NaN</td>\n",
       "      <td>Nâo sabia da entrega aos domingos pelo correio...</td>\n",
       "      <td>8a4002923e801e3120a11070fd31c9e2</td>\n",
       "      <td>3149</td>\n",
       "      <td>sao paulo</td>\n",
       "      <td>SP</td>\n",
       "      <td>3149</td>\n",
       "      <td>-23.576475</td>\n",
       "      <td>-46.587290</td>\n",
       "    </tr>\n",
       "    <tr>\n",
       "      <th>3</th>\n",
       "      <td>69923a4e07ce446644394df37a710286</td>\n",
       "      <td>31f31efcb333fcbad2b1371c8cf0fa84</td>\n",
       "      <td>2017-09-04 11:26:38</td>\n",
       "      <td>2017-09-05 19:20:20</td>\n",
       "      <td>2017-09-15 00:00:00</td>\n",
       "      <td>1</td>\n",
       "      <td>9abb00920aae319ef9eba674b7d2e6ff</td>\n",
       "      <td>1771297ac436903d1dd6b0e9279aa505</td>\n",
       "      <td>35.39</td>\n",
       "      <td>8.72</td>\n",
       "      <td>baby</td>\n",
       "      <td>Low price</td>\n",
       "      <td>5</td>\n",
       "      <td>NaN</td>\n",
       "      <td>O produto está ok e foi entregue bem antes do ...</td>\n",
       "      <td>7c396fd4830fd04220f754e42b4e5bff</td>\n",
       "      <td>3149</td>\n",
       "      <td>sao paulo</td>\n",
       "      <td>SP</td>\n",
       "      <td>3149</td>\n",
       "      <td>-23.576475</td>\n",
       "      <td>-46.587290</td>\n",
       "    </tr>\n",
       "    <tr>\n",
       "      <th>4</th>\n",
       "      <td>128e10d95713541c87cd1a2e48201934</td>\n",
       "      <td>a20e8105f23924cd00833fd87daa0831</td>\n",
       "      <td>2017-08-15 18:29:31</td>\n",
       "      <td>2017-08-18 14:44:43</td>\n",
       "      <td>2017-08-28 00:00:00</td>\n",
       "      <td>1</td>\n",
       "      <td>87285b34884572647811a353c7ac498a</td>\n",
       "      <td>3504c0cb71d7fa48d967e0e4c94d59d9</td>\n",
       "      <td>29.99</td>\n",
       "      <td>7.78</td>\n",
       "      <td>housewares</td>\n",
       "      <td>Low price</td>\n",
       "      <td>4</td>\n",
       "      <td>NaN</td>\n",
       "      <td>Deveriam embalar melhor o produto. A caixa vei...</td>\n",
       "      <td>3a51803cc0d012c3b5dc8b7528cb05f7</td>\n",
       "      <td>3366</td>\n",
       "      <td>sao paulo</td>\n",
       "      <td>SP</td>\n",
       "      <td>3366</td>\n",
       "      <td>-23.564807</td>\n",
       "      <td>-46.533982</td>\n",
       "    </tr>\n",
       "  </tbody>\n",
       "</table>\n",
       "</div>"
      ],
      "text/plain": [
       "                           order_id                       customer_id  \\\n",
       "0  e481f51cbdc54678b7cc49136f2d6af7  9ef432eb6251297304e76186b10a928d   \n",
       "1  70b35acffdf851e782ebf6fbc35eb620  8e8ee9b08afb49b080d193f98b0505af   \n",
       "2  70b35acffdf851e782ebf6fbc35eb620  8e8ee9b08afb49b080d193f98b0505af   \n",
       "3  69923a4e07ce446644394df37a710286  31f31efcb333fcbad2b1371c8cf0fa84   \n",
       "4  128e10d95713541c87cd1a2e48201934  a20e8105f23924cd00833fd87daa0831   \n",
       "\n",
       "         purchase_date delivered_customer_date estimated_delivery_date  \\\n",
       "0  2017-10-02 10:56:33     2017-10-10 21:25:13     2017-10-18 00:00:00   \n",
       "1  2018-03-22 17:23:21     2018-03-25 17:22:41     2018-04-04 00:00:00   \n",
       "2  2018-03-22 17:23:21     2018-03-25 17:22:41     2018-04-04 00:00:00   \n",
       "3  2017-09-04 11:26:38     2017-09-05 19:20:20     2017-09-15 00:00:00   \n",
       "4  2017-08-15 18:29:31     2017-08-18 14:44:43     2017-08-28 00:00:00   \n",
       "\n",
       "   item_count                        product_id  \\\n",
       "0           1  87285b34884572647811a353c7ac498a   \n",
       "1           1  6cc44821f36f3156c782da72dd634e47   \n",
       "2           2  6cc44821f36f3156c782da72dd634e47   \n",
       "3           1  9abb00920aae319ef9eba674b7d2e6ff   \n",
       "4           1  87285b34884572647811a353c7ac498a   \n",
       "\n",
       "                          seller_id  price  freight_value   prod_category  \\\n",
       "0  3504c0cb71d7fa48d967e0e4c94d59d9  29.99           8.72      housewares   \n",
       "1  da8622b14eb17ae2831f4ac5b9dab84a  99.90          11.79  bed_bath_table   \n",
       "2  da8622b14eb17ae2831f4ac5b9dab84a  99.90          11.79  bed_bath_table   \n",
       "3  1771297ac436903d1dd6b0e9279aa505  35.39           8.72            baby   \n",
       "4  3504c0cb71d7fa48d967e0e4c94d59d9  29.99           7.78      housewares   \n",
       "\n",
       "  Price category  review_score review_title  \\\n",
       "0      Low price             4          NaN   \n",
       "1   Middle price             5          NaN   \n",
       "2   Middle price             5          NaN   \n",
       "3      Low price             5          NaN   \n",
       "4      Low price             4          NaN   \n",
       "\n",
       "                                      review_comment  \\\n",
       "0  Não testei o produto ainda, mas ele veio corre...   \n",
       "1  Nâo sabia da entrega aos domingos pelo correio...   \n",
       "2  Nâo sabia da entrega aos domingos pelo correio...   \n",
       "3  O produto está ok e foi entregue bem antes do ...   \n",
       "4  Deveriam embalar melhor o produto. A caixa vei...   \n",
       "\n",
       "                 customer_unique_id  customer_zip_code_prefix customer_city  \\\n",
       "0  7c396fd4830fd04220f754e42b4e5bff                      3149     sao paulo   \n",
       "1  8a4002923e801e3120a11070fd31c9e2                      3149     sao paulo   \n",
       "2  8a4002923e801e3120a11070fd31c9e2                      3149     sao paulo   \n",
       "3  7c396fd4830fd04220f754e42b4e5bff                      3149     sao paulo   \n",
       "4  3a51803cc0d012c3b5dc8b7528cb05f7                      3366     sao paulo   \n",
       "\n",
       "  customer_state  zip_code_prefix  geolocation_lat  geolocation_lng  \n",
       "0             SP             3149       -23.576475       -46.587290  \n",
       "1             SP             3149       -23.576475       -46.587290  \n",
       "2             SP             3149       -23.576475       -46.587290  \n",
       "3             SP             3149       -23.576475       -46.587290  \n",
       "4             SP             3366       -23.564807       -46.533982  "
      ]
     },
     "execution_count": 82,
     "metadata": {},
     "output_type": "execute_result"
    }
   ],
   "source": [
    "geo_customers_combined.head()"
   ]
  },
  {
   "cell_type": "code",
   "execution_count": null,
   "id": "d5341a73-2950-4502-9e5b-9409dc6fe564",
   "metadata": {},
   "outputs": [],
   "source": [
    "geo_customers_combined.describe()"
   ]
  },
  {
   "cell_type": "markdown",
   "id": "2e936e31-0701-4540-bc7e-c9521603aeba",
   "metadata": {},
   "source": [
    "#### Export customers with geolocation data"
   ]
  },
  {
   "cell_type": "code",
   "execution_count": 78,
   "id": "b404b5a3-7ffa-4cd6-aaa5-f614a39d7d75",
   "metadata": {},
   "outputs": [],
   "source": [
    "# Exporting all data merged, without sellers data\n",
    "\n",
    "geo_customers_combined.to_csv(os.path.join(path, '02 Data', 'Prepared Data', 'ords_items_prods_reviews_customers_geo.csv'))"
   ]
  },
  {
   "cell_type": "markdown",
   "id": "98d6c4f4-3209-4790-a65f-f0227dd921f1",
   "metadata": {},
   "source": [
    "### 6. Import Sellers data set"
   ]
  },
  {
   "cell_type": "code",
   "execution_count": 70,
   "id": "0cc018e4-f567-4b4a-95df-9a57a9099dfa",
   "metadata": {},
   "outputs": [],
   "source": [
    "df_sellers = pd.read_csv(os.path.join(path, '02 Data', 'Prepared Data', 'olist_sellers_wrangled.csv'), index_col = False)"
   ]
  },
  {
   "cell_type": "code",
   "execution_count": 71,
   "id": "23ab27e8-4e1f-4913-bdbb-e0c64d4de5b3",
   "metadata": {},
   "outputs": [
    {
     "data": {
      "text/plain": [
       "(3095, 5)"
      ]
     },
     "execution_count": 71,
     "metadata": {},
     "output_type": "execute_result"
    }
   ],
   "source": [
    "df_sellers.shape"
   ]
  },
  {
   "cell_type": "code",
   "execution_count": 72,
   "id": "ac9726c1-29e1-40b7-9f1c-469d3054ff8a",
   "metadata": {},
   "outputs": [
    {
     "data": {
      "text/html": [
       "<div>\n",
       "<style scoped>\n",
       "    .dataframe tbody tr th:only-of-type {\n",
       "        vertical-align: middle;\n",
       "    }\n",
       "\n",
       "    .dataframe tbody tr th {\n",
       "        vertical-align: top;\n",
       "    }\n",
       "\n",
       "    .dataframe thead th {\n",
       "        text-align: right;\n",
       "    }\n",
       "</style>\n",
       "<table border=\"1\" class=\"dataframe\">\n",
       "  <thead>\n",
       "    <tr style=\"text-align: right;\">\n",
       "      <th></th>\n",
       "      <th>Unnamed: 0</th>\n",
       "      <th>seller_id</th>\n",
       "      <th>seller_zip_code_prefix</th>\n",
       "      <th>seller_city</th>\n",
       "      <th>seller_state</th>\n",
       "    </tr>\n",
       "  </thead>\n",
       "  <tbody>\n",
       "    <tr>\n",
       "      <th>0</th>\n",
       "      <td>0</td>\n",
       "      <td>3442f8959a84dea7ee197c632cb2df15</td>\n",
       "      <td>13023</td>\n",
       "      <td>campinas</td>\n",
       "      <td>SP</td>\n",
       "    </tr>\n",
       "    <tr>\n",
       "      <th>1</th>\n",
       "      <td>1</td>\n",
       "      <td>d1b65fc7debc3361ea86b5f14c68d2e2</td>\n",
       "      <td>13844</td>\n",
       "      <td>mogi guacu</td>\n",
       "      <td>SP</td>\n",
       "    </tr>\n",
       "    <tr>\n",
       "      <th>2</th>\n",
       "      <td>2</td>\n",
       "      <td>ce3ad9de960102d0677a81f5d0bb7b2d</td>\n",
       "      <td>20031</td>\n",
       "      <td>rio de janeiro</td>\n",
       "      <td>RJ</td>\n",
       "    </tr>\n",
       "    <tr>\n",
       "      <th>3</th>\n",
       "      <td>3</td>\n",
       "      <td>c0f3eea2e14555b6faeea3dd58c1b1c3</td>\n",
       "      <td>4195</td>\n",
       "      <td>sao paulo</td>\n",
       "      <td>SP</td>\n",
       "    </tr>\n",
       "    <tr>\n",
       "      <th>4</th>\n",
       "      <td>4</td>\n",
       "      <td>51a04a8a6bdcb23deccc82b0b80742cf</td>\n",
       "      <td>12914</td>\n",
       "      <td>braganca paulista</td>\n",
       "      <td>SP</td>\n",
       "    </tr>\n",
       "  </tbody>\n",
       "</table>\n",
       "</div>"
      ],
      "text/plain": [
       "   Unnamed: 0                         seller_id  seller_zip_code_prefix  \\\n",
       "0           0  3442f8959a84dea7ee197c632cb2df15                   13023   \n",
       "1           1  d1b65fc7debc3361ea86b5f14c68d2e2                   13844   \n",
       "2           2  ce3ad9de960102d0677a81f5d0bb7b2d                   20031   \n",
       "3           3  c0f3eea2e14555b6faeea3dd58c1b1c3                    4195   \n",
       "4           4  51a04a8a6bdcb23deccc82b0b80742cf                   12914   \n",
       "\n",
       "         seller_city seller_state  \n",
       "0           campinas           SP  \n",
       "1         mogi guacu           SP  \n",
       "2     rio de janeiro           RJ  \n",
       "3          sao paulo           SP  \n",
       "4  braganca paulista           SP  "
      ]
     },
     "execution_count": 72,
     "metadata": {},
     "output_type": "execute_result"
    }
   ],
   "source": [
    "df_sellers.head()"
   ]
  },
  {
   "cell_type": "markdown",
   "id": "0eb14736-1dd7-4aef-948b-0725bde3ccb4",
   "metadata": {},
   "source": [
    "### 7. Merge sellers data with geolocation data"
   ]
  },
  {
   "cell_type": "code",
   "execution_count": 79,
   "id": "74237d32-69ab-457b-b860-4272167d2ae5",
   "metadata": {},
   "outputs": [],
   "source": [
    "# Merge geo_rep_data_on sellers data\n",
    "\n",
    "geo_location_sellers_merged = df_sellers.merge(geo_rep_data, left_on=\"seller_zip_code_prefix\", right_on=\"zip_code_prefix\")"
   ]
  },
  {
   "cell_type": "code",
   "execution_count": 80,
   "id": "2acc84d2-6d0b-4aec-8e08-6d4f2069bbed",
   "metadata": {},
   "outputs": [
    {
     "data": {
      "text/plain": [
       "(3023, 8)"
      ]
     },
     "execution_count": 80,
     "metadata": {},
     "output_type": "execute_result"
    }
   ],
   "source": [
    "geo_location_sellers_merged.shape"
   ]
  },
  {
   "cell_type": "code",
   "execution_count": 81,
   "id": "5c3be250-d097-45c1-9413-697384664bec",
   "metadata": {},
   "outputs": [
    {
     "data": {
      "text/plain": [
       "Index(['Unnamed: 0', 'seller_id', 'seller_zip_code_prefix', 'seller_city',\n",
       "       'seller_state', 'zip_code_prefix', 'geolocation_lat',\n",
       "       'geolocation_lng'],\n",
       "      dtype='object')"
      ]
     },
     "execution_count": 81,
     "metadata": {},
     "output_type": "execute_result"
    }
   ],
   "source": [
    "geo_location_sellers_merged.columns"
   ]
  },
  {
   "cell_type": "code",
   "execution_count": 83,
   "id": "91415835-eb84-4eac-814e-16fb11a3cd43",
   "metadata": {},
   "outputs": [],
   "source": [
    "# Rename columns \n",
    "\n",
    "geo_location_sellers_merged.rename(columns = {'zip_code_prefix' : 'zip_code_prefix_seller', 'geolocation_lat': 'seller_geolocation_lat', \n",
    "                     'geolocation_lng': 'seller_geolocation_lng' }, inplace = True)"
   ]
  },
  {
   "cell_type": "markdown",
   "id": "6851b6cd-3e44-4b22-87e0-4fe17c43945a",
   "metadata": {},
   "source": [
    "### 8. Merge customers data with seller data, containing geolocation data for both"
   ]
  },
  {
   "cell_type": "code",
   "execution_count": 87,
   "id": "1819a1d6-68e9-4114-a88e-8af3588d01aa",
   "metadata": {},
   "outputs": [],
   "source": [
    "# Merge geo_rep_data_on sellers data\n",
    "\n",
    "df_all_merged = geo_customers_combined.merge(geo_location_sellers_merged, on= 'seller_id', indicator = True)"
   ]
  },
  {
   "cell_type": "markdown",
   "id": "146c96d9-48ae-44a3-8614-02b2dea1d734",
   "metadata": {},
   "source": [
    "### 9. Remaining Consistency Checks"
   ]
  },
  {
   "cell_type": "code",
   "execution_count": 88,
   "id": "95191ed4-5900-4c0a-b870-2b68c3a41044",
   "metadata": {},
   "outputs": [
    {
     "data": {
      "text/plain": [
       "(101992, 30)"
      ]
     },
     "execution_count": 88,
     "metadata": {},
     "output_type": "execute_result"
    }
   ],
   "source": [
    "df_all_merged.shape"
   ]
  },
  {
   "cell_type": "code",
   "execution_count": null,
   "id": "55d77bd7-35b1-454a-95ae-9971e5f1421b",
   "metadata": {
    "scrolled": true
   },
   "outputs": [],
   "source": [
    "df_all_merged['_merge'].value_counts(dropna= False)"
   ]
  },
  {
   "cell_type": "code",
   "execution_count": null,
   "id": "93389c79-780d-4895-99fa-518b55dd8a6a",
   "metadata": {},
   "outputs": [],
   "source": [
    "df_all_merged.head(100)"
   ]
  },
  {
   "cell_type": "code",
   "execution_count": null,
   "id": "4b9d8a88-0ea8-42cb-8618-a319c055736d",
   "metadata": {},
   "outputs": [],
   "source": [
    "df_all_merged.columns"
   ]
  },
  {
   "cell_type": "code",
   "execution_count": 95,
   "id": "aba28fff-8a82-4be7-8bb9-7952f6d754b9",
   "metadata": {},
   "outputs": [],
   "source": [
    "# Rename columns \n",
    "\n",
    "df_all_merged.rename(columns = {'geolocation_lat' : 'customer_geolocation_lat', 'geolocation_lng': 'customer_geolocation_lng'}, inplace = True)"
   ]
  },
  {
   "cell_type": "code",
   "execution_count": null,
   "id": "d7242052-3682-4626-9873-9f8f7a2defbe",
   "metadata": {},
   "outputs": [],
   "source": [
    "df_all_merged.columns"
   ]
  },
  {
   "cell_type": "code",
   "execution_count": 98,
   "id": "a9113b5a-34d3-4fa9-8a55-0ee9bd46cbe0",
   "metadata": {},
   "outputs": [],
   "source": [
    "# Drop unnecessary columns\n",
    "\n",
    "df_all_merged = df_all_merged.drop(columns = ['zip_code_prefix', 'Unnamed: 0'])"
   ]
  },
  {
   "cell_type": "code",
   "execution_count": 104,
   "id": "e82f280b-f6b2-4370-98f5-358188273d7b",
   "metadata": {},
   "outputs": [
    {
     "data": {
      "text/html": [
       "<div>\n",
       "<style scoped>\n",
       "    .dataframe tbody tr th:only-of-type {\n",
       "        vertical-align: middle;\n",
       "    }\n",
       "\n",
       "    .dataframe tbody tr th {\n",
       "        vertical-align: top;\n",
       "    }\n",
       "\n",
       "    .dataframe thead th {\n",
       "        text-align: right;\n",
       "    }\n",
       "</style>\n",
       "<table border=\"1\" class=\"dataframe\">\n",
       "  <thead>\n",
       "    <tr style=\"text-align: right;\">\n",
       "      <th></th>\n",
       "      <th>order_id</th>\n",
       "      <th>customer_id</th>\n",
       "      <th>purchase_date</th>\n",
       "      <th>delivered_customer_date</th>\n",
       "      <th>estimated_delivery_date</th>\n",
       "      <th>item_count</th>\n",
       "      <th>product_id</th>\n",
       "      <th>seller_id</th>\n",
       "      <th>price</th>\n",
       "      <th>freight_value</th>\n",
       "      <th>prod_category</th>\n",
       "      <th>Price category</th>\n",
       "      <th>review_score</th>\n",
       "      <th>review_title</th>\n",
       "      <th>review_comment</th>\n",
       "      <th>customer_unique_id</th>\n",
       "      <th>customer_zip_code_prefix</th>\n",
       "      <th>customer_city</th>\n",
       "      <th>customer_state</th>\n",
       "      <th>customer_geolocation_lat</th>\n",
       "      <th>customer_geolocation_lng</th>\n",
       "      <th>seller_zip_code_prefix</th>\n",
       "      <th>seller_city</th>\n",
       "      <th>seller_state</th>\n",
       "      <th>seller_geolocation_lat</th>\n",
       "      <th>seller_geolocation_lng</th>\n",
       "    </tr>\n",
       "  </thead>\n",
       "  <tbody>\n",
       "    <tr>\n",
       "      <th>0</th>\n",
       "      <td>e481f51cbdc54678b7cc49136f2d6af7</td>\n",
       "      <td>9ef432eb6251297304e76186b10a928d</td>\n",
       "      <td>2017-10-02 10:56:33</td>\n",
       "      <td>2017-10-10 21:25:13</td>\n",
       "      <td>2017-10-18 00:00:00</td>\n",
       "      <td>1</td>\n",
       "      <td>87285b34884572647811a353c7ac498a</td>\n",
       "      <td>3504c0cb71d7fa48d967e0e4c94d59d9</td>\n",
       "      <td>29.99</td>\n",
       "      <td>8.72</td>\n",
       "      <td>housewares</td>\n",
       "      <td>Low price</td>\n",
       "      <td>4</td>\n",
       "      <td>NaN</td>\n",
       "      <td>Não testei o produto ainda, mas ele veio corre...</td>\n",
       "      <td>7c396fd4830fd04220f754e42b4e5bff</td>\n",
       "      <td>3149</td>\n",
       "      <td>sao paulo</td>\n",
       "      <td>SP</td>\n",
       "      <td>-23.576475</td>\n",
       "      <td>-46.587290</td>\n",
       "      <td>9350</td>\n",
       "      <td>maua</td>\n",
       "      <td>SP</td>\n",
       "      <td>-23.680048</td>\n",
       "      <td>-46.443593</td>\n",
       "    </tr>\n",
       "    <tr>\n",
       "      <th>1</th>\n",
       "      <td>128e10d95713541c87cd1a2e48201934</td>\n",
       "      <td>a20e8105f23924cd00833fd87daa0831</td>\n",
       "      <td>2017-08-15 18:29:31</td>\n",
       "      <td>2017-08-18 14:44:43</td>\n",
       "      <td>2017-08-28 00:00:00</td>\n",
       "      <td>1</td>\n",
       "      <td>87285b34884572647811a353c7ac498a</td>\n",
       "      <td>3504c0cb71d7fa48d967e0e4c94d59d9</td>\n",
       "      <td>29.99</td>\n",
       "      <td>7.78</td>\n",
       "      <td>housewares</td>\n",
       "      <td>Low price</td>\n",
       "      <td>4</td>\n",
       "      <td>NaN</td>\n",
       "      <td>Deveriam embalar melhor o produto. A caixa vei...</td>\n",
       "      <td>3a51803cc0d012c3b5dc8b7528cb05f7</td>\n",
       "      <td>3366</td>\n",
       "      <td>sao paulo</td>\n",
       "      <td>SP</td>\n",
       "      <td>-23.564807</td>\n",
       "      <td>-46.533982</td>\n",
       "      <td>9350</td>\n",
       "      <td>maua</td>\n",
       "      <td>SP</td>\n",
       "      <td>-23.680048</td>\n",
       "      <td>-46.443593</td>\n",
       "    </tr>\n",
       "    <tr>\n",
       "      <th>2</th>\n",
       "      <td>bfc39df4f36c3693ff3b63fcbea9e90a</td>\n",
       "      <td>53904ddbea91e1e92b2b3f1d09a7af86</td>\n",
       "      <td>2017-10-23 23:26:46</td>\n",
       "      <td>2017-11-07 18:04:59</td>\n",
       "      <td>2017-11-13 00:00:00</td>\n",
       "      <td>1</td>\n",
       "      <td>87285b34884572647811a353c7ac498a</td>\n",
       "      <td>3504c0cb71d7fa48d967e0e4c94d59d9</td>\n",
       "      <td>29.99</td>\n",
       "      <td>14.10</td>\n",
       "      <td>housewares</td>\n",
       "      <td>Low price</td>\n",
       "      <td>3</td>\n",
       "      <td>NaN</td>\n",
       "      <td>NaN</td>\n",
       "      <td>e781fdcc107d13d865fc7698711cc572</td>\n",
       "      <td>88032</td>\n",
       "      <td>florianopolis</td>\n",
       "      <td>SC</td>\n",
       "      <td>-27.532709</td>\n",
       "      <td>-48.494774</td>\n",
       "      <td>9350</td>\n",
       "      <td>maua</td>\n",
       "      <td>SP</td>\n",
       "      <td>-23.680048</td>\n",
       "      <td>-46.443593</td>\n",
       "    </tr>\n",
       "    <tr>\n",
       "      <th>3</th>\n",
       "      <td>44905b3e611d2f738de87a2cca4961b2</td>\n",
       "      <td>93a705448fbbe8d2c10f151c0510cd0c</td>\n",
       "      <td>2017-08-06 21:03:00</td>\n",
       "      <td>2017-08-14 19:36:05</td>\n",
       "      <td>2017-08-29 00:00:00</td>\n",
       "      <td>1</td>\n",
       "      <td>5a419dbf24a8c9718fe522b81c69f61a</td>\n",
       "      <td>3504c0cb71d7fa48d967e0e4c94d59d9</td>\n",
       "      <td>44.49</td>\n",
       "      <td>15.10</td>\n",
       "      <td>cool_stuff</td>\n",
       "      <td>Low price</td>\n",
       "      <td>5</td>\n",
       "      <td>NaN</td>\n",
       "      <td>muito bom!</td>\n",
       "      <td>1bbae4260b7887325fccae14a592c130</td>\n",
       "      <td>39100</td>\n",
       "      <td>diamantina</td>\n",
       "      <td>MG</td>\n",
       "      <td>-18.241008</td>\n",
       "      <td>-43.602296</td>\n",
       "      <td>9350</td>\n",
       "      <td>maua</td>\n",
       "      <td>SP</td>\n",
       "      <td>-23.680048</td>\n",
       "      <td>-46.443593</td>\n",
       "    </tr>\n",
       "    <tr>\n",
       "      <th>4</th>\n",
       "      <td>0010b2e5201cc5f1ae7e9c6cc8f5bd00</td>\n",
       "      <td>57ef317d4818cb42680fc9dfd13867ce</td>\n",
       "      <td>2017-09-11 17:39:33</td>\n",
       "      <td>2017-09-23 13:21:21</td>\n",
       "      <td>2017-09-27 00:00:00</td>\n",
       "      <td>1</td>\n",
       "      <td>5a419dbf24a8c9718fe522b81c69f61a</td>\n",
       "      <td>3504c0cb71d7fa48d967e0e4c94d59d9</td>\n",
       "      <td>48.90</td>\n",
       "      <td>16.60</td>\n",
       "      <td>cool_stuff</td>\n",
       "      <td>Low price</td>\n",
       "      <td>5</td>\n",
       "      <td>NaN</td>\n",
       "      <td>NaN</td>\n",
       "      <td>e883f26917e2095c439f70c2cf8c914b</td>\n",
       "      <td>22461</td>\n",
       "      <td>rio de janeiro</td>\n",
       "      <td>RJ</td>\n",
       "      <td>-22.961106</td>\n",
       "      <td>-43.211960</td>\n",
       "      <td>9350</td>\n",
       "      <td>maua</td>\n",
       "      <td>SP</td>\n",
       "      <td>-23.680048</td>\n",
       "      <td>-46.443593</td>\n",
       "    </tr>\n",
       "  </tbody>\n",
       "</table>\n",
       "</div>"
      ],
      "text/plain": [
       "                           order_id                       customer_id  \\\n",
       "0  e481f51cbdc54678b7cc49136f2d6af7  9ef432eb6251297304e76186b10a928d   \n",
       "1  128e10d95713541c87cd1a2e48201934  a20e8105f23924cd00833fd87daa0831   \n",
       "2  bfc39df4f36c3693ff3b63fcbea9e90a  53904ddbea91e1e92b2b3f1d09a7af86   \n",
       "3  44905b3e611d2f738de87a2cca4961b2  93a705448fbbe8d2c10f151c0510cd0c   \n",
       "4  0010b2e5201cc5f1ae7e9c6cc8f5bd00  57ef317d4818cb42680fc9dfd13867ce   \n",
       "\n",
       "         purchase_date delivered_customer_date estimated_delivery_date  \\\n",
       "0  2017-10-02 10:56:33     2017-10-10 21:25:13     2017-10-18 00:00:00   \n",
       "1  2017-08-15 18:29:31     2017-08-18 14:44:43     2017-08-28 00:00:00   \n",
       "2  2017-10-23 23:26:46     2017-11-07 18:04:59     2017-11-13 00:00:00   \n",
       "3  2017-08-06 21:03:00     2017-08-14 19:36:05     2017-08-29 00:00:00   \n",
       "4  2017-09-11 17:39:33     2017-09-23 13:21:21     2017-09-27 00:00:00   \n",
       "\n",
       "   item_count                        product_id  \\\n",
       "0           1  87285b34884572647811a353c7ac498a   \n",
       "1           1  87285b34884572647811a353c7ac498a   \n",
       "2           1  87285b34884572647811a353c7ac498a   \n",
       "3           1  5a419dbf24a8c9718fe522b81c69f61a   \n",
       "4           1  5a419dbf24a8c9718fe522b81c69f61a   \n",
       "\n",
       "                          seller_id  price  freight_value prod_category  \\\n",
       "0  3504c0cb71d7fa48d967e0e4c94d59d9  29.99           8.72    housewares   \n",
       "1  3504c0cb71d7fa48d967e0e4c94d59d9  29.99           7.78    housewares   \n",
       "2  3504c0cb71d7fa48d967e0e4c94d59d9  29.99          14.10    housewares   \n",
       "3  3504c0cb71d7fa48d967e0e4c94d59d9  44.49          15.10    cool_stuff   \n",
       "4  3504c0cb71d7fa48d967e0e4c94d59d9  48.90          16.60    cool_stuff   \n",
       "\n",
       "  Price category  review_score review_title  \\\n",
       "0      Low price             4          NaN   \n",
       "1      Low price             4          NaN   \n",
       "2      Low price             3          NaN   \n",
       "3      Low price             5          NaN   \n",
       "4      Low price             5          NaN   \n",
       "\n",
       "                                      review_comment  \\\n",
       "0  Não testei o produto ainda, mas ele veio corre...   \n",
       "1  Deveriam embalar melhor o produto. A caixa vei...   \n",
       "2                                                NaN   \n",
       "3                                         muito bom!   \n",
       "4                                                NaN   \n",
       "\n",
       "                 customer_unique_id  customer_zip_code_prefix   customer_city  \\\n",
       "0  7c396fd4830fd04220f754e42b4e5bff                      3149       sao paulo   \n",
       "1  3a51803cc0d012c3b5dc8b7528cb05f7                      3366       sao paulo   \n",
       "2  e781fdcc107d13d865fc7698711cc572                     88032   florianopolis   \n",
       "3  1bbae4260b7887325fccae14a592c130                     39100      diamantina   \n",
       "4  e883f26917e2095c439f70c2cf8c914b                     22461  rio de janeiro   \n",
       "\n",
       "  customer_state  customer_geolocation_lat  customer_geolocation_lng  \\\n",
       "0             SP                -23.576475                -46.587290   \n",
       "1             SP                -23.564807                -46.533982   \n",
       "2             SC                -27.532709                -48.494774   \n",
       "3             MG                -18.241008                -43.602296   \n",
       "4             RJ                -22.961106                -43.211960   \n",
       "\n",
       "   seller_zip_code_prefix seller_city seller_state  seller_geolocation_lat  \\\n",
       "0                    9350        maua           SP              -23.680048   \n",
       "1                    9350        maua           SP              -23.680048   \n",
       "2                    9350        maua           SP              -23.680048   \n",
       "3                    9350        maua           SP              -23.680048   \n",
       "4                    9350        maua           SP              -23.680048   \n",
       "\n",
       "   seller_geolocation_lng  \n",
       "0              -46.443593  \n",
       "1              -46.443593  \n",
       "2              -46.443593  \n",
       "3              -46.443593  \n",
       "4              -46.443593  "
      ]
     },
     "execution_count": 104,
     "metadata": {},
     "output_type": "execute_result"
    }
   ],
   "source": [
    "# check head\n",
    "\n",
    "df_all_merged.head()"
   ]
  },
  {
   "cell_type": "code",
   "execution_count": 100,
   "id": "7e4ebbf7-d442-4178-a96e-f2af22f7f0bc",
   "metadata": {},
   "outputs": [],
   "source": [
    "# Drop unnecessary columns\n",
    "\n",
    "df_all_merged = df_all_merged.drop(columns = ['zip_code_prefix_seller', '_merge'])"
   ]
  },
  {
   "cell_type": "code",
   "execution_count": 101,
   "id": "adfd4325-6539-4bb5-8db5-863704806cd4",
   "metadata": {},
   "outputs": [
    {
     "data": {
      "text/plain": [
       "(101992, 26)"
      ]
     },
     "execution_count": 101,
     "metadata": {},
     "output_type": "execute_result"
    }
   ],
   "source": [
    "df_all_merged.shape"
   ]
  },
  {
   "cell_type": "code",
   "execution_count": 102,
   "id": "592f771a-dae9-4bf0-9313-73d9e085a977",
   "metadata": {},
   "outputs": [
    {
     "data": {
      "text/html": [
       "<div>\n",
       "<style scoped>\n",
       "    .dataframe tbody tr th:only-of-type {\n",
       "        vertical-align: middle;\n",
       "    }\n",
       "\n",
       "    .dataframe tbody tr th {\n",
       "        vertical-align: top;\n",
       "    }\n",
       "\n",
       "    .dataframe thead th {\n",
       "        text-align: right;\n",
       "    }\n",
       "</style>\n",
       "<table border=\"1\" class=\"dataframe\">\n",
       "  <thead>\n",
       "    <tr style=\"text-align: right;\">\n",
       "      <th></th>\n",
       "      <th>order_id</th>\n",
       "      <th>customer_id</th>\n",
       "      <th>purchase_date</th>\n",
       "      <th>delivered_customer_date</th>\n",
       "      <th>estimated_delivery_date</th>\n",
       "      <th>item_count</th>\n",
       "      <th>product_id</th>\n",
       "      <th>seller_id</th>\n",
       "      <th>price</th>\n",
       "      <th>freight_value</th>\n",
       "      <th>prod_category</th>\n",
       "      <th>Price category</th>\n",
       "      <th>review_score</th>\n",
       "      <th>review_title</th>\n",
       "      <th>review_comment</th>\n",
       "      <th>customer_unique_id</th>\n",
       "      <th>customer_zip_code_prefix</th>\n",
       "      <th>customer_city</th>\n",
       "      <th>customer_state</th>\n",
       "      <th>customer_geolocation_lat</th>\n",
       "      <th>customer_geolocation_lng</th>\n",
       "      <th>seller_zip_code_prefix</th>\n",
       "      <th>seller_city</th>\n",
       "      <th>seller_state</th>\n",
       "      <th>seller_geolocation_lat</th>\n",
       "      <th>seller_geolocation_lng</th>\n",
       "    </tr>\n",
       "  </thead>\n",
       "  <tbody>\n",
       "    <tr>\n",
       "      <th>0</th>\n",
       "      <td>e481f51cbdc54678b7cc49136f2d6af7</td>\n",
       "      <td>9ef432eb6251297304e76186b10a928d</td>\n",
       "      <td>2017-10-02 10:56:33</td>\n",
       "      <td>2017-10-10 21:25:13</td>\n",
       "      <td>2017-10-18 00:00:00</td>\n",
       "      <td>1</td>\n",
       "      <td>87285b34884572647811a353c7ac498a</td>\n",
       "      <td>3504c0cb71d7fa48d967e0e4c94d59d9</td>\n",
       "      <td>29.99</td>\n",
       "      <td>8.72</td>\n",
       "      <td>housewares</td>\n",
       "      <td>Low price</td>\n",
       "      <td>4</td>\n",
       "      <td>NaN</td>\n",
       "      <td>Não testei o produto ainda, mas ele veio corre...</td>\n",
       "      <td>7c396fd4830fd04220f754e42b4e5bff</td>\n",
       "      <td>3149</td>\n",
       "      <td>sao paulo</td>\n",
       "      <td>SP</td>\n",
       "      <td>-23.576475</td>\n",
       "      <td>-46.587290</td>\n",
       "      <td>9350</td>\n",
       "      <td>maua</td>\n",
       "      <td>SP</td>\n",
       "      <td>-23.680048</td>\n",
       "      <td>-46.443593</td>\n",
       "    </tr>\n",
       "    <tr>\n",
       "      <th>1</th>\n",
       "      <td>128e10d95713541c87cd1a2e48201934</td>\n",
       "      <td>a20e8105f23924cd00833fd87daa0831</td>\n",
       "      <td>2017-08-15 18:29:31</td>\n",
       "      <td>2017-08-18 14:44:43</td>\n",
       "      <td>2017-08-28 00:00:00</td>\n",
       "      <td>1</td>\n",
       "      <td>87285b34884572647811a353c7ac498a</td>\n",
       "      <td>3504c0cb71d7fa48d967e0e4c94d59d9</td>\n",
       "      <td>29.99</td>\n",
       "      <td>7.78</td>\n",
       "      <td>housewares</td>\n",
       "      <td>Low price</td>\n",
       "      <td>4</td>\n",
       "      <td>NaN</td>\n",
       "      <td>Deveriam embalar melhor o produto. A caixa vei...</td>\n",
       "      <td>3a51803cc0d012c3b5dc8b7528cb05f7</td>\n",
       "      <td>3366</td>\n",
       "      <td>sao paulo</td>\n",
       "      <td>SP</td>\n",
       "      <td>-23.564807</td>\n",
       "      <td>-46.533982</td>\n",
       "      <td>9350</td>\n",
       "      <td>maua</td>\n",
       "      <td>SP</td>\n",
       "      <td>-23.680048</td>\n",
       "      <td>-46.443593</td>\n",
       "    </tr>\n",
       "    <tr>\n",
       "      <th>2</th>\n",
       "      <td>bfc39df4f36c3693ff3b63fcbea9e90a</td>\n",
       "      <td>53904ddbea91e1e92b2b3f1d09a7af86</td>\n",
       "      <td>2017-10-23 23:26:46</td>\n",
       "      <td>2017-11-07 18:04:59</td>\n",
       "      <td>2017-11-13 00:00:00</td>\n",
       "      <td>1</td>\n",
       "      <td>87285b34884572647811a353c7ac498a</td>\n",
       "      <td>3504c0cb71d7fa48d967e0e4c94d59d9</td>\n",
       "      <td>29.99</td>\n",
       "      <td>14.10</td>\n",
       "      <td>housewares</td>\n",
       "      <td>Low price</td>\n",
       "      <td>3</td>\n",
       "      <td>NaN</td>\n",
       "      <td>NaN</td>\n",
       "      <td>e781fdcc107d13d865fc7698711cc572</td>\n",
       "      <td>88032</td>\n",
       "      <td>florianopolis</td>\n",
       "      <td>SC</td>\n",
       "      <td>-27.532709</td>\n",
       "      <td>-48.494774</td>\n",
       "      <td>9350</td>\n",
       "      <td>maua</td>\n",
       "      <td>SP</td>\n",
       "      <td>-23.680048</td>\n",
       "      <td>-46.443593</td>\n",
       "    </tr>\n",
       "    <tr>\n",
       "      <th>3</th>\n",
       "      <td>44905b3e611d2f738de87a2cca4961b2</td>\n",
       "      <td>93a705448fbbe8d2c10f151c0510cd0c</td>\n",
       "      <td>2017-08-06 21:03:00</td>\n",
       "      <td>2017-08-14 19:36:05</td>\n",
       "      <td>2017-08-29 00:00:00</td>\n",
       "      <td>1</td>\n",
       "      <td>5a419dbf24a8c9718fe522b81c69f61a</td>\n",
       "      <td>3504c0cb71d7fa48d967e0e4c94d59d9</td>\n",
       "      <td>44.49</td>\n",
       "      <td>15.10</td>\n",
       "      <td>cool_stuff</td>\n",
       "      <td>Low price</td>\n",
       "      <td>5</td>\n",
       "      <td>NaN</td>\n",
       "      <td>muito bom!</td>\n",
       "      <td>1bbae4260b7887325fccae14a592c130</td>\n",
       "      <td>39100</td>\n",
       "      <td>diamantina</td>\n",
       "      <td>MG</td>\n",
       "      <td>-18.241008</td>\n",
       "      <td>-43.602296</td>\n",
       "      <td>9350</td>\n",
       "      <td>maua</td>\n",
       "      <td>SP</td>\n",
       "      <td>-23.680048</td>\n",
       "      <td>-46.443593</td>\n",
       "    </tr>\n",
       "    <tr>\n",
       "      <th>4</th>\n",
       "      <td>0010b2e5201cc5f1ae7e9c6cc8f5bd00</td>\n",
       "      <td>57ef317d4818cb42680fc9dfd13867ce</td>\n",
       "      <td>2017-09-11 17:39:33</td>\n",
       "      <td>2017-09-23 13:21:21</td>\n",
       "      <td>2017-09-27 00:00:00</td>\n",
       "      <td>1</td>\n",
       "      <td>5a419dbf24a8c9718fe522b81c69f61a</td>\n",
       "      <td>3504c0cb71d7fa48d967e0e4c94d59d9</td>\n",
       "      <td>48.90</td>\n",
       "      <td>16.60</td>\n",
       "      <td>cool_stuff</td>\n",
       "      <td>Low price</td>\n",
       "      <td>5</td>\n",
       "      <td>NaN</td>\n",
       "      <td>NaN</td>\n",
       "      <td>e883f26917e2095c439f70c2cf8c914b</td>\n",
       "      <td>22461</td>\n",
       "      <td>rio de janeiro</td>\n",
       "      <td>RJ</td>\n",
       "      <td>-22.961106</td>\n",
       "      <td>-43.211960</td>\n",
       "      <td>9350</td>\n",
       "      <td>maua</td>\n",
       "      <td>SP</td>\n",
       "      <td>-23.680048</td>\n",
       "      <td>-46.443593</td>\n",
       "    </tr>\n",
       "  </tbody>\n",
       "</table>\n",
       "</div>"
      ],
      "text/plain": [
       "                           order_id                       customer_id  \\\n",
       "0  e481f51cbdc54678b7cc49136f2d6af7  9ef432eb6251297304e76186b10a928d   \n",
       "1  128e10d95713541c87cd1a2e48201934  a20e8105f23924cd00833fd87daa0831   \n",
       "2  bfc39df4f36c3693ff3b63fcbea9e90a  53904ddbea91e1e92b2b3f1d09a7af86   \n",
       "3  44905b3e611d2f738de87a2cca4961b2  93a705448fbbe8d2c10f151c0510cd0c   \n",
       "4  0010b2e5201cc5f1ae7e9c6cc8f5bd00  57ef317d4818cb42680fc9dfd13867ce   \n",
       "\n",
       "         purchase_date delivered_customer_date estimated_delivery_date  \\\n",
       "0  2017-10-02 10:56:33     2017-10-10 21:25:13     2017-10-18 00:00:00   \n",
       "1  2017-08-15 18:29:31     2017-08-18 14:44:43     2017-08-28 00:00:00   \n",
       "2  2017-10-23 23:26:46     2017-11-07 18:04:59     2017-11-13 00:00:00   \n",
       "3  2017-08-06 21:03:00     2017-08-14 19:36:05     2017-08-29 00:00:00   \n",
       "4  2017-09-11 17:39:33     2017-09-23 13:21:21     2017-09-27 00:00:00   \n",
       "\n",
       "   item_count                        product_id  \\\n",
       "0           1  87285b34884572647811a353c7ac498a   \n",
       "1           1  87285b34884572647811a353c7ac498a   \n",
       "2           1  87285b34884572647811a353c7ac498a   \n",
       "3           1  5a419dbf24a8c9718fe522b81c69f61a   \n",
       "4           1  5a419dbf24a8c9718fe522b81c69f61a   \n",
       "\n",
       "                          seller_id  price  freight_value prod_category  \\\n",
       "0  3504c0cb71d7fa48d967e0e4c94d59d9  29.99           8.72    housewares   \n",
       "1  3504c0cb71d7fa48d967e0e4c94d59d9  29.99           7.78    housewares   \n",
       "2  3504c0cb71d7fa48d967e0e4c94d59d9  29.99          14.10    housewares   \n",
       "3  3504c0cb71d7fa48d967e0e4c94d59d9  44.49          15.10    cool_stuff   \n",
       "4  3504c0cb71d7fa48d967e0e4c94d59d9  48.90          16.60    cool_stuff   \n",
       "\n",
       "  Price category  review_score review_title  \\\n",
       "0      Low price             4          NaN   \n",
       "1      Low price             4          NaN   \n",
       "2      Low price             3          NaN   \n",
       "3      Low price             5          NaN   \n",
       "4      Low price             5          NaN   \n",
       "\n",
       "                                      review_comment  \\\n",
       "0  Não testei o produto ainda, mas ele veio corre...   \n",
       "1  Deveriam embalar melhor o produto. A caixa vei...   \n",
       "2                                                NaN   \n",
       "3                                         muito bom!   \n",
       "4                                                NaN   \n",
       "\n",
       "                 customer_unique_id  customer_zip_code_prefix   customer_city  \\\n",
       "0  7c396fd4830fd04220f754e42b4e5bff                      3149       sao paulo   \n",
       "1  3a51803cc0d012c3b5dc8b7528cb05f7                      3366       sao paulo   \n",
       "2  e781fdcc107d13d865fc7698711cc572                     88032   florianopolis   \n",
       "3  1bbae4260b7887325fccae14a592c130                     39100      diamantina   \n",
       "4  e883f26917e2095c439f70c2cf8c914b                     22461  rio de janeiro   \n",
       "\n",
       "  customer_state  customer_geolocation_lat  customer_geolocation_lng  \\\n",
       "0             SP                -23.576475                -46.587290   \n",
       "1             SP                -23.564807                -46.533982   \n",
       "2             SC                -27.532709                -48.494774   \n",
       "3             MG                -18.241008                -43.602296   \n",
       "4             RJ                -22.961106                -43.211960   \n",
       "\n",
       "   seller_zip_code_prefix seller_city seller_state  seller_geolocation_lat  \\\n",
       "0                    9350        maua           SP              -23.680048   \n",
       "1                    9350        maua           SP              -23.680048   \n",
       "2                    9350        maua           SP              -23.680048   \n",
       "3                    9350        maua           SP              -23.680048   \n",
       "4                    9350        maua           SP              -23.680048   \n",
       "\n",
       "   seller_geolocation_lng  \n",
       "0              -46.443593  \n",
       "1              -46.443593  \n",
       "2              -46.443593  \n",
       "3              -46.443593  \n",
       "4              -46.443593  "
      ]
     },
     "execution_count": 102,
     "metadata": {},
     "output_type": "execute_result"
    }
   ],
   "source": [
    "# check head\n",
    "\n",
    "df_all_merged.head()"
   ]
  },
  {
   "cell_type": "code",
   "execution_count": null,
   "id": "6e7b7f61-63d4-4fd2-bcca-bbbe646b9d50",
   "metadata": {},
   "outputs": [],
   "source": [
    "df_all_merged.info()"
   ]
  },
  {
   "cell_type": "code",
   "execution_count": 103,
   "id": "e79180f3-dda4-41e4-bc1a-9a81511ff980",
   "metadata": {},
   "outputs": [
    {
     "name": "stderr",
     "output_type": "stream",
     "text": [
      "C:\\Users\\junio\\anaconda3\\Lib\\site-packages\\seaborn\\_oldcore.py:1119: FutureWarning: use_inf_as_na option is deprecated and will be removed in a future version. Convert inf values to NaN before operating instead.\n",
      "  with pd.option_context('mode.use_inf_as_na', True):\n"
     ]
    },
    {
     "data": {
      "text/plain": [
       "<Axes: xlabel='price', ylabel='Count'>"
      ]
     },
     "execution_count": 103,
     "metadata": {},
     "output_type": "execute_result"
    },
    {
     "data": {
      "image/png": "[encoded data removed]",
      "text/plain": [
       "<Figure size 640x480 with 1 Axes>"
      ]
     },
     "metadata": {},
     "output_type": "display_data"
    }
   ],
   "source": [
    "sns.histplot(df_all_merged['price'], bins=25, kde = True) # shows extreme values for 'price'"
   ]
  },
  {
   "cell_type": "markdown",
   "id": "1f7d0b68-acd4-48e1-98b2-31361973a901",
   "metadata": {},
   "source": [
    "### 10. Export the final version of the data set"
   ]
  },
  {
   "cell_type": "code",
   "execution_count": 107,
   "id": "d1762f4f-5be2-45c2-80ea-91ede64ad991",
   "metadata": {},
   "outputs": [],
   "source": [
    "# Export all merged data set\n",
    "\n",
    "df_all_merged.to_csv(os.path.join(path, '02 Data', 'Prepared Data', 'df_all_merged.csv'), index = False)"
   ]
  },
  {
   "cell_type": "code",
   "execution_count": null,
   "id": "b3190bef-8ce4-4ed0-8f4c-c4e0bfa5a4ec",
   "metadata": {},
   "outputs": [],
   "source": []
  }
 ],
 "metadata": {
  "kernelspec": {
   "display_name": "Python 3 (ipykernel)",
   "language": "python",
   "name": "python3"
  },
  "language_info": {
   "codemirror_mode": {
    "name": "ipython",
    "version": 3
   },
   "file_extension": ".py",
   "mimetype": "text/x-python",
   "name": "python",
   "nbconvert_exporter": "python",
   "pygments_lexer": "ipython3",
   "version": "3.11.5"
  }
 },
 "nbformat": 4,
 "nbformat_minor": 5
}
